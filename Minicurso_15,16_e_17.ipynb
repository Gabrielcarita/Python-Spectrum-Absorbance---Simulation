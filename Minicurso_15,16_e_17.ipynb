{
  "nbformat": 4,
  "nbformat_minor": 0,
  "metadata": {
    "colab": {
      "name": "Minicurso 15,16 e 17.ipynb",
      "version": "0.3.2",
      "provenance": [],
      "collapsed_sections": [
        "H8mDtdx6i6U7"
      ],
      "toc_visible": true,
      "include_colab_link": true
    },
    "kernelspec": {
      "name": "python3",
      "display_name": "Python 3"
    }
  },
  "cells": [
    {
      "cell_type": "markdown",
      "metadata": {
        "id": "view-in-github",
        "colab_type": "text"
      },
      "source": [
        "<a href=\"https://colab.research.google.com/github/Gabrielcarita/Python-Spectrum-Absorbance---Simulation/blob/master/Minicurso_15%2C16_e_17.ipynb\" target=\"_parent\"><img src=\"https://colab.research.google.com/assets/colab-badge.svg\" alt=\"Open In Colab\"/></a>"
      ]
    },
    {
      "cell_type": "markdown",
      "metadata": {
        "id": "OGYHzkK3qZGs",
        "colab_type": "text"
      },
      "source": [
        "### Imports de inicialização"
      ]
    },
    {
      "cell_type": "code",
      "metadata": {
        "id": "qhs6Br87zmvU",
        "colab_type": "code",
        "colab": {}
      },
      "source": [
        "\n",
        "from IPython.display import HTML, Math\n",
        "def mview(e):\n",
        "  display(HTML(\"<script src='https://cdnjs.cloudflare.com/ajax/libs/mathjax/2.7.3/\"\n",
        "         \"latest.js?config=default'></script>\"))\n",
        "  return Math(latex(e))"
      ],
      "execution_count": 0,
      "outputs": []
    },
    {
      "cell_type": "markdown",
      "metadata": {
        "id": "RPhUPM8CipC2",
        "colab_type": "text"
      },
      "source": [
        "##Introdução - Minicurso Programação em Python 3 aplicada"
      ]
    },
    {
      "cell_type": "markdown",
      "metadata": {
        "id": "MbaaFNEdzvWV",
        "colab_type": "text"
      },
      "source": [
        "\n",
        "###Gabriel Caritá, João Ambrozetto\n",
        "\n",
        "\n",
        "####O que é o Python ?\n",
        "\n",
        "![Python](https://python.rs/pylogo.png)\n",
        "\n",
        "\n",
        "#### Onde e quando irei utilizar ?\n",
        "\n",
        "Em tudo principalmente no laboratório\n",
        "\n",
        "\n",
        "#### Como instalar o Python e começar a programar ? \n",
        "![anaconda](https://repo.continuum.io/assets/img/logo.png)\n",
        "\n",
        "[Clique aqui!](https://www.anaconda.com)\n",
        "\n",
        "![Jupyter Notebook](https://jupyter.org/assets/homepage.png)\n",
        "\n",
        "\n",
        "![Colab](https://miro.medium.com/max/1086/1*g_x1-5iYRn-SmdVucceiWw.png)\n"
      ]
    },
    {
      "cell_type": "markdown",
      "metadata": {
        "id": "HhEzFQSt14XL",
        "colab_type": "text"
      },
      "source": [
        "### O que é possível fazer ?\n",
        "\n",
        "Uma infinidade de coisas, principalmente análise de dados científicos\n",
        "\n",
        "![alt text](https://fazerlab.files.wordpress.com/2016/03/matplotlib_01_abertura.jpg)\n",
        "\n",
        "![alt text](https://estatsite.files.wordpress.com/2018/03/graficos_python_21.png?w=940 )\n",
        "![Figura3](https://i.imgur.com/Vh9LuJH.gif)\n"
      ]
    },
    {
      "cell_type": "markdown",
      "metadata": {
        "id": "I-itZg8wlWYW",
        "colab_type": "text"
      },
      "source": [
        "### Séries de Fourrier para a Equação de Calor : Exemplo de uso"
      ]
    },
    {
      "cell_type": "code",
      "metadata": {
        "id": "t55eQ0s2l7xR",
        "colab_type": "code",
        "outputId": "ec7f47dc-6449-442f-b4e8-2984c90e6de4",
        "colab": {
          "base_uri": "https://localhost:8080/",
          "height": 336
        }
      },
      "source": [
        "### Importando as bibliotecas\n",
        "import sympy as sp\n",
        "import numpy as np\n",
        "from mpl_toolkits.mplot3d import Axes3D\n",
        "import matplotlib.pyplot as plt\n",
        "from sympy.plotting import plot3d\n",
        "\n",
        "psub=np.pi #Variável de substituição para colocar pi dentro do argumento do das funções\n",
        "\n",
        "### Insira uma função 'func', um valor de L e um 'alfa':\n",
        "func = x\n",
        "L = 50\n",
        "alfa = 1\n",
        "\n",
        "### Define os símbolos para as operações simbólicas do sympy\n",
        "x = sp.symbols('x')\n",
        "n = sp.symbols('n')\n",
        "t = sp.symbols('t')\n",
        "p = sp.symbols('p')\n",
        "sp.init_printing()\n",
        "\n",
        "### Calcula o coeficiente 'cn':\n",
        "fcos = sp.cos(p*n*x/L)*func\n",
        "print(fcos)\n",
        "cn = (2/L * (sp.integrate(fcos, (x,0,L))))\n",
        "print(cn)\n",
        "\n",
        "### Faz o somatório, incluindo o termo exponencial:\n",
        "f_c_soma = 0\n",
        "for i in range(5):\n",
        "  f_cf = (cn * (np.e**(-((n**2)*(sp.pi**2)*(alfa**2)*t)/(L**2)))*sp.cos(p*n*x/L))\n",
        "  f_cf_r = f_cf.subs({n:i ,p:psub})\n",
        "  f_c_soma = f_c_soma + f_cf_r\n",
        "\n",
        "print(f_c_soma.evalf())\n",
        "\n",
        "### Plotando o gráfico:  \n",
        "def f(x, t):\n",
        "  return f_c_soma.evalf()\n",
        "\n",
        "plot3d(f(x,t),(x,-5,5),(t,-25,25),ylabel='t',xlabel='x',zlabel='z')"
      ],
      "execution_count": 0,
      "outputs": [
        {
          "output_type": "stream",
          "text": [
            "x*cos(n*p*x/50)\n",
            "0.04*Piecewise((1250, Eq(n, 0) | Eq(p, 0)), (2500*sin(n*p)/(n*p) + 2500*cos(n*p)/(n**2*p**2) - 2500/(n**2*p**2), True))\n",
            "50.0 - 3.90798504668055e-15*2.71828182845905**(-0.0631654681669719*t)*cos(0.251327412287183*x) - 2.25158185871861*2.71828182845905**(-0.0355305758439217*t)*cos(0.188495559215388*x) - 3.89817183251938e-15*2.71828182845905**(-0.015791367041743*t)*cos(0.125663706143592*x) - 20.2642367284676*2.71828182845905**(-0.00394784176043574*t)*cos(0.0628318530717959*x)\n"
          ],
          "name": "stdout"
        },
        {
          "output_type": "display_data",
          "data": {
            "image/png": "[encoded data removed]",
            "text/plain": [
              "<Figure size 432x288 with 1 Axes>"
            ]
          },
          "metadata": {
            "tags": []
          }
        },
        {
          "output_type": "execute_result",
          "data": {
            "text/plain": [
              "<sympy.plotting.plot.Plot at 0x7fb40f7d4be0>"
            ]
          },
          "metadata": {
            "tags": []
          },
          "execution_count": 102
        }
      ]
    },
    {
      "cell_type": "markdown",
      "metadata": {
        "id": "YZ5i0NdniedB",
        "colab_type": "text"
      },
      "source": [
        "##Parte 1"
      ]
    },
    {
      "cell_type": "markdown",
      "metadata": {
        "id": "ZNjrRCKawsW3",
        "colab_type": "text"
      },
      "source": [
        "### Operações básicas"
      ]
    },
    {
      "cell_type": "code",
      "metadata": {
        "id": "1x4BMtTrwukC",
        "colab_type": "code",
        "outputId": "7c56a13e-873c-4cc3-ead2-3b5deff08f83",
        "colab": {
          "base_uri": "https://localhost:8080/",
          "height": 34
        }
      },
      "source": [
        "h = 2*2 #multplicação\n",
        "\n",
        "print(h) ### mostrar resultado"
      ],
      "execution_count": 0,
      "outputs": [
        {
          "output_type": "stream",
          "text": [
            "4\n"
          ],
          "name": "stdout"
        }
      ]
    },
    {
      "cell_type": "code",
      "metadata": {
        "id": "B_vo0Rp4w32T",
        "colab_type": "code",
        "outputId": "6d9312a5-7ee7-496f-cab0-533323f5cc71",
        "colab": {
          "base_uri": "https://localhost:8080/",
          "height": 34
        }
      },
      "source": [
        "h = 2/2 #divisão\n",
        "\n",
        "print(h) ### mostrar resultado"
      ],
      "execution_count": 0,
      "outputs": [
        {
          "output_type": "stream",
          "text": [
            "1.0\n"
          ],
          "name": "stdout"
        }
      ]
    },
    {
      "cell_type": "code",
      "metadata": {
        "id": "DW4ZngWbw7k7",
        "colab_type": "code",
        "outputId": "f0a46bdb-4963-4e5c-8fe5-b32f4f5cc4e2",
        "colab": {
          "base_uri": "https://localhost:8080/",
          "height": 34
        }
      },
      "source": [
        "h = 2**2 ## potenciação\n",
        "\n",
        "print(h) ### mostrar resultado"
      ],
      "execution_count": 0,
      "outputs": [
        {
          "output_type": "stream",
          "text": [
            "4\n"
          ],
          "name": "stdout"
        }
      ]
    },
    {
      "cell_type": "code",
      "metadata": {
        "id": "ndrzO3mHxBAK",
        "colab_type": "code",
        "outputId": "15a0cbcf-b278-4d4c-bb1c-6398895a98e4",
        "colab": {
          "base_uri": "https://localhost:8080/",
          "height": 34
        }
      },
      "source": [
        "h = 4**(1/2) ## raiz\n",
        "\n",
        "print(h) ### mostrar resultado"
      ],
      "execution_count": 0,
      "outputs": [
        {
          "output_type": "stream",
          "text": [
            "2.0\n"
          ],
          "name": "stdout"
        }
      ]
    },
    {
      "cell_type": "markdown",
      "metadata": {
        "id": "V5L90cEO3PMW",
        "colab_type": "text"
      },
      "source": [
        "### Bibliotecas do Python mais utilizadas para análise de dados\n",
        "\n",
        "Pandas, Numpy, Sympy, Math, Matplotlib"
      ]
    },
    {
      "cell_type": "code",
      "metadata": {
        "id": "MfAWBgHy3vFE",
        "colab_type": "code",
        "colab": {}
      },
      "source": [
        "# como chamar uma biblioteca\n",
        "\n",
        "import numpy as np\n",
        "import pandas as pd\n",
        "import sympy as sp\n",
        "import matplotlib.pyplot as plt\n",
        "import math as mt"
      ],
      "execution_count": 0,
      "outputs": []
    },
    {
      "cell_type": "code",
      "metadata": {
        "id": "MFXNOwG14k_6",
        "colab_type": "code",
        "colab": {}
      },
      "source": [
        "### analisando primeiro caso !!!"
      ],
      "execution_count": 0,
      "outputs": []
    },
    {
      "cell_type": "markdown",
      "metadata": {
        "id": "tDKq2Cel4n3j",
        "colab_type": "text"
      },
      "source": [
        "### Experimento do Interferômetro\n",
        "\n",
        "$$\\Delta m = \\frac{2\\Delta L} {\\lambda}  $$\n",
        "\n",
        "![alt text](https://encrypted-tbn0.gstatic.com/images?q=tbn:ANd9GcQScfTnRKCOg7QdG5RV3TfX2tSCoSdj7vxo5V7p2YehUEMy4NdH)\n",
        "\n",
        "Como calcular o número de franjas ? sabendo que $\\lambda_{verde} = 532.5 \\ nm$ e $\\Delta L = 15E-6$"
      ]
    },
    {
      "cell_type": "code",
      "metadata": {
        "id": "SViyX6Ly57Zn",
        "colab_type": "code",
        "outputId": "cab448a9-24ee-41aa-b1a4-45859c05ea54",
        "colab": {
          "base_uri": "https://localhost:8080/",
          "height": 51
        }
      },
      "source": [
        "#definimos as constantes\n",
        "\n",
        "lambda_verde = 532.5E-9 #### E-9 elevado a -9\n",
        "\n",
        "delta_l = 15E-6\n",
        "\n",
        "print(lambda_verde)\n",
        "print(delta_l)\n"
      ],
      "execution_count": 0,
      "outputs": [
        {
          "output_type": "stream",
          "text": [
            "5.325e-07\n",
            "1.5e-05\n"
          ],
          "name": "stdout"
        }
      ]
    },
    {
      "cell_type": "code",
      "metadata": {
        "id": "L9KJ81pPWQQf",
        "colab_type": "code",
        "outputId": "e9ee7378-065c-4b23-a407-4c839d692012",
        "colab": {
          "base_uri": "https://localhost:8080/",
          "height": 34
        }
      },
      "source": [
        "## definindo delta_m\n",
        "\n",
        "delta_m = 2*delta_l/lambda_verde\n",
        "\n",
        "print(delta_m)"
      ],
      "execution_count": 0,
      "outputs": [
        {
          "output_type": "stream",
          "text": [
            "56.33802816901409\n"
          ],
          "name": "stdout"
        }
      ]
    },
    {
      "cell_type": "markdown",
      "metadata": {
        "id": "9wKWLhepWoN4",
        "colab_type": "text"
      },
      "source": [
        "### Utilize os valores de lambda abaixo e determina os valores de $\\Delta m$\n",
        "\n",
        "$\\lambda_1 = 600 nm$\n",
        "\n",
        "$\\lambda_2 = 585.2 nm$\n"
      ]
    },
    {
      "cell_type": "code",
      "metadata": {
        "id": "22DOuNMXXWsT",
        "colab_type": "code",
        "outputId": "1a0e4594-0936-4946-c227-0cadbad2bc73",
        "colab": {
          "base_uri": "https://localhost:8080/",
          "height": 51
        }
      },
      "source": [
        "lambda_1 = 600E-9\n",
        "lambda_2 = 585.2E-9\n",
        "\n",
        "print(lambda_1)\n",
        "print(lambda_2)"
      ],
      "execution_count": 0,
      "outputs": [
        {
          "output_type": "stream",
          "text": [
            "6e-07\n",
            "5.852e-07\n"
          ],
          "name": "stdout"
        }
      ]
    },
    {
      "cell_type": "code",
      "metadata": {
        "id": "rE7Vbg5wXsNV",
        "colab_type": "code",
        "outputId": "bf08b08d-c641-4315-8d3a-cdf5e5bcdeb4",
        "colab": {
          "base_uri": "https://localhost:8080/",
          "height": 85
        }
      },
      "source": [
        "delta_m1 = 2*delta_l/lambda_1\n",
        "\n",
        "delta_m2 = 2*delta_l/lambda_2\n",
        "\n",
        "print(delta_m1)\n",
        "print(delta_m2)\n",
        "print('resultado 1 =',delta_m1)\n",
        "print('resultado 2 =',delta_m2)"
      ],
      "execution_count": 0,
      "outputs": [
        {
          "output_type": "stream",
          "text": [
            "50.0\n",
            "51.26452494873548\n",
            "resultado 1 = 50.0\n",
            "resultado 2 = 51.26452494873548\n"
          ],
          "name": "stdout"
        }
      ]
    },
    {
      "cell_type": "code",
      "metadata": {
        "id": "tgdWIeLIZlMZ",
        "colab_type": "code",
        "colab": {}
      },
      "source": [
        "#### faça o mesmo para os lambdas = 200, 300 ,400 , 450 e 600\n",
        "\n",
        "\n",
        "\n",
        "\n",
        "\n"
      ],
      "execution_count": 0,
      "outputs": []
    },
    {
      "cell_type": "code",
      "metadata": {
        "id": "QeFo4irScmHE",
        "colab_type": "code",
        "outputId": "5c7c32e3-9d2a-47cc-f1b2-16e7b9a5f13f",
        "colab": {
          "base_uri": "https://localhost:8080/",
          "height": 51
        }
      },
      "source": [
        "####### CRIANDO UMA LISTA DE DADOS\n",
        "\n",
        "x = [0,1,2,3,4,5,6,7,8,9]\n",
        "y = [10,15,20,25,30,35,40,45,50,55]\n",
        "\n",
        "print(x)\n",
        "print(y)\n",
        "\n"
      ],
      "execution_count": 0,
      "outputs": [
        {
          "output_type": "stream",
          "text": [
            "[0, 1, 2, 3, 4, 5, 6, 7, 8, 9]\n",
            "[10, 15, 20, 25, 30, 35, 40, 45, 50, 55]\n"
          ],
          "name": "stdout"
        }
      ]
    },
    {
      "cell_type": "code",
      "metadata": {
        "id": "gLydjyr-l779",
        "colab_type": "code",
        "colab": {}
      },
      "source": [
        "dados_1 = pd.DataFrame({'coluna_x': x , 'coluna_y': y})"
      ],
      "execution_count": 0,
      "outputs": []
    },
    {
      "cell_type": "code",
      "metadata": {
        "id": "rgoVVHZUlVCg",
        "colab_type": "code",
        "outputId": "36fa4334-a9a3-441b-fa12-fbe7c309863e",
        "colab": {
          "base_uri": "https://localhost:8080/",
          "height": 359
        }
      },
      "source": [
        "dados_1.head(10)"
      ],
      "execution_count": 0,
      "outputs": [
        {
          "output_type": "execute_result",
          "data": {
            "text/html": [
              "<div>\n",
              "<style scoped>\n",
              "    .dataframe tbody tr th:only-of-type {\n",
              "        vertical-align: middle;\n",
              "    }\n",
              "\n",
              "    .dataframe tbody tr th {\n",
              "        vertical-align: top;\n",
              "    }\n",
              "\n",
              "    .dataframe thead th {\n",
              "        text-align: right;\n",
              "    }\n",
              "</style>\n",
              "<table border=\"1\" class=\"dataframe\">\n",
              "  <thead>\n",
              "    <tr style=\"text-align: right;\">\n",
              "      <th></th>\n",
              "      <th>coluna_x</th>\n",
              "      <th>coluna_y</th>\n",
              "    </tr>\n",
              "  </thead>\n",
              "  <tbody>\n",
              "    <tr>\n",
              "      <th>0</th>\n",
              "      <td>0</td>\n",
              "      <td>10</td>\n",
              "    </tr>\n",
              "    <tr>\n",
              "      <th>1</th>\n",
              "      <td>1</td>\n",
              "      <td>15</td>\n",
              "    </tr>\n",
              "    <tr>\n",
              "      <th>2</th>\n",
              "      <td>2</td>\n",
              "      <td>20</td>\n",
              "    </tr>\n",
              "    <tr>\n",
              "      <th>3</th>\n",
              "      <td>3</td>\n",
              "      <td>25</td>\n",
              "    </tr>\n",
              "    <tr>\n",
              "      <th>4</th>\n",
              "      <td>4</td>\n",
              "      <td>30</td>\n",
              "    </tr>\n",
              "    <tr>\n",
              "      <th>5</th>\n",
              "      <td>5</td>\n",
              "      <td>35</td>\n",
              "    </tr>\n",
              "    <tr>\n",
              "      <th>6</th>\n",
              "      <td>6</td>\n",
              "      <td>40</td>\n",
              "    </tr>\n",
              "    <tr>\n",
              "      <th>7</th>\n",
              "      <td>7</td>\n",
              "      <td>45</td>\n",
              "    </tr>\n",
              "    <tr>\n",
              "      <th>8</th>\n",
              "      <td>8</td>\n",
              "      <td>50</td>\n",
              "    </tr>\n",
              "    <tr>\n",
              "      <th>9</th>\n",
              "      <td>9</td>\n",
              "      <td>55</td>\n",
              "    </tr>\n",
              "  </tbody>\n",
              "</table>\n",
              "</div>"
            ],
            "text/plain": [
              "   coluna_x  coluna_y\n",
              "0         0        10\n",
              "1         1        15\n",
              "2         2        20\n",
              "3         3        25\n",
              "4         4        30\n",
              "5         5        35\n",
              "6         6        40\n",
              "7         7        45\n",
              "8         8        50\n",
              "9         9        55"
            ]
          },
          "metadata": {
            "tags": []
          },
          "execution_count": 27
        }
      ]
    },
    {
      "cell_type": "markdown",
      "metadata": {
        "id": "QENLLCN9eeMm",
        "colab_type": "text"
      },
      "source": [
        "### (For) como usar ?\n",
        "\n",
        "BÁSICO\n",
        "\n"
      ]
    },
    {
      "cell_type": "code",
      "metadata": {
        "id": "F_EdIxgRejPm",
        "colab_type": "code",
        "colab": {}
      },
      "source": [
        "###### como usar (for) simples ####### exemplo :"
      ],
      "execution_count": 0,
      "outputs": []
    },
    {
      "cell_type": "code",
      "metadata": {
        "id": "j-4cqwE5grJb",
        "colab_type": "code",
        "outputId": "9c80a749-6073-4b9f-a8a7-fb8405a3cce7",
        "colab": {
          "base_uri": "https://localhost:8080/",
          "height": 187
        }
      },
      "source": [
        "p=0\n",
        "\n",
        "for i in range(10):\n",
        "  p = p+1\n",
        "  print(p)"
      ],
      "execution_count": 0,
      "outputs": [
        {
          "output_type": "stream",
          "text": [
            "1\n",
            "2\n",
            "3\n",
            "4\n",
            "5\n",
            "6\n",
            "7\n",
            "8\n",
            "9\n",
            "10\n"
          ],
          "name": "stdout"
        }
      ]
    },
    {
      "cell_type": "code",
      "metadata": {
        "id": "XcG9oMFSmN_v",
        "colab_type": "code",
        "outputId": "b8f681f7-43ff-4492-f53a-9a179f0531fd",
        "colab": {
          "base_uri": "https://localhost:8080/",
          "height": 34
        }
      },
      "source": [
        "###criando uma  lista usando for ### contador\n",
        "\n",
        "j=[] #####lista vazia\n",
        "k=0\n",
        "\n",
        "for i in range(10):\n",
        "  k=k+10\n",
        "  j.append(k) #####APPEND ADICIONA O VALOR A UMA LISTA\n",
        "  \n",
        "  \n",
        "print(j)"
      ],
      "execution_count": 0,
      "outputs": [
        {
          "output_type": "stream",
          "text": [
            "[10, 20, 30, 40, 50, 60, 70, 80, 90, 100]\n"
          ],
          "name": "stdout"
        }
      ]
    },
    {
      "cell_type": "code",
      "metadata": {
        "id": "yP-IrVy9mi2S",
        "colab_type": "code",
        "outputId": "a099bfcc-e5ad-45fd-dcce-475aebd6b7ce",
        "colab": {
          "base_uri": "https://localhost:8080/",
          "height": 197
        }
      },
      "source": [
        "j.head(10) ###### é uma lista e não um data frame!!!!!\n",
        "\n",
        "### como transformar um data frame ?? USE O PANDAS"
      ],
      "execution_count": 0,
      "outputs": [
        {
          "output_type": "error",
          "ename": "AttributeError",
          "evalue": "ignored",
          "traceback": [
            "\u001b[0;31m---------------------------------------------------------------------------\u001b[0m",
            "\u001b[0;31mAttributeError\u001b[0m                            Traceback (most recent call last)",
            "\u001b[0;32m<ipython-input-74-2315f40bca2c>\u001b[0m in \u001b[0;36m<module>\u001b[0;34m()\u001b[0m\n\u001b[0;32m----> 1\u001b[0;31m \u001b[0mj\u001b[0m\u001b[0;34m.\u001b[0m\u001b[0mhead\u001b[0m\u001b[0;34m(\u001b[0m\u001b[0;36m10\u001b[0m\u001b[0;34m)\u001b[0m \u001b[0;31m###### é uma lista e não um data frame!!!!!\u001b[0m\u001b[0;34m\u001b[0m\u001b[0;34m\u001b[0m\u001b[0m\n\u001b[0m\u001b[1;32m      2\u001b[0m \u001b[0;34m\u001b[0m\u001b[0m\n\u001b[1;32m      3\u001b[0m \u001b[0;31m### como transformar um data frame ?? USE O PANDAS\u001b[0m\u001b[0;34m\u001b[0m\u001b[0;34m\u001b[0m\u001b[0;34m\u001b[0m\u001b[0m\n",
            "\u001b[0;31mAttributeError\u001b[0m: 'list' object has no attribute 'head'"
          ]
        }
      ]
    },
    {
      "cell_type": "code",
      "metadata": {
        "id": "Xo33uwv8ms4Y",
        "colab_type": "code",
        "colab": {}
      },
      "source": [
        "tabela_j =pd.DataFrame({'j':j})"
      ],
      "execution_count": 0,
      "outputs": []
    },
    {
      "cell_type": "code",
      "metadata": {
        "id": "2qmEkbRSnBz6",
        "colab_type": "code",
        "outputId": "3766aeb5-2f35-4950-e0c6-4418333c2dae",
        "colab": {
          "base_uri": "https://localhost:8080/",
          "height": 359
        }
      },
      "source": [
        "tabela_j.head(10)"
      ],
      "execution_count": 0,
      "outputs": [
        {
          "output_type": "execute_result",
          "data": {
            "text/html": [
              "<div>\n",
              "<style scoped>\n",
              "    .dataframe tbody tr th:only-of-type {\n",
              "        vertical-align: middle;\n",
              "    }\n",
              "\n",
              "    .dataframe tbody tr th {\n",
              "        vertical-align: top;\n",
              "    }\n",
              "\n",
              "    .dataframe thead th {\n",
              "        text-align: right;\n",
              "    }\n",
              "</style>\n",
              "<table border=\"1\" class=\"dataframe\">\n",
              "  <thead>\n",
              "    <tr style=\"text-align: right;\">\n",
              "      <th></th>\n",
              "      <th>j</th>\n",
              "    </tr>\n",
              "  </thead>\n",
              "  <tbody>\n",
              "    <tr>\n",
              "      <th>0</th>\n",
              "      <td>10</td>\n",
              "    </tr>\n",
              "    <tr>\n",
              "      <th>1</th>\n",
              "      <td>20</td>\n",
              "    </tr>\n",
              "    <tr>\n",
              "      <th>2</th>\n",
              "      <td>30</td>\n",
              "    </tr>\n",
              "    <tr>\n",
              "      <th>3</th>\n",
              "      <td>40</td>\n",
              "    </tr>\n",
              "    <tr>\n",
              "      <th>4</th>\n",
              "      <td>50</td>\n",
              "    </tr>\n",
              "    <tr>\n",
              "      <th>5</th>\n",
              "      <td>60</td>\n",
              "    </tr>\n",
              "    <tr>\n",
              "      <th>6</th>\n",
              "      <td>70</td>\n",
              "    </tr>\n",
              "    <tr>\n",
              "      <th>7</th>\n",
              "      <td>80</td>\n",
              "    </tr>\n",
              "    <tr>\n",
              "      <th>8</th>\n",
              "      <td>90</td>\n",
              "    </tr>\n",
              "    <tr>\n",
              "      <th>9</th>\n",
              "      <td>100</td>\n",
              "    </tr>\n",
              "  </tbody>\n",
              "</table>\n",
              "</div>"
            ],
            "text/plain": [
              "     j\n",
              "0   10\n",
              "1   20\n",
              "2   30\n",
              "3   40\n",
              "4   50\n",
              "5   60\n",
              "6   70\n",
              "7   80\n",
              "8   90\n",
              "9  100"
            ]
          },
          "metadata": {
            "tags": []
          },
          "execution_count": 76
        }
      ]
    },
    {
      "cell_type": "code",
      "metadata": {
        "id": "x4jqcT8qnIDa",
        "colab_type": "code",
        "outputId": "23c22776-e235-46b3-86a9-d8ff728f1b96",
        "colab": {
          "base_uri": "https://localhost:8080/",
          "height": 204
        }
      },
      "source": [
        "tabela_j.j ##### chamando a coluna da tabela do pandas"
      ],
      "execution_count": 0,
      "outputs": [
        {
          "output_type": "execute_result",
          "data": {
            "text/plain": [
              "0     10\n",
              "1     20\n",
              "2     30\n",
              "3     40\n",
              "4     50\n",
              "5     60\n",
              "6     70\n",
              "7     80\n",
              "8     90\n",
              "9    100\n",
              "Name: j, dtype: int64"
            ]
          },
          "metadata": {
            "tags": []
          },
          "execution_count": 77
        }
      ]
    },
    {
      "cell_type": "code",
      "metadata": {
        "id": "3_Ch-Kt-otM4",
        "colab_type": "code",
        "outputId": "ba1ead15-3970-46c9-fbdd-a04d7d6adb57",
        "colab": {
          "base_uri": "https://localhost:8080/",
          "height": 34
        }
      },
      "source": [
        "#### ADICIONANDO UMA COLUNA A MAIS EM UM DATAFRAME\n",
        "\n",
        "u=[]\n",
        "t = 0\n",
        "for i in range(10):\n",
        "  t = t +1\n",
        "  u.append(t)\n",
        "  \n",
        "print(u)\n",
        "\n",
        "\n",
        "tabela_j['u'] = u"
      ],
      "execution_count": 0,
      "outputs": [
        {
          "output_type": "stream",
          "text": [
            "[1, 2, 3, 4, 5, 6, 7, 8, 9, 10]\n"
          ],
          "name": "stdout"
        }
      ]
    },
    {
      "cell_type": "code",
      "metadata": {
        "id": "PmBxfJnCpI3r",
        "colab_type": "code",
        "outputId": "7eab1802-9285-43ff-8ceb-c072f48bfc2e",
        "colab": {
          "base_uri": "https://localhost:8080/",
          "height": 359
        }
      },
      "source": [
        "tabela_j.head(10)"
      ],
      "execution_count": 0,
      "outputs": [
        {
          "output_type": "execute_result",
          "data": {
            "text/html": [
              "<div>\n",
              "<style scoped>\n",
              "    .dataframe tbody tr th:only-of-type {\n",
              "        vertical-align: middle;\n",
              "    }\n",
              "\n",
              "    .dataframe tbody tr th {\n",
              "        vertical-align: top;\n",
              "    }\n",
              "\n",
              "    .dataframe thead th {\n",
              "        text-align: right;\n",
              "    }\n",
              "</style>\n",
              "<table border=\"1\" class=\"dataframe\">\n",
              "  <thead>\n",
              "    <tr style=\"text-align: right;\">\n",
              "      <th></th>\n",
              "      <th>j</th>\n",
              "      <th>u</th>\n",
              "    </tr>\n",
              "  </thead>\n",
              "  <tbody>\n",
              "    <tr>\n",
              "      <th>0</th>\n",
              "      <td>10</td>\n",
              "      <td>1</td>\n",
              "    </tr>\n",
              "    <tr>\n",
              "      <th>1</th>\n",
              "      <td>20</td>\n",
              "      <td>2</td>\n",
              "    </tr>\n",
              "    <tr>\n",
              "      <th>2</th>\n",
              "      <td>30</td>\n",
              "      <td>3</td>\n",
              "    </tr>\n",
              "    <tr>\n",
              "      <th>3</th>\n",
              "      <td>40</td>\n",
              "      <td>4</td>\n",
              "    </tr>\n",
              "    <tr>\n",
              "      <th>4</th>\n",
              "      <td>50</td>\n",
              "      <td>5</td>\n",
              "    </tr>\n",
              "    <tr>\n",
              "      <th>5</th>\n",
              "      <td>60</td>\n",
              "      <td>6</td>\n",
              "    </tr>\n",
              "    <tr>\n",
              "      <th>6</th>\n",
              "      <td>70</td>\n",
              "      <td>7</td>\n",
              "    </tr>\n",
              "    <tr>\n",
              "      <th>7</th>\n",
              "      <td>80</td>\n",
              "      <td>8</td>\n",
              "    </tr>\n",
              "    <tr>\n",
              "      <th>8</th>\n",
              "      <td>90</td>\n",
              "      <td>9</td>\n",
              "    </tr>\n",
              "    <tr>\n",
              "      <th>9</th>\n",
              "      <td>100</td>\n",
              "      <td>10</td>\n",
              "    </tr>\n",
              "  </tbody>\n",
              "</table>\n",
              "</div>"
            ],
            "text/plain": [
              "     j   u\n",
              "0   10   1\n",
              "1   20   2\n",
              "2   30   3\n",
              "3   40   4\n",
              "4   50   5\n",
              "5   60   6\n",
              "6   70   7\n",
              "7   80   8\n",
              "8   90   9\n",
              "9  100  10"
            ]
          },
          "metadata": {
            "tags": []
          },
          "execution_count": 79
        }
      ]
    },
    {
      "cell_type": "code",
      "metadata": {
        "id": "BqpZbv1ycBDH",
        "colab_type": "code",
        "outputId": "45e3a38d-b3a2-4b68-8883-e43721a228f4",
        "colab": {
          "base_uri": "https://localhost:8080/",
          "height": 34
        }
      },
      "source": [
        "!ls #### comando do colab para verificar arquivos na pasta"
      ],
      "execution_count": 0,
      "outputs": [
        {
          "output_type": "stream",
          "text": [
            "sample_data\n"
          ],
          "name": "stdout"
        }
      ]
    },
    {
      "cell_type": "markdown",
      "metadata": {
        "id": "dNU-M-7haW4q",
        "colab_type": "text"
      },
      "source": [
        "Para importar dados da maneira simples, abra a janela da esquerda e de upload no arquivo!!!!"
      ]
    },
    {
      "cell_type": "code",
      "metadata": {
        "id": "NAZ8sDiXcXfq",
        "colab_type": "code",
        "colab": {}
      },
      "source": [
        "### como analisar uma lista de dados\n",
        "\n",
        "### Importar bibliotecas necessárias"
      ],
      "execution_count": 0,
      "outputs": []
    },
    {
      "cell_type": "code",
      "metadata": {
        "id": "4z5fzTcacbyC",
        "colab_type": "code",
        "colab": {}
      },
      "source": [
        "import pandas as pd\n",
        "\n",
        "data = pd.read_csv('dados0811diodo.csv')"
      ],
      "execution_count": 0,
      "outputs": []
    },
    {
      "cell_type": "code",
      "metadata": {
        "id": "GvOMcI0jc1A7",
        "colab_type": "code",
        "outputId": "bf687650-32b9-4b6f-adb0-085980caabbe",
        "colab": {
          "base_uri": "https://localhost:8080/",
          "height": 297
        }
      },
      "source": [
        "data.head(10) ### ver a tabela de dados do pandas"
      ],
      "execution_count": 0,
      "outputs": [
        {
          "output_type": "execute_result",
          "data": {
            "text/html": [
              "<div>\n",
              "<style scoped>\n",
              "    .dataframe tbody tr th:only-of-type {\n",
              "        vertical-align: middle;\n",
              "    }\n",
              "\n",
              "    .dataframe tbody tr th {\n",
              "        vertical-align: top;\n",
              "    }\n",
              "\n",
              "    .dataframe thead th {\n",
              "        text-align: right;\n",
              "    }\n",
              "</style>\n",
              "<table border=\"1\" class=\"dataframe\">\n",
              "  <thead>\n",
              "    <tr style=\"text-align: right;\">\n",
              "      <th></th>\n",
              "      <th>medidas_diodo</th>\n",
              "      <th>li</th>\n",
              "      <th>lf</th>\n",
              "      <th>dm</th>\n",
              "    </tr>\n",
              "  </thead>\n",
              "  <tbody>\n",
              "    <tr>\n",
              "      <th>0</th>\n",
              "      <td>1</td>\n",
              "      <td>16.5</td>\n",
              "      <td>25</td>\n",
              "      <td>30</td>\n",
              "    </tr>\n",
              "    <tr>\n",
              "      <th>1</th>\n",
              "      <td>2</td>\n",
              "      <td>25.0</td>\n",
              "      <td>48</td>\n",
              "      <td>58</td>\n",
              "    </tr>\n",
              "    <tr>\n",
              "      <th>2</th>\n",
              "      <td>3</td>\n",
              "      <td>41.0</td>\n",
              "      <td>47</td>\n",
              "      <td>20</td>\n",
              "    </tr>\n",
              "    <tr>\n",
              "      <th>3</th>\n",
              "      <td>4</td>\n",
              "      <td>55.5</td>\n",
              "      <td>71</td>\n",
              "      <td>61</td>\n",
              "    </tr>\n",
              "    <tr>\n",
              "      <th>4</th>\n",
              "      <td>5</td>\n",
              "      <td>60.0</td>\n",
              "      <td>62</td>\n",
              "      <td>10</td>\n",
              "    </tr>\n",
              "    <tr>\n",
              "      <th>5</th>\n",
              "      <td>6</td>\n",
              "      <td>62.0</td>\n",
              "      <td>72</td>\n",
              "      <td>50</td>\n",
              "    </tr>\n",
              "    <tr>\n",
              "      <th>6</th>\n",
              "      <td>7</td>\n",
              "      <td>72.0</td>\n",
              "      <td>77</td>\n",
              "      <td>70</td>\n",
              "    </tr>\n",
              "    <tr>\n",
              "      <th>7</th>\n",
              "      <td>8</td>\n",
              "      <td>77.0</td>\n",
              "      <td>83</td>\n",
              "      <td>90</td>\n",
              "    </tr>\n",
              "  </tbody>\n",
              "</table>\n",
              "</div>"
            ],
            "text/plain": [
              "   medidas_diodo    li  lf  dm\n",
              "0              1  16.5  25  30\n",
              "1              2  25.0  48  58\n",
              "2              3  41.0  47  20\n",
              "3              4  55.5  71  61\n",
              "4              5  60.0  62  10\n",
              "5              6  62.0  72  50\n",
              "6              7  72.0  77  70\n",
              "7              8  77.0  83  90"
            ]
          },
          "metadata": {
            "tags": []
          },
          "execution_count": 43
        }
      ]
    },
    {
      "cell_type": "markdown",
      "metadata": {
        "id": "Qgcjc5ogdIw-",
        "colab_type": "text"
      },
      "source": [
        "### Experimento do Interferômetro\n",
        "\n",
        "$$\\Delta m = \\frac{2\\Delta L} {\\lambda}  $$\n",
        "\n",
        "Determine $\\lambda$\n",
        "\n",
        "$$\\lambda = \\frac{2\\Delta L} {\\Delta m}  $$"
      ]
    },
    {
      "cell_type": "code",
      "metadata": {
        "id": "fo7uA_j1c4mz",
        "colab_type": "code",
        "outputId": "64607d52-015e-4653-9ff0-b23e774b482e",
        "colab": {
          "base_uri": "https://localhost:8080/",
          "height": 170
        }
      },
      "source": [
        "data.li"
      ],
      "execution_count": 0,
      "outputs": [
        {
          "output_type": "execute_result",
          "data": {
            "text/plain": [
              "0    16.5\n",
              "1    25.0\n",
              "2    41.0\n",
              "3    55.5\n",
              "4    60.0\n",
              "5    62.0\n",
              "6    72.0\n",
              "7    77.0\n",
              "Name: li, dtype: float64"
            ]
          },
          "metadata": {
            "tags": []
          },
          "execution_count": 44
        }
      ]
    },
    {
      "cell_type": "code",
      "metadata": {
        "id": "f0A020j_dkJL",
        "colab_type": "code",
        "outputId": "1bbcd1cf-faae-49a4-8390-a14c75e13464",
        "colab": {
          "base_uri": "https://localhost:8080/",
          "height": 170
        }
      },
      "source": [
        "data.lf"
      ],
      "execution_count": 0,
      "outputs": [
        {
          "output_type": "execute_result",
          "data": {
            "text/plain": [
              "0    25\n",
              "1    48\n",
              "2    47\n",
              "3    71\n",
              "4    62\n",
              "5    72\n",
              "6    77\n",
              "7    83\n",
              "Name: lf, dtype: int64"
            ]
          },
          "metadata": {
            "tags": []
          },
          "execution_count": 45
        }
      ]
    },
    {
      "cell_type": "code",
      "metadata": {
        "id": "hAw56aTtdl4z",
        "colab_type": "code",
        "outputId": "56a3f831-492d-4fe3-9bc3-7e931e9222aa",
        "colab": {
          "base_uri": "https://localhost:8080/",
          "height": 170
        }
      },
      "source": [
        "data.dm"
      ],
      "execution_count": 0,
      "outputs": [
        {
          "output_type": "execute_result",
          "data": {
            "text/plain": [
              "0    30\n",
              "1    58\n",
              "2    20\n",
              "3    61\n",
              "4    10\n",
              "5    50\n",
              "6    70\n",
              "7    90\n",
              "Name: dm, dtype: int64"
            ]
          },
          "metadata": {
            "tags": []
          },
          "execution_count": 46
        }
      ]
    },
    {
      "cell_type": "code",
      "metadata": {
        "id": "BgBYQJ8vdnZU",
        "colab_type": "code",
        "outputId": "7564196c-a9d0-4af6-c581-1dc64bc6ac88",
        "colab": {
          "base_uri": "https://localhost:8080/",
          "height": 54
        }
      },
      "source": [
        "##################### modo inteligente\n",
        "\n",
        "dl = []\n",
        "\n",
        "## calculo do delta L\n",
        "\n",
        "for i in range (8):\n",
        "  dl_calc = data.lf[i] - data.li[i]\n",
        "  dl_calc = dl_calc*1E-6\n",
        "  dl.append(dl_calc)\n",
        "\n",
        "  \n",
        "data['dl'] = dl\n",
        "## cálculo do lambda\n",
        "\n",
        "lambda_diodo = []\n",
        "\n",
        "for i in range (8):\n",
        "  lambda_calc = 2*dl[i]/data.dm[i]\n",
        "  lambda_diodo.append(lambda_calc)\n",
        "\n",
        "data['lambda'] = lambda_diodo\n",
        "print(lambda_diodo)\n",
        "\n",
        "\n",
        "data['lambda_diodo'] = lambda_diodo\n",
        "\n",
        "\n",
        "\n"
      ],
      "execution_count": 0,
      "outputs": [
        {
          "output_type": "stream",
          "text": [
            "[5.666666666666667e-07, 7.931034482758621e-07, 6e-07, 5.081967213114754e-07, 4e-07, 4e-07, 1.4285714285714285e-07, 1.3333333333333334e-07]\n"
          ],
          "name": "stdout"
        }
      ]
    },
    {
      "cell_type": "code",
      "metadata": {
        "id": "QkpJijw1ojJa",
        "colab_type": "code",
        "outputId": "f393d6ec-0693-4f31-a7b8-fca6dfb51aa8",
        "colab": {
          "base_uri": "https://localhost:8080/",
          "height": 297
        }
      },
      "source": [
        "data.head(10)"
      ],
      "execution_count": 0,
      "outputs": [
        {
          "output_type": "execute_result",
          "data": {
            "text/html": [
              "<div>\n",
              "<style scoped>\n",
              "    .dataframe tbody tr th:only-of-type {\n",
              "        vertical-align: middle;\n",
              "    }\n",
              "\n",
              "    .dataframe tbody tr th {\n",
              "        vertical-align: top;\n",
              "    }\n",
              "\n",
              "    .dataframe thead th {\n",
              "        text-align: right;\n",
              "    }\n",
              "</style>\n",
              "<table border=\"1\" class=\"dataframe\">\n",
              "  <thead>\n",
              "    <tr style=\"text-align: right;\">\n",
              "      <th></th>\n",
              "      <th>medidas_diodo</th>\n",
              "      <th>li</th>\n",
              "      <th>lf</th>\n",
              "      <th>dm</th>\n",
              "      <th>dl</th>\n",
              "      <th>lambda</th>\n",
              "      <th>lambda_diodo</th>\n",
              "    </tr>\n",
              "  </thead>\n",
              "  <tbody>\n",
              "    <tr>\n",
              "      <th>0</th>\n",
              "      <td>1</td>\n",
              "      <td>16.5</td>\n",
              "      <td>25</td>\n",
              "      <td>30</td>\n",
              "      <td>0.000008</td>\n",
              "      <td>5.666667e-07</td>\n",
              "      <td>5.666667e-07</td>\n",
              "    </tr>\n",
              "    <tr>\n",
              "      <th>1</th>\n",
              "      <td>2</td>\n",
              "      <td>25.0</td>\n",
              "      <td>48</td>\n",
              "      <td>58</td>\n",
              "      <td>0.000023</td>\n",
              "      <td>7.931034e-07</td>\n",
              "      <td>7.931034e-07</td>\n",
              "    </tr>\n",
              "    <tr>\n",
              "      <th>2</th>\n",
              "      <td>3</td>\n",
              "      <td>41.0</td>\n",
              "      <td>47</td>\n",
              "      <td>20</td>\n",
              "      <td>0.000006</td>\n",
              "      <td>6.000000e-07</td>\n",
              "      <td>6.000000e-07</td>\n",
              "    </tr>\n",
              "    <tr>\n",
              "      <th>3</th>\n",
              "      <td>4</td>\n",
              "      <td>55.5</td>\n",
              "      <td>71</td>\n",
              "      <td>61</td>\n",
              "      <td>0.000016</td>\n",
              "      <td>5.081967e-07</td>\n",
              "      <td>5.081967e-07</td>\n",
              "    </tr>\n",
              "    <tr>\n",
              "      <th>4</th>\n",
              "      <td>5</td>\n",
              "      <td>60.0</td>\n",
              "      <td>62</td>\n",
              "      <td>10</td>\n",
              "      <td>0.000002</td>\n",
              "      <td>4.000000e-07</td>\n",
              "      <td>4.000000e-07</td>\n",
              "    </tr>\n",
              "    <tr>\n",
              "      <th>5</th>\n",
              "      <td>6</td>\n",
              "      <td>62.0</td>\n",
              "      <td>72</td>\n",
              "      <td>50</td>\n",
              "      <td>0.000010</td>\n",
              "      <td>4.000000e-07</td>\n",
              "      <td>4.000000e-07</td>\n",
              "    </tr>\n",
              "    <tr>\n",
              "      <th>6</th>\n",
              "      <td>7</td>\n",
              "      <td>72.0</td>\n",
              "      <td>77</td>\n",
              "      <td>70</td>\n",
              "      <td>0.000005</td>\n",
              "      <td>1.428571e-07</td>\n",
              "      <td>1.428571e-07</td>\n",
              "    </tr>\n",
              "    <tr>\n",
              "      <th>7</th>\n",
              "      <td>8</td>\n",
              "      <td>77.0</td>\n",
              "      <td>83</td>\n",
              "      <td>90</td>\n",
              "      <td>0.000006</td>\n",
              "      <td>1.333333e-07</td>\n",
              "      <td>1.333333e-07</td>\n",
              "    </tr>\n",
              "  </tbody>\n",
              "</table>\n",
              "</div>"
            ],
            "text/plain": [
              "   medidas_diodo    li  lf  dm        dl        lambda  lambda_diodo\n",
              "0              1  16.5  25  30  0.000008  5.666667e-07  5.666667e-07\n",
              "1              2  25.0  48  58  0.000023  7.931034e-07  7.931034e-07\n",
              "2              3  41.0  47  20  0.000006  6.000000e-07  6.000000e-07\n",
              "3              4  55.5  71  61  0.000016  5.081967e-07  5.081967e-07\n",
              "4              5  60.0  62  10  0.000002  4.000000e-07  4.000000e-07\n",
              "5              6  62.0  72  50  0.000010  4.000000e-07  4.000000e-07\n",
              "6              7  72.0  77  70  0.000005  1.428571e-07  1.428571e-07\n",
              "7              8  77.0  83  90  0.000006  1.333333e-07  1.333333e-07"
            ]
          },
          "metadata": {
            "tags": []
          },
          "execution_count": 48
        }
      ]
    },
    {
      "cell_type": "code",
      "metadata": {
        "id": "vJG8eKXLeQH6",
        "colab_type": "code",
        "colab": {}
      },
      "source": [
        "############# CONSTRUINDO UM GRÁFICO !!!!\n",
        "\n",
        "###### PARA CONSTRUIR UM GRÁFICO É NECESSÁRIO UTILIZAR A BIBLIOTECA MATPLOTLIB.PYPLOT\n",
        "\n",
        "import matplotlib.pyplot as plt"
      ],
      "execution_count": 0,
      "outputs": []
    },
    {
      "cell_type": "code",
      "metadata": {
        "id": "J6UaFevwpx5T",
        "colab_type": "code",
        "outputId": "7302bdcb-9174-441e-9a95-c90163e86701",
        "colab": {
          "base_uri": "https://localhost:8080/",
          "height": 359
        }
      },
      "source": [
        "dados_1.head(10)"
      ],
      "execution_count": 0,
      "outputs": [
        {
          "output_type": "execute_result",
          "data": {
            "text/html": [
              "<div>\n",
              "<style scoped>\n",
              "    .dataframe tbody tr th:only-of-type {\n",
              "        vertical-align: middle;\n",
              "    }\n",
              "\n",
              "    .dataframe tbody tr th {\n",
              "        vertical-align: top;\n",
              "    }\n",
              "\n",
              "    .dataframe thead th {\n",
              "        text-align: right;\n",
              "    }\n",
              "</style>\n",
              "<table border=\"1\" class=\"dataframe\">\n",
              "  <thead>\n",
              "    <tr style=\"text-align: right;\">\n",
              "      <th></th>\n",
              "      <th>coluna_x</th>\n",
              "      <th>coluna_y</th>\n",
              "    </tr>\n",
              "  </thead>\n",
              "  <tbody>\n",
              "    <tr>\n",
              "      <th>0</th>\n",
              "      <td>0</td>\n",
              "      <td>10</td>\n",
              "    </tr>\n",
              "    <tr>\n",
              "      <th>1</th>\n",
              "      <td>1</td>\n",
              "      <td>15</td>\n",
              "    </tr>\n",
              "    <tr>\n",
              "      <th>2</th>\n",
              "      <td>2</td>\n",
              "      <td>20</td>\n",
              "    </tr>\n",
              "    <tr>\n",
              "      <th>3</th>\n",
              "      <td>3</td>\n",
              "      <td>25</td>\n",
              "    </tr>\n",
              "    <tr>\n",
              "      <th>4</th>\n",
              "      <td>4</td>\n",
              "      <td>30</td>\n",
              "    </tr>\n",
              "    <tr>\n",
              "      <th>5</th>\n",
              "      <td>5</td>\n",
              "      <td>35</td>\n",
              "    </tr>\n",
              "    <tr>\n",
              "      <th>6</th>\n",
              "      <td>6</td>\n",
              "      <td>40</td>\n",
              "    </tr>\n",
              "    <tr>\n",
              "      <th>7</th>\n",
              "      <td>7</td>\n",
              "      <td>45</td>\n",
              "    </tr>\n",
              "    <tr>\n",
              "      <th>8</th>\n",
              "      <td>8</td>\n",
              "      <td>50</td>\n",
              "    </tr>\n",
              "    <tr>\n",
              "      <th>9</th>\n",
              "      <td>9</td>\n",
              "      <td>55</td>\n",
              "    </tr>\n",
              "  </tbody>\n",
              "</table>\n",
              "</div>"
            ],
            "text/plain": [
              "   coluna_x  coluna_y\n",
              "0         0        10\n",
              "1         1        15\n",
              "2         2        20\n",
              "3         3        25\n",
              "4         4        30\n",
              "5         5        35\n",
              "6         6        40\n",
              "7         7        45\n",
              "8         8        50\n",
              "9         9        55"
            ]
          },
          "metadata": {
            "tags": []
          },
          "execution_count": 58
        }
      ]
    },
    {
      "cell_type": "code",
      "metadata": {
        "id": "Hw8P5k9Sp0xW",
        "colab_type": "code",
        "outputId": "fa046605-b36f-4224-a23e-e6571f474469",
        "colab": {
          "base_uri": "https://localhost:8080/",
          "height": 303
        }
      },
      "source": [
        "plt.plot(dados_1)#### plotando cada coluna como uma reta !!!!\n",
        "#plt.show() ####mostrar sem as informações"
      ],
      "execution_count": 0,
      "outputs": [
        {
          "output_type": "execute_result",
          "data": {
            "text/plain": [
              "[<matplotlib.lines.Line2D at 0x7f48d6f36470>,\n",
              " <matplotlib.lines.Line2D at 0x7f48d6f36978>]"
            ]
          },
          "metadata": {
            "tags": []
          },
          "execution_count": 67
        },
        {
          "output_type": "display_data",
          "data": {
            "image/png": "[encoded data removed]",
            "text/plain": [
              "<Figure size 432x288 with 1 Axes>"
            ]
          },
          "metadata": {
            "tags": []
          }
        }
      ]
    },
    {
      "cell_type": "code",
      "metadata": {
        "id": "fqwD2E_Fp8sX",
        "colab_type": "code",
        "outputId": "c134c3c2-b1ad-4909-d93b-a3df0d18b66b",
        "colab": {
          "base_uri": "https://localhost:8080/",
          "height": 312
        }
      },
      "source": [
        "### como plotar coluna y por y, ou y por x\n",
        "\n",
        "plt.plot(dados_1.coluna_x , dados_1.coluna_y)\n",
        "plt.title('Gráfico 1')\n",
        "plt.xlabel('x')\n",
        "plt.ylabel('y')"
      ],
      "execution_count": 0,
      "outputs": [
        {
          "output_type": "execute_result",
          "data": {
            "text/plain": [
              "Text(0, 0.5, 'y')"
            ]
          },
          "metadata": {
            "tags": []
          },
          "execution_count": 68
        },
        {
          "output_type": "display_data",
          "data": {
            "image/png": "[encoded data removed]",
            "text/plain": [
              "<Figure size 432x288 with 1 Axes>"
            ]
          },
          "metadata": {
            "tags": []
          }
        }
      ]
    },
    {
      "cell_type": "code",
      "metadata": {
        "id": "OYOmSARjqaRX",
        "colab_type": "code",
        "outputId": "24ae3ac1-9fcd-4e21-8e1e-d62154b73a15",
        "colab": {
          "base_uri": "https://localhost:8080/",
          "height": 295
        }
      },
      "source": [
        "### como plotar coluna y por x, ou x por y\n",
        "\n",
        "plt.plot(dados_1.coluna_y , dados_1.coluna_x)\n",
        "plt.title('Gráfico 2')\n",
        "plt.xlabel('x')\n",
        "plt.ylabel('y')\n",
        "plt.show()"
      ],
      "execution_count": 0,
      "outputs": [
        {
          "output_type": "display_data",
          "data": {
            "image/png": "[encoded data removed]",
            "text/plain": [
              "<Figure size 432x288 with 1 Axes>"
            ]
          },
          "metadata": {
            "tags": []
          }
        }
      ]
    },
    {
      "cell_type": "code",
      "metadata": {
        "id": "Ls9lbQ_Mqz3W",
        "colab_type": "code",
        "outputId": "d00d4923-587f-40e0-9459-159a1b045e4e",
        "colab": {
          "base_uri": "https://localhost:8080/",
          "height": 295
        }
      },
      "source": [
        "### como mexer com os limites de x e y\n",
        "\n",
        "plt.plot(dados_1.coluna_y , dados_1.coluna_x)\n",
        "plt.title('Gráfico 3')\n",
        "plt.xlabel('x')\n",
        "plt.ylabel('y')\n",
        "plt.xlim(20, 40)\n",
        "plt.ylim (2, 4)\n",
        "plt.grid()"
      ],
      "execution_count": 0,
      "outputs": [
        {
          "output_type": "display_data",
          "data": {
            "image/png": "[encoded data removed]",
            "text/plain": [
              "<Figure size 432x288 with 1 Axes>"
            ]
          },
          "metadata": {
            "tags": []
          }
        }
      ]
    },
    {
      "cell_type": "code",
      "metadata": {
        "id": "eAUTiBzFrlcW",
        "colab_type": "code",
        "colab": {}
      },
      "source": [
        "################ COMO FAZER UM FIT DE UM GRÁFICO !!!!"
      ],
      "execution_count": 0,
      "outputs": []
    },
    {
      "cell_type": "markdown",
      "metadata": {
        "id": "aPW_K0NQKPlq",
        "colab_type": "text"
      },
      "source": [
        "### EXEMPLO  - QUEDA LIVRE !!!\n",
        "\n",
        "![queda livre](https://mundoeducacao.bol.uol.com.br/upload/conteudo_legenda/8cc69c606fae120ccbff2ff09e1a6aac.jpg)\n",
        "\n",
        "$V = V_o + at$\n",
        "\n",
        "Supondo então que $V_0 = 0$\n",
        "\n",
        "\n",
        "\n",
        "$V_{descida} = -gt$"
      ]
    },
    {
      "cell_type": "code",
      "metadata": {
        "id": "5Gfw2b_Qsod5",
        "colab_type": "code",
        "outputId": "352c0331-7519-43e2-8b51-a3400247d546",
        "colab": {
          "base_uri": "https://localhost:8080/",
          "height": 34
        }
      },
      "source": [
        "import scipy.constants as sci\n",
        "\n",
        "print(sci.g) #### aceleração da gravidade\n",
        "\n",
        "\n",
        "\n"
      ],
      "execution_count": 0,
      "outputs": [
        {
          "output_type": "stream",
          "text": [
            "9.80665\n"
          ],
          "name": "stdout"
        }
      ]
    },
    {
      "cell_type": "code",
      "metadata": {
        "id": "Rj7qPzSOKNcO",
        "colab_type": "code",
        "colab": {}
      },
      "source": [
        "## criando uma lista de dados para o problema\n",
        "v_descida=[]\n",
        "tempo =[]\n",
        "t = 0\n",
        "\n",
        "for i in range(10):\n",
        "  t = t + 1\n",
        "  tempo.append(t)\n",
        "for i in range(10):\n",
        "  velocidade = -sci.g*tempo[i]\n",
        "  v_descida.append(velocidade)\n",
        "\n",
        "import pandas as pd\n",
        "  \n",
        "dados_exemplo1 = pd.DataFrame({'velocidade_descida': v_descida  , 'tempo':tempo})"
      ],
      "execution_count": 0,
      "outputs": []
    },
    {
      "cell_type": "code",
      "metadata": {
        "id": "KdLPcfsJMzaa",
        "colab_type": "code",
        "outputId": "918b1d3f-c235-4f61-da5a-8215781cfcf3",
        "colab": {
          "base_uri": "https://localhost:8080/",
          "height": 359
        }
      },
      "source": [
        "dados_exemplo1.head(10)"
      ],
      "execution_count": 0,
      "outputs": [
        {
          "output_type": "execute_result",
          "data": {
            "text/html": [
              "<div>\n",
              "<style scoped>\n",
              "    .dataframe tbody tr th:only-of-type {\n",
              "        vertical-align: middle;\n",
              "    }\n",
              "\n",
              "    .dataframe tbody tr th {\n",
              "        vertical-align: top;\n",
              "    }\n",
              "\n",
              "    .dataframe thead th {\n",
              "        text-align: right;\n",
              "    }\n",
              "</style>\n",
              "<table border=\"1\" class=\"dataframe\">\n",
              "  <thead>\n",
              "    <tr style=\"text-align: right;\">\n",
              "      <th></th>\n",
              "      <th>velocidade_descida</th>\n",
              "      <th>tempo</th>\n",
              "    </tr>\n",
              "  </thead>\n",
              "  <tbody>\n",
              "    <tr>\n",
              "      <th>0</th>\n",
              "      <td>-9.80665</td>\n",
              "      <td>1</td>\n",
              "    </tr>\n",
              "    <tr>\n",
              "      <th>1</th>\n",
              "      <td>-19.61330</td>\n",
              "      <td>2</td>\n",
              "    </tr>\n",
              "    <tr>\n",
              "      <th>2</th>\n",
              "      <td>-29.41995</td>\n",
              "      <td>3</td>\n",
              "    </tr>\n",
              "    <tr>\n",
              "      <th>3</th>\n",
              "      <td>-39.22660</td>\n",
              "      <td>4</td>\n",
              "    </tr>\n",
              "    <tr>\n",
              "      <th>4</th>\n",
              "      <td>-49.03325</td>\n",
              "      <td>5</td>\n",
              "    </tr>\n",
              "    <tr>\n",
              "      <th>5</th>\n",
              "      <td>-58.83990</td>\n",
              "      <td>6</td>\n",
              "    </tr>\n",
              "    <tr>\n",
              "      <th>6</th>\n",
              "      <td>-68.64655</td>\n",
              "      <td>7</td>\n",
              "    </tr>\n",
              "    <tr>\n",
              "      <th>7</th>\n",
              "      <td>-78.45320</td>\n",
              "      <td>8</td>\n",
              "    </tr>\n",
              "    <tr>\n",
              "      <th>8</th>\n",
              "      <td>-88.25985</td>\n",
              "      <td>9</td>\n",
              "    </tr>\n",
              "    <tr>\n",
              "      <th>9</th>\n",
              "      <td>-98.06650</td>\n",
              "      <td>10</td>\n",
              "    </tr>\n",
              "  </tbody>\n",
              "</table>\n",
              "</div>"
            ],
            "text/plain": [
              "   velocidade_descida  tempo\n",
              "0            -9.80665      1\n",
              "1           -19.61330      2\n",
              "2           -29.41995      3\n",
              "3           -39.22660      4\n",
              "4           -49.03325      5\n",
              "5           -58.83990      6\n",
              "6           -68.64655      7\n",
              "7           -78.45320      8\n",
              "8           -88.25985      9\n",
              "9           -98.06650     10"
            ]
          },
          "metadata": {
            "tags": []
          },
          "execution_count": 8
        }
      ]
    },
    {
      "cell_type": "code",
      "metadata": {
        "id": "Ry5XhkR8NLlJ",
        "colab_type": "code",
        "outputId": "e447e1a6-9d6c-4b64-fafe-f8eb889d0f27",
        "colab": {
          "base_uri": "https://localhost:8080/",
          "height": 312
        }
      },
      "source": [
        "### construindo o gráfico\n",
        "import matplotlib.pyplot as plt\n",
        "\n",
        "plt.plot(dados_exemplo1.tempo,dados_exemplo1.velocidade_descida)\n",
        "plt.title('Queda Livre')\n",
        "plt.grid()\n",
        "plt.xlabel(\"Tempo (s)\")\n",
        "plt.ylabel('Velocidade (m/s^2)')\n",
        "\n",
        "plt.savefig('fig1.png' ,dpi=550)\n"
      ],
      "execution_count": 0,
      "outputs": [
        {
          "output_type": "display_data",
          "data": {
            "image/png": "[encoded data removed]",
            "text/plain": [
              "<Figure size 432x288 with 1 Axes>"
            ]
          },
          "metadata": {
            "tags": []
          }
        },
        {
          "output_type": "display_data",
          "data": {
            "text/plain": [
              "<Figure size 432x288 with 0 Axes>"
            ]
          },
          "metadata": {
            "tags": []
          }
        }
      ]
    },
    {
      "cell_type": "code",
      "metadata": {
        "id": "2rd4AORqQ8l4",
        "colab_type": "code",
        "outputId": "626a9885-f930-4b75-8802-9bef38c7b0bb",
        "colab": {
          "base_uri": "https://localhost:8080/",
          "height": 295
        }
      },
      "source": [
        "### construindo o gráfico\n",
        "import matplotlib.pyplot as plt\n",
        "\n",
        "plt.errorbar(dados_exemplo1.tempo,dados_exemplo1.velocidade_descida, xerr = 1 ,yerr = 5 )\n",
        "plt.title('Queda Livre')\n",
        "plt.grid()\n",
        "plt.xlabel(\"Tempo (s)\")\n",
        "plt.ylabel('Velocidade (m/s^2)')\n",
        "\n",
        "### gerando imagem do gráfico !!!!\n",
        "\n",
        "plt.savefig('exemplo1.png' , dpi=1000)\n",
        "from google.colab import files ### PARA O GOOGLE COLAB\n",
        "files.download(\"exemplo1.png\") \n",
        "\n"
      ],
      "execution_count": 0,
      "outputs": [
        {
          "output_type": "display_data",
          "data": {
            "image/png": "[encoded data removed]",
            "text/plain": [
              "<Figure size 432x288 with 1 Axes>"
            ]
          },
          "metadata": {
            "tags": []
          }
        }
      ]
    },
    {
      "cell_type": "markdown",
      "metadata": {
        "id": "Yn1XaTxwOODi",
        "colab_type": "text"
      },
      "source": [
        "#### Fazendo o Fit do gráfico\n"
      ]
    },
    {
      "cell_type": "code",
      "metadata": {
        "id": "ryNT1jejN2C5",
        "colab_type": "code",
        "outputId": "f7719181-79a4-4286-f088-931c2b032e45",
        "colab": {
          "base_uri": "https://localhost:8080/",
          "height": 286
        }
      },
      "source": [
        "from scipy import stats\n",
        "\n",
        "slope, intercept, r_value, p_value, std_err = stats.linregress(dados_exemplo1.tempo,dados_exemplo1.velocidade_descida)\n",
        "\n",
        "line = slope*dados_exemplo1.tempo+intercept\n",
        "plt.plot(dados_exemplo1.tempo,dados_exemplo1.velocidade_descida,'o',dados_exemplo1.tempo,line)\n",
        "plt.grid()\n",
        "\n",
        "print(slope) ##############coeficiente angular"
      ],
      "execution_count": 0,
      "outputs": [
        {
          "output_type": "stream",
          "text": [
            "-9.806650000000001\n"
          ],
          "name": "stdout"
        },
        {
          "output_type": "display_data",
          "data": {
            "image/png": "[encoded data removed]",
            "text/plain": [
              "<Figure size 432x288 with 1 Axes>"
            ]
          },
          "metadata": {
            "tags": []
          }
        }
      ]
    },
    {
      "cell_type": "markdown",
      "metadata": {
        "id": "35mzj-imfh83",
        "colab_type": "text"
      },
      "source": [
        "### Proposta de atividade 1 - Construa o gráfico e determine o coeficiente angular utilizando o fit da reta."
      ]
    },
    {
      "cell_type": "code",
      "metadata": {
        "id": "jdp5nLeIfw8k",
        "colab_type": "code",
        "colab": {}
      },
      "source": [
        "x = [2.4,2.8,3.2,3.6]\n",
        "y = [5,6,7,8]\n",
        "\n",
        "atividade1 = pd.DataFrame({'x':x , 'y':y})"
      ],
      "execution_count": 0,
      "outputs": []
    },
    {
      "cell_type": "code",
      "metadata": {
        "id": "RVM4crcYg2_E",
        "colab_type": "code",
        "outputId": "cc322ba0-dcea-427a-f299-909dd51c2335",
        "colab": {
          "base_uri": "https://localhost:8080/",
          "height": 173
        }
      },
      "source": [
        "atividade1.head(10)"
      ],
      "execution_count": 0,
      "outputs": [
        {
          "output_type": "execute_result",
          "data": {
            "text/html": [
              "<div>\n",
              "<style scoped>\n",
              "    .dataframe tbody tr th:only-of-type {\n",
              "        vertical-align: middle;\n",
              "    }\n",
              "\n",
              "    .dataframe tbody tr th {\n",
              "        vertical-align: top;\n",
              "    }\n",
              "\n",
              "    .dataframe thead th {\n",
              "        text-align: right;\n",
              "    }\n",
              "</style>\n",
              "<table border=\"1\" class=\"dataframe\">\n",
              "  <thead>\n",
              "    <tr style=\"text-align: right;\">\n",
              "      <th></th>\n",
              "      <th>x</th>\n",
              "      <th>y</th>\n",
              "    </tr>\n",
              "  </thead>\n",
              "  <tbody>\n",
              "    <tr>\n",
              "      <th>0</th>\n",
              "      <td>2.4</td>\n",
              "      <td>5</td>\n",
              "    </tr>\n",
              "    <tr>\n",
              "      <th>1</th>\n",
              "      <td>2.8</td>\n",
              "      <td>6</td>\n",
              "    </tr>\n",
              "    <tr>\n",
              "      <th>2</th>\n",
              "      <td>3.2</td>\n",
              "      <td>7</td>\n",
              "    </tr>\n",
              "    <tr>\n",
              "      <th>3</th>\n",
              "      <td>3.6</td>\n",
              "      <td>8</td>\n",
              "    </tr>\n",
              "  </tbody>\n",
              "</table>\n",
              "</div>"
            ],
            "text/plain": [
              "     x  y\n",
              "0  2.4  5\n",
              "1  2.8  6\n",
              "2  3.2  7\n",
              "3  3.6  8"
            ]
          },
          "metadata": {
            "tags": []
          },
          "execution_count": 97
        }
      ]
    },
    {
      "cell_type": "markdown",
      "metadata": {
        "id": "ZpjXZJ4MUZi-",
        "colab_type": "text"
      },
      "source": [
        "### Importanto arquivos"
      ]
    },
    {
      "cell_type": "code",
      "metadata": {
        "id": "bm_y5JrnQLEo",
        "colab_type": "code",
        "outputId": "cd064d31-2735-4aaf-bde9-44662daaf8f0",
        "colab": {
          "resources": {
            "http://localhost:8080/nbextensions/google.colab/files.js": {
              "data": "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",
              "ok": true,
              "headers": [
                [
                  "content-type",
                  "application/javascript"
                ]
              ],
              "status": 200,
              "status_text": ""
            }
          },
          "base_uri": "https://localhost:8080/",
          "height": 193
        }
      },
      "source": [
        "from google.colab import files\n",
        "\n",
        "files.upload()"
      ],
      "execution_count": 0,
      "outputs": [
        {
          "output_type": "display_data",
          "data": {
            "text/html": [
              "\n",
              "     <input type=\"file\" id=\"files-3b033246-fb43-4032-bd6a-e04d8b3523f9\" name=\"files[]\" multiple disabled />\n",
              "     <output id=\"result-3b033246-fb43-4032-bd6a-e04d8b3523f9\">\n",
              "      Upload widget is only available when the cell has been executed in the\n",
              "      current browser session. Please rerun this cell to enable.\n",
              "      </output>\n",
              "      <script src=\"/nbextensions/google.colab/files.js\"></script> "
            ],
            "text/plain": [
              "<IPython.core.display.HTML object>"
            ]
          },
          "metadata": {
            "tags": []
          }
        },
        {
          "output_type": "stream",
          "text": [
            "Saving dados2mm.csv to dados2mm.csv\n",
            "Saving dados4mm.csv to dados4mm.csv\n",
            "Saving dados8mm.csv to dados8mm.csv\n"
          ],
          "name": "stdout"
        },
        {
          "output_type": "execute_result",
          "data": {
            "text/plain": [
              "{'dados2mm.csv': b'f,V_0\\n365,-2.1\\n405,-1.8\\n436,-1.6\\n546,-1.0\\n577,-0.9\\n',\n",
              " 'dados4mm.csv': b'f,V_0\\n365,-2.1\\n405,-1.8\\n436,-1.6\\n546,-1.0\\n577,-0.9\\n',\n",
              " 'dados8mm.csv': b'f,V_0\\n365,-2.0\\n405,-1.8\\n436,-1.6\\n546,-1.0\\n577,-0.9\\n'}"
            ]
          },
          "metadata": {
            "tags": []
          },
          "execution_count": 60
        }
      ]
    },
    {
      "cell_type": "markdown",
      "metadata": {
        "id": "sHo279HdbmFd",
        "colab_type": "text"
      },
      "source": [
        "### Proposta de atividade 2 - Constante de Planck"
      ]
    },
    {
      "cell_type": "code",
      "metadata": {
        "id": "Y9KLMFujXknQ",
        "colab_type": "code",
        "outputId": "8af1f0d2-f018-44e3-be00-c0cbf4e39fdc",
        "colab": {
          "base_uri": "https://localhost:8080/",
          "height": 204
        }
      },
      "source": [
        "import pandas as pd\n",
        "doismm = pd.read_csv(\"dados2mm.csv\")\n",
        "doismm.head(10)\n"
      ],
      "execution_count": 0,
      "outputs": [
        {
          "output_type": "execute_result",
          "data": {
            "text/html": [
              "<div>\n",
              "<style scoped>\n",
              "    .dataframe tbody tr th:only-of-type {\n",
              "        vertical-align: middle;\n",
              "    }\n",
              "\n",
              "    .dataframe tbody tr th {\n",
              "        vertical-align: top;\n",
              "    }\n",
              "\n",
              "    .dataframe thead th {\n",
              "        text-align: right;\n",
              "    }\n",
              "</style>\n",
              "<table border=\"1\" class=\"dataframe\">\n",
              "  <thead>\n",
              "    <tr style=\"text-align: right;\">\n",
              "      <th></th>\n",
              "      <th>f</th>\n",
              "      <th>V_0</th>\n",
              "    </tr>\n",
              "  </thead>\n",
              "  <tbody>\n",
              "    <tr>\n",
              "      <th>0</th>\n",
              "      <td>365</td>\n",
              "      <td>-2.1</td>\n",
              "    </tr>\n",
              "    <tr>\n",
              "      <th>1</th>\n",
              "      <td>405</td>\n",
              "      <td>-1.8</td>\n",
              "    </tr>\n",
              "    <tr>\n",
              "      <th>2</th>\n",
              "      <td>436</td>\n",
              "      <td>-1.6</td>\n",
              "    </tr>\n",
              "    <tr>\n",
              "      <th>3</th>\n",
              "      <td>546</td>\n",
              "      <td>-1.0</td>\n",
              "    </tr>\n",
              "    <tr>\n",
              "      <th>4</th>\n",
              "      <td>577</td>\n",
              "      <td>-0.9</td>\n",
              "    </tr>\n",
              "  </tbody>\n",
              "</table>\n",
              "</div>"
            ],
            "text/plain": [
              "     f  V_0\n",
              "0  365 -2.1\n",
              "1  405 -1.8\n",
              "2  436 -1.6\n",
              "3  546 -1.0\n",
              "4  577 -0.9"
            ]
          },
          "metadata": {
            "tags": []
          },
          "execution_count": 86
        }
      ]
    },
    {
      "cell_type": "markdown",
      "metadata": {
        "id": "WsEeoXolbc91",
        "colab_type": "text"
      },
      "source": [
        "Determine a constante de Planck, usando:\n",
        "\n",
        " $$ V_0 = \\frac{hv}{e} - \\frac{w_0}{e} $$"
      ]
    },
    {
      "cell_type": "code",
      "metadata": {
        "id": "QYoFCkBXd-Xx",
        "colab_type": "code",
        "outputId": "8bdde2da-406c-4ef1-b5f0-fc54c5e83ff9",
        "colab": {
          "base_uri": "https://localhost:8080/",
          "height": 136
        }
      },
      "source": [
        "###### TRANSFORMANDO PARA FREQUÊNCIA\n",
        "\n",
        "import scipy.constants \n",
        "\n",
        "print ('VELOCIDADE DA LUZ',scipy.constants.c)\n",
        "\n",
        "doismm.f = doismm.f*10**(-9)\n",
        "doismm.f = scipy.constants.c / doismm.f\n",
        "\n",
        "## TABELA\n",
        "print(doismm)"
      ],
      "execution_count": 0,
      "outputs": [
        {
          "output_type": "stream",
          "text": [
            "VELOCIDADE DA LUZ 299792458.0\n",
            "              f  V_0\n",
            "0  8.213492e+14 -2.1\n",
            "1  7.402283e+14 -1.8\n",
            "2  6.875974e+14 -1.6\n",
            "3  5.490704e+14 -1.0\n",
            "4  5.195710e+14 -0.9\n"
          ],
          "name": "stdout"
        }
      ]
    },
    {
      "cell_type": "markdown",
      "metadata": {
        "id": "-XHarLitb0ab",
        "colab_type": "text"
      },
      "source": [
        "#### Resultado"
      ]
    },
    {
      "cell_type": "code",
      "metadata": {
        "id": "VFmMSoZWa1aq",
        "colab_type": "code",
        "outputId": "11a6ebbc-e952-496f-bcd3-98ed94c216eb",
        "colab": {
          "base_uri": "https://localhost:8080/",
          "height": 330
        }
      },
      "source": [
        "slope, intercept, r_value, p_value, std_err = stats.linregress(doismm.f,doismm.V_0)\n",
        "\n",
        "line = slope*doismm.f+intercept\n",
        "plt.plot(doismm.f,doismm.V_0,'o',doismm.f,line)\n",
        "\n",
        "plt.title('Gráfico 1 - Resultados para abertura de 2mm')\n",
        "plt.grid()\n",
        "plt.ylabel(\"Potencial de corte (V)\")\n",
        "plt.xlabel(\"Frequência (Hz)\")\n",
        "\n",
        "\n",
        "print('COEFICIENTE ANGULAR',slope)\n",
        "\n",
        "\n",
        "cte_exp1_h = (slope)*1.6*10**(-19)\n",
        "\n",
        "print('CONSTANTE DE PLANCK',cte_exp1_h)\n",
        "\n",
        "\n",
        "\n",
        "plt.savefig('grafico_planck1.png', dpi=550)"
      ],
      "execution_count": 0,
      "outputs": [
        {
          "output_type": "stream",
          "text": [
            "COEFICIENTE ANGULAR -4.0451032413672865e-15\n",
            "CONSTANTE DE PLANCK -6.472165186187659e-34\n"
          ],
          "name": "stdout"
        },
        {
          "output_type": "display_data",
          "data": {
            "image/png": "[encoded data removed]",
            "text/plain": [
              "<Figure size 432x288 with 1 Axes>"
            ]
          },
          "metadata": {
            "tags": []
          }
        }
      ]
    },
    {
      "cell_type": "markdown",
      "metadata": {
        "id": "tYPOakWOhOaq",
        "colab_type": "text"
      },
      "source": [
        "### Movimentos Aleatórios - O Caminhar do Bêbado"
      ]
    },
    {
      "cell_type": "code",
      "metadata": {
        "id": "-W6n7LjkhcEq",
        "colab_type": "code",
        "colab": {}
      },
      "source": [
        "import random as rd\n",
        "import matplotlib.pyplot as plt\n",
        "import math as mt"
      ],
      "execution_count": 0,
      "outputs": []
    },
    {
      "cell_type": "code",
      "metadata": {
        "id": "kLVa3PeZIhdb",
        "colab_type": "code",
        "colab": {}
      },
      "source": [
        "#listas com os valores iniciais de tempo (t), posição em x (x) e posição em y (y)\n",
        "t = [0]\n",
        "x = [0]\n",
        "y = [0]\n",
        "\n",
        "for n in range(1,200): #Define o intervalo de pontos\n",
        "    Argx = rd.randrange(0,200) #Define o argumento em x\n",
        "    Argy = rd.randrange(0,200) #Define o argumento em y\n",
        "    Rx = rd.randrange(0,200) #Define o tamanho do deslocamento em x\n",
        "    Ry = rd.randrange(0,200) #Define o tamanho do deslocamento em y\n",
        "    X = (R/100)*mt.cos((Argx/100.0)*mt.pi)\n",
        "    Y = (R/100)*mt.sin((Argy/100.0)*mt.pi)\n",
        "    #Divido Arg por 100 pois funçoes trigonométricas são periódicas em 2pi. Excluo\n",
        "    #portanto o valor 200, pois assim o gerador de números aleatórios criaria\n",
        "    #uma direção privilegiada: x positivo. 0 e 200 fariam o vetor apontar na\n",
        "    #mesma direção.\n",
        "    \n",
        "    t.append(t[n-1]+1)\n",
        "    x.append(x[n-1]+X)\n",
        "    y.append(y[n-1]+Y)\n",
        "\n",
        "#Plota as listas com todos os valores gerados para t, x e y:\n",
        "#print t\n",
        "#print x\n",
        "#print y"
      ],
      "execution_count": 0,
      "outputs": []
    },
    {
      "cell_type": "code",
      "metadata": {
        "id": "ImB5k_U5JMaa",
        "colab_type": "code",
        "colab": {}
      },
      "source": [
        "#Plota o gráfico de x versus y para os dados gerados na célula anterior:\n",
        "#Se olhar de relance, parece uma cordilheira kkk\n",
        "plt.plot(x,y,'c^')\n",
        "plt.plot(x,y,'k--')\n",
        "plt.title('Caminhar aleatorio de uma particula')\n",
        "plt.xlabel('x [u.c.]')\n",
        "plt.ylabel('y [u.c.]')\n",
        "plt.grid()\n",
        "plt.show()"
      ],
      "execution_count": 0,
      "outputs": []
    },
    {
      "cell_type": "markdown",
      "metadata": {
        "id": "czq9ZFy1iXOm",
        "colab_type": "text"
      },
      "source": [
        "## Parte 2"
      ]
    },
    {
      "cell_type": "markdown",
      "metadata": {
        "id": "H8mDtdx6i6U7",
        "colab_type": "text"
      },
      "source": [
        "### IF, ELIF, ELSE E WHILE:"
      ]
    },
    {
      "cell_type": "markdown",
      "metadata": {
        "id": "870gHohfM3fq",
        "colab_type": "text"
      },
      "source": [
        "####A Função IF:"
      ]
    },
    {
      "cell_type": "code",
      "metadata": {
        "id": "g8rL16z9M_1z",
        "colab_type": "code",
        "colab": {}
      },
      "source": [
        "#Calcula a porcentagem de acertos em uma avaliação e exibe uma mensagem\n",
        "\n",
        "print 'As notas da prova valem de 0 a 10'\n",
        "\n",
        "nota = input('Nota na prova:')\n",
        "pont = nota*100/10.0 #Converte a pontuação em porcentagem\n",
        "\n",
        "print 'Sua porcentagem de acertos foi:',pont,'%'\n",
        "if pont >= 90:\n",
        "    print 'Parabéns!'\n",
        "if 60 <= pont < 80:\n",
        "    print 'Você pode melhorar!'\n",
        "if pont < 60:\n",
        "    print 'Estude um pouco mais :)'"
      ],
      "execution_count": 0,
      "outputs": []
    },
    {
      "cell_type": "markdown",
      "metadata": {
        "id": "9RQdktXqN3Oy",
        "colab_type": "text"
      },
      "source": [
        "####A Função ELIF:"
      ]
    },
    {
      "cell_type": "code",
      "metadata": {
        "id": "XZ6L_3FfN760",
        "colab_type": "code",
        "colab": {}
      },
      "source": [
        "print 'As notas da prova valem de 0 a 10'\n",
        "\n",
        "nota = input('Nota na prova:')\n",
        "pont = nota*100/10.0\n",
        "\n",
        "if pont >= 80: print 'Parabéns! Ganhou um A!'\n",
        "elif 60 <= pont < 80: print 'Parabéns! Ganhou um B!'\n",
        "elif 40 <= pont < 60: print 'Ganhou um C! Vamos estudar mais?'\n",
        "elif 20 <= pont < 40: print 'Ganhou um D! Hora de frequentar as tutorias!'\n",
        "elif 0 <= pont < 20: print 'Tá feia a coisa! Ganhou um E!'\n",
        "print 'Sua porcentagem de acertos foi de',pont,'%'"
      ],
      "execution_count": 0,
      "outputs": []
    },
    {
      "cell_type": "markdown",
      "metadata": {
        "id": "ii4lo6qQOtWm",
        "colab_type": "text"
      },
      "source": [
        "####A Função ELSE:"
      ]
    },
    {
      "cell_type": "code",
      "metadata": {
        "id": "6Ck86JI6OzY0",
        "colab_type": "code",
        "colab": {}
      },
      "source": [
        "def TriTipo(a,b,c):\n",
        "        #Com base nos valores dos lados a, b e c, caracteriza um\n",
        "        #triângulo como isóceles, equilátero ou escaleno\n",
        "        \n",
        "    if a == b and b == c:\n",
        "        return 'Equilatero'\n",
        "    elif a == b or b == c or a == c:\n",
        "        return 'Isoceles'\n",
        "    else:\n",
        "        return 'Escaleno'\n",
        "        \n",
        "TriTipo(2,1,1)"
      ],
      "execution_count": 0,
      "outputs": []
    },
    {
      "cell_type": "markdown",
      "metadata": {
        "id": "-wSBhAktPQrD",
        "colab_type": "text"
      },
      "source": [
        "####A Função WHILE:"
      ]
    },
    {
      "cell_type": "code",
      "metadata": {
        "id": "Zb7tM9uSPvbk",
        "colab_type": "code",
        "colab": {}
      },
      "source": [
        "soma = 0.0\n",
        "cont = 0\n",
        "num = input('Entre com um numero:')\n",
        "if num == -1:\n",
        "    print 'A média é: 0'\n",
        "elif num != -1:\n",
        "    while num != -1:\n",
        "        soma = soma + num\n",
        "        cont = cont + 1\n",
        "        num = input('Entre com um numero:')\n",
        "    print 'A média é:', soma / cont"
      ],
      "execution_count": 0,
      "outputs": []
    },
    {
      "cell_type": "markdown",
      "metadata": {
        "id": "iK3Cd8ocjDKi",
        "colab_type": "text"
      },
      "source": [
        "### Construindo Histograma "
      ]
    },
    {
      "cell_type": "code",
      "metadata": {
        "id": "0iQn9huzh7vf",
        "colab_type": "code",
        "outputId": "7be6adf5-40cb-4201-938f-53ed2f835414",
        "colab": {
          "base_uri": "https://localhost:8080/",
          "height": 297
        }
      },
      "source": [
        "### Construindo um histograma\n",
        "\n",
        "a = [0,1,2,2,2,3,4,5]\n",
        "\n",
        "import pandas as pd\n",
        "\n",
        "data_histograma = pd.DataFrame({'num' : a})\n",
        "\n",
        "data_histograma.head(10)\n",
        "\n"
      ],
      "execution_count": 0,
      "outputs": [
        {
          "output_type": "execute_result",
          "data": {
            "text/html": [
              "<div>\n",
              "<style scoped>\n",
              "    .dataframe tbody tr th:only-of-type {\n",
              "        vertical-align: middle;\n",
              "    }\n",
              "\n",
              "    .dataframe tbody tr th {\n",
              "        vertical-align: top;\n",
              "    }\n",
              "\n",
              "    .dataframe thead th {\n",
              "        text-align: right;\n",
              "    }\n",
              "</style>\n",
              "<table border=\"1\" class=\"dataframe\">\n",
              "  <thead>\n",
              "    <tr style=\"text-align: right;\">\n",
              "      <th></th>\n",
              "      <th>num</th>\n",
              "    </tr>\n",
              "  </thead>\n",
              "  <tbody>\n",
              "    <tr>\n",
              "      <th>0</th>\n",
              "      <td>0</td>\n",
              "    </tr>\n",
              "    <tr>\n",
              "      <th>1</th>\n",
              "      <td>1</td>\n",
              "    </tr>\n",
              "    <tr>\n",
              "      <th>2</th>\n",
              "      <td>2</td>\n",
              "    </tr>\n",
              "    <tr>\n",
              "      <th>3</th>\n",
              "      <td>2</td>\n",
              "    </tr>\n",
              "    <tr>\n",
              "      <th>4</th>\n",
              "      <td>2</td>\n",
              "    </tr>\n",
              "    <tr>\n",
              "      <th>5</th>\n",
              "      <td>3</td>\n",
              "    </tr>\n",
              "    <tr>\n",
              "      <th>6</th>\n",
              "      <td>4</td>\n",
              "    </tr>\n",
              "    <tr>\n",
              "      <th>7</th>\n",
              "      <td>5</td>\n",
              "    </tr>\n",
              "  </tbody>\n",
              "</table>\n",
              "</div>"
            ],
            "text/plain": [
              "   num\n",
              "0    0\n",
              "1    1\n",
              "2    2\n",
              "3    2\n",
              "4    2\n",
              "5    3\n",
              "6    4\n",
              "7    5"
            ]
          },
          "metadata": {
            "tags": []
          },
          "execution_count": 21
        }
      ]
    },
    {
      "cell_type": "code",
      "metadata": {
        "id": "Zx8oGapKmZ1P",
        "colab_type": "code",
        "outputId": "5416d393-a359-4e45-d7e5-131c4d807f8f",
        "colab": {
          "base_uri": "https://localhost:8080/",
          "height": 329
        }
      },
      "source": [
        "import matplotlib.pyplot as plt\n",
        "import statistics\n",
        "\n",
        "\n",
        "histograma = plt.hist(data_histograma.num)\n",
        "\n",
        "desviopd = statistics.pstdev(data_histograma.num)        \n",
        "varianca = statistics.variance(data_histograma.num)      \n",
        "\n",
        "print('desvio padrão',desviopd)\n",
        "print('variança',varianca)\n",
        "\n",
        "plt.xlabel(r'$x$')\n",
        "plt.title(\" Histograma\")\n",
        "plt.savefig(\"histograma.png\", dpi=1000)\n",
        "plt.ticklabel_format(style='sci', axis='x', scilimits=(0,0))\n",
        "plt.show()"
      ],
      "execution_count": 0,
      "outputs": [
        {
          "output_type": "stream",
          "text": [
            "desvio padrão 1.4947825928876748\n",
            "variança 2.5535714285714284\n"
          ],
          "name": "stdout"
        },
        {
          "output_type": "display_data",
          "data": {
            "image/png": "[encoded data removed]",
            "text/plain": [
              "<Figure size 432x288 with 1 Axes>"
            ]
          },
          "metadata": {
            "tags": []
          }
        }
      ]
    },
    {
      "cell_type": "markdown",
      "metadata": {
        "id": "b9lfd6OXnnYi",
        "colab_type": "text"
      },
      "source": [
        "### Exemplo aplicado - Análise de dados do Arduino"
      ]
    },
    {
      "cell_type": "markdown",
      "metadata": {
        "id": "ss7BBarRq7CH",
        "colab_type": "text"
      },
      "source": [
        "<p>Aparato experimental<p>\n",
        "\n",
        "![aparato experimental](https://i.imgur.com/HVnKnMt.png)\n",
        "\n",
        "<p>Arduino<p>\n",
        "  \n",
        "![arduino](https://i.imgur.com/llgmTh7.png )\n",
        "\n",
        "<p>Esquema<p>\n",
        "  \n",
        "![Imgur](https://i.imgur.com/D4cSs54.png )\n",
        "\n",
        " <p>Dados esperados<p>\n",
        "  \n",
        "![Dados esperados](https://i.imgur.com/OLjOPAl.png)"
      ]
    },
    {
      "cell_type": "code",
      "metadata": {
        "id": "9zHnFQsvn3Mb",
        "colab_type": "code",
        "outputId": "c2161722-a5a4-4cc1-a2ed-41c83828a79c",
        "colab": {
          "resources": {
            "http://localhost:8080/nbextensions/google.colab/files.js": {
              "data": "Ly8gQ29weXJpZ2h0IDIwMTcgR29vZ2xlIExMQwovLwovLyBMaWNlbnNlZCB1bmRlciB0aGUgQXBhY2hlIExpY2Vuc2UsIFZlcnNpb24gMi4wICh0aGUgIkxpY2Vuc2UiKTsKLy8geW91IG1heSBub3QgdXNlIHRoaXMgZmlsZSBleGNlcHQgaW4gY29tcGxpYW5jZSB3aXRoIHRoZSBMaWNlbnNlLgovLyBZb3UgbWF5IG9idGFpbiBhIGNvcHkgb2YgdGhlIExpY2Vuc2UgYXQKLy8KLy8gICAgICBodHRwOi8vd3d3LmFwYWNoZS5vcmcvbGljZW5zZXMvTElDRU5TRS0yLjAKLy8KLy8gVW5sZXNzIHJlcXVpcmVkIGJ5IGFwcGxpY2FibGUgbGF3IG9yIGFncmVlZCB0byBpbiB3cml0aW5nLCBzb2Z0d2FyZQovLyBkaXN0cmlidXRlZCB1bmRlciB0aGUgTGljZW5zZSBpcyBkaXN0cmlidXRlZCBvbiBhbiAiQVMgSVMiIEJBU0lTLAovLyBXSVRIT1VUIFdBUlJBTlRJRVMgT1IgQ09ORElUSU9OUyBPRiBBTlkgS0lORCwgZWl0aGVyIGV4cHJlc3Mgb3IgaW1wbGllZC4KLy8gU2VlIHRoZSBMaWNlbnNlIGZvciB0aGUgc3BlY2lmaWMgbGFuZ3VhZ2UgZ292ZXJuaW5nIHBlcm1pc3Npb25zIGFuZAovLyBsaW1pdGF0aW9ucyB1bmRlciB0aGUgTGljZW5zZS4KCi8qKgogKiBAZmlsZW92ZXJ2aWV3IEhlbHBlcnMgZm9yIGdvb2dsZS5jb2xhYiBQeXRob24gbW9kdWxlLgogKi8KKGZ1bmN0aW9uKHNjb3BlKSB7CmZ1bmN0aW9uIHNwYW4odGV4dCwgc3R5bGVBdHRyaWJ1dGVzID0ge30pIHsKICBjb25zdCBlbGVtZW50ID0gZG9jdW1lbnQuY3JlYXRlRWxlbWVudCgnc3BhbicpOwogIGVsZW1lbnQudGV4dENvbnRlbnQgPSB0ZXh0OwogIGZvciAoY29uc3Qga2V5IG9mIE9iamVjdC5rZXlzKHN0eWxlQXR0cmlidXRlcykpIHsKICAgIGVsZW1lbnQuc3R5bGVba2V5XSA9IHN0eWxlQXR0cmlidXRlc1trZXldOwogIH0KICByZXR1cm4gZWxlbWVudDsKfQoKLy8gTWF4IG51bWJlciBvZiBieXRlcyB3aGljaCB3aWxsIGJlIHVwbG9hZGVkIGF0IGEgdGltZS4KY29uc3QgTUFYX1BBWUxPQURfU0laRSA9IDEwMCAqIDEwMjQ7Ci8vIE1heCBhbW91bnQgb2YgdGltZSB0byBibG9jayB3YWl0aW5nIGZvciB0aGUgdXNlci4KY29uc3QgRklMRV9DSEFOR0VfVElNRU9VVF9NUyA9IDMwICogMTAwMDsKCmZ1bmN0aW9uIF91cGxvYWRGaWxlcyhpbnB1dElkLCBvdXRwdXRJZCkgewogIGNvbnN0IHN0ZXBzID0gdXBsb2FkRmlsZXNTdGVwKGlucHV0SWQsIG91dHB1dElkKTsKICBjb25zdCBvdXRwdXRFbGVtZW50ID0gZG9jdW1lbnQuZ2V0RWxlbWVudEJ5SWQob3V0cHV0SWQpOwogIC8vIENhY2hlIHN0ZXBzIG9uIHRoZSBvdXRwdXRFbGVtZW50IHRvIG1ha2UgaXQgYXZhaWxhYmxlIGZvciB0aGUgbmV4dCBjYWxsCiAgLy8gdG8gdXBsb2FkRmlsZXNDb250aW51ZSBmcm9tIFB5dGhvbi4KICBvdXRwdXRFbGVtZW50LnN0ZXBzID0gc3RlcHM7CgogIHJldHVybiBfdXBsb2FkRmlsZXNDb250aW51ZShvdXRwdXRJZCk7Cn0KCi8vIFRoaXMgaXMgcm91Z2hseSBhbiBhc3luYyBnZW5lcmF0b3IgKG5vdCBzdXBwb3J0ZWQgaW4gdGhlIGJyb3dzZXIgeWV0KSwKLy8gd2hlcmUgdGhlcmUgYXJlIG11bHRpcGxlIGFzeW5jaHJvbm91cyBzdGVwcyBhbmQgdGhlIFB5dGhvbiBzaWRlIGlzIGdvaW5nCi8vIHRvIHBvbGwgZm9yIGNvbXBsZXRpb24gb2YgZWFjaCBzdGVwLgovLyBUaGlzIHVzZXMgYSBQcm9taXNlIHRvIGJsb2NrIHRoZSBweXRob24gc2lkZSBvbiBjb21wbGV0aW9uIG9mIGVhY2ggc3RlcCwKLy8gdGhlbiBwYXNzZXMgdGhlIHJlc3VsdCBvZiB0aGUgcHJldmlvdXMgc3RlcCBhcyB0aGUgaW5wdXQgdG8gdGhlIG5leHQgc3RlcC4KZnVuY3Rpb24gX3VwbG9hZEZpbGVzQ29udGludWUob3V0cHV0SWQpIHsKICBjb25zdCBvdXRwdXRFbGVtZW50ID0gZG9jdW1lbnQuZ2V0RWxlbWVudEJ5SWQob3V0cHV0SWQpOwogIGNvbnN0IHN0ZXBzID0gb3V0cHV0RWxlbWVudC5zdGVwczsKCiAgY29uc3QgbmV4dCA9IHN0ZXBzLm5leHQob3V0cHV0RWxlbWVudC5sYXN0UHJvbWlzZVZhbHVlKTsKICByZXR1cm4gUHJvbWlzZS5yZXNvbHZlKG5leHQudmFsdWUucHJvbWlzZSkudGhlbigodmFsdWUpID0+IHsKICAgIC8vIENhY2hlIHRoZSBsYXN0IHByb21pc2UgdmFsdWUgdG8gbWFrZSBpdCBhdmFpbGFibGUgdG8gdGhlIG5leHQKICAgIC8vIHN0ZXAgb2YgdGhlIGdlbmVyYXRvci4KICAgIG91dHB1dEVsZW1lbnQubGFzdFByb21pc2VWYWx1ZSA9IHZhbHVlOwogICAgcmV0dXJuIG5leHQudmFsdWUucmVzcG9uc2U7CiAgfSk7Cn0KCi8qKgogKiBHZW5lcmF0b3IgZnVuY3Rpb24gd2hpY2ggaXMgY2FsbGVkIGJldHdlZW4gZWFjaCBhc3luYyBzdGVwIG9mIHRoZSB1cGxvYWQKICogcHJvY2Vzcy4KICogQHBhcmFtIHtzdHJpbmd9IGlucHV0SWQgRWxlbWVudCBJRCBvZiB0aGUgaW5wdXQgZmlsZSBwaWNrZXIgZWxlbWVudC4KICogQHBhcmFtIHtzdHJpbmd9IG91dHB1dElkIEVsZW1lbnQgSUQgb2YgdGhlIG91dHB1dCBkaXNwbGF5LgogKiBAcmV0dXJuIHshSXRlcmFibGU8IU9iamVjdD59IEl0ZXJhYmxlIG9mIG5leHQgc3RlcHMuCiAqLwpmdW5jdGlvbiogdXBsb2FkRmlsZXNTdGVwKGlucHV0SWQsIG91dHB1dElkKSB7CiAgY29uc3QgaW5wdXRFbGVtZW50ID0gZG9jdW1lbnQuZ2V0RWxlbWVudEJ5SWQoaW5wdXRJZCk7CiAgaW5wdXRFbGVtZW50LmRpc2FibGVkID0gZmFsc2U7CgogIGNvbnN0IG91dHB1dEVsZW1lbnQgPSBkb2N1bWVudC5nZXRFbGVtZW50QnlJZChvdXRwdXRJZCk7CiAgb3V0cHV0RWxlbWVudC5pbm5lckhUTUwgPSAnJzsKCiAgY29uc3QgcGlja2VkUHJvbWlzZSA9IG5ldyBQcm9taXNlKChyZXNvbHZlKSA9PiB7CiAgICBpbnB1dEVsZW1lbnQuYWRkRXZlbnRMaXN0ZW5lcignY2hhbmdlJywgKGUpID0+IHsKICAgICAgcmVzb2x2ZShlLnRhcmdldC5maWxlcyk7CiAgICB9KTsKICB9KTsKCiAgY29uc3QgY2FuY2VsID0gZG9jdW1lbnQuY3JlYXRlRWxlbWVudCgnYnV0dG9uJyk7CiAgaW5wdXRFbGVtZW50LnBhcmVudEVsZW1lbnQuYXBwZW5kQ2hpbGQoY2FuY2VsKTsKICBjYW5jZWwudGV4dENvbnRlbnQgPSAnQ2FuY2VsIHVwbG9hZCc7CiAgY29uc3QgY2FuY2VsUHJvbWlzZSA9IG5ldyBQcm9taXNlKChyZXNvbHZlKSA9PiB7CiAgICBjYW5jZWwub25jbGljayA9ICgpID0+IHsKICAgICAgcmVzb2x2ZShudWxsKTsKICAgIH07CiAgfSk7CgogIC8vIENhbmNlbCB1cGxvYWQgaWYgdXNlciBoYXNuJ3QgcGlja2VkIGFueXRoaW5nIGluIHRpbWVvdXQuCiAgY29uc3QgdGltZW91dFByb21pc2UgPSBuZXcgUHJvbWlzZSgocmVzb2x2ZSkgPT4gewogICAgc2V0VGltZW91dCgoKSA9PiB7CiAgICAgIHJlc29sdmUobnVsbCk7CiAgICB9LCBGSUxFX0NIQU5HRV9USU1FT1VUX01TKTsKICB9KTsKCiAgLy8gV2FpdCBmb3IgdGhlIHVzZXIgdG8gcGljayB0aGUgZmlsZXMuCiAgY29uc3QgZmlsZXMgPSB5aWVsZCB7CiAgICBwcm9taXNlOiBQcm9taXNlLnJhY2UoW3BpY2tlZFByb21pc2UsIHRpbWVvdXRQcm9taXNlLCBjYW5jZWxQcm9taXNlXSksCiAgICByZXNwb25zZTogewogICAgICBhY3Rpb246ICdzdGFydGluZycsCiAgICB9CiAgfTsKCiAgaWYgKCFmaWxlcykgewogICAgcmV0dXJuIHsKICAgICAgcmVzcG9uc2U6IHsKICAgICAgICBhY3Rpb246ICdjb21wbGV0ZScsCiAgICAgIH0KICAgIH07CiAgfQoKICBjYW5jZWwucmVtb3ZlKCk7CgogIC8vIERpc2FibGUgdGhlIGlucHV0IGVsZW1lbnQgc2luY2UgZnVydGhlciBwaWNrcyBhcmUgbm90IGFsbG93ZWQuCiAgaW5wdXRFbGVtZW50LmRpc2FibGVkID0gdHJ1ZTsKCiAgZm9yIChjb25zdCBmaWxlIG9mIGZpbGVzKSB7CiAgICBjb25zdCBsaSA9IGRvY3VtZW50LmNyZWF0ZUVsZW1lbnQoJ2xpJyk7CiAgICBsaS5hcHBlbmQoc3BhbihmaWxlLm5hbWUsIHtmb250V2VpZ2h0OiAnYm9sZCd9KSk7CiAgICBsaS5hcHBlbmQoc3BhbigKICAgICAgICBgKCR7ZmlsZS50eXBlIHx8ICduL2EnfSkgLSAke2ZpbGUuc2l6ZX0gYnl0ZXMsIGAgKwogICAgICAgIGBsYXN0IG1vZGlmaWVkOiAkewogICAgICAgICAgICBmaWxlLmxhc3RNb2RpZmllZERhdGUgPyBmaWxlLmxhc3RNb2RpZmllZERhdGUudG9Mb2NhbGVEYXRlU3RyaW5nKCkgOgogICAgICAgICAgICAgICAgICAgICAgICAgICAgICAgICAgICAnbi9hJ30gLSBgKSk7CiAgICBjb25zdCBwZXJjZW50ID0gc3BhbignMCUgZG9uZScpOwogICAgbGkuYXBwZW5kQ2hpbGQocGVyY2VudCk7CgogICAgb3V0cHV0RWxlbWVudC5hcHBlbmRDaGlsZChsaSk7CgogICAgY29uc3QgZmlsZURhdGFQcm9taXNlID0gbmV3IFByb21pc2UoKHJlc29sdmUpID0+IHsKICAgICAgY29uc3QgcmVhZGVyID0gbmV3IEZpbGVSZWFkZXIoKTsKICAgICAgcmVhZGVyLm9ubG9hZCA9IChlKSA9PiB7CiAgICAgICAgcmVzb2x2ZShlLnRhcmdldC5yZXN1bHQpOwogICAgICB9OwogICAgICByZWFkZXIucmVhZEFzQXJyYXlCdWZmZXIoZmlsZSk7CiAgICB9KTsKICAgIC8vIFdhaXQgZm9yIHRoZSBkYXRhIHRvIGJlIHJlYWR5LgogICAgbGV0IGZpbGVEYXRhID0geWllbGQgewogICAgICBwcm9taXNlOiBmaWxlRGF0YVByb21pc2UsCiAgICAgIHJlc3BvbnNlOiB7CiAgICAgICAgYWN0aW9uOiAnY29udGludWUnLAogICAgICB9CiAgICB9OwoKICAgIC8vIFVzZSBhIGNodW5rZWQgc2VuZGluZyB0byBhdm9pZCBtZXNzYWdlIHNpemUgbGltaXRzLiBTZWUgYi82MjExNTY2MC4KICAgIGxldCBwb3NpdGlvbiA9IDA7CiAgICB3aGlsZSAocG9zaXRpb24gPCBmaWxlRGF0YS5ieXRlTGVuZ3RoKSB7CiAgICAgIGNvbnN0IGxlbmd0aCA9IE1hdGgubWluKGZpbGVEYXRhLmJ5dGVMZW5ndGggLSBwb3NpdGlvbiwgTUFYX1BBWUxPQURfU0laRSk7CiAgICAgIGNvbnN0IGNodW5rID0gbmV3IFVpbnQ4QXJyYXkoZmlsZURhdGEsIHBvc2l0aW9uLCBsZW5ndGgpOwogICAgICBwb3NpdGlvbiArPSBsZW5ndGg7CgogICAgICBjb25zdCBiYXNlNjQgPSBidG9hKFN0cmluZy5mcm9tQ2hhckNvZGUuYXBwbHkobnVsbCwgY2h1bmspKTsKICAgICAgeWllbGQgewogICAgICAgIHJlc3BvbnNlOiB7CiAgICAgICAgICBhY3Rpb246ICdhcHBlbmQnLAogICAgICAgICAgZmlsZTogZmlsZS5uYW1lLAogICAgICAgICAgZGF0YTogYmFzZTY0LAogICAgICAgIH0sCiAgICAgIH07CiAgICAgIHBlcmNlbnQudGV4dENvbnRlbnQgPQogICAgICAgICAgYCR7TWF0aC5yb3VuZCgocG9zaXRpb24gLyBmaWxlRGF0YS5ieXRlTGVuZ3RoKSAqIDEwMCl9JSBkb25lYDsKICAgIH0KICB9CgogIC8vIEFsbCBkb25lLgogIHlpZWxkIHsKICAgIHJlc3BvbnNlOiB7CiAgICAgIGFjdGlvbjogJ2NvbXBsZXRlJywKICAgIH0KICB9Owp9CgpzY29wZS5nb29nbGUgPSBzY29wZS5nb29nbGUgfHwge307CnNjb3BlLmdvb2dsZS5jb2xhYiA9IHNjb3BlLmdvb2dsZS5jb2xhYiB8fCB7fTsKc2NvcGUuZ29vZ2xlLmNvbGFiLl9maWxlcyA9IHsKICBfdXBsb2FkRmlsZXMsCiAgX3VwbG9hZEZpbGVzQ29udGludWUsCn07Cn0pKHNlbGYpOwo=",
              "ok": true,
              "headers": [
                [
                  "content-type",
                  "application/javascript"
                ]
              ],
              "status": 200,
              "status_text": ""
            }
          },
          "base_uri": "https://localhost:8080/",
          "height": 74
        }
      },
      "source": [
        "##### introdução do problema visto no laboratório\n",
        "\n",
        "from google.colab import files\n",
        "\n",
        "dados = files.upload() ## dessa forma"
      ],
      "execution_count": 0,
      "outputs": [
        {
          "output_type": "display_data",
          "data": {
            "text/html": [
              "\n",
              "     <input type=\"file\" id=\"files-3d647fcf-1392-410a-a763-642ad56afccf\" name=\"files[]\" multiple disabled />\n",
              "     <output id=\"result-3d647fcf-1392-410a-a763-642ad56afccf\">\n",
              "      Upload widget is only available when the cell has been executed in the\n",
              "      current browser session. Please rerun this cell to enable.\n",
              "      </output>\n",
              "      <script src=\"/nbextensions/google.colab/files.js\"></script> "
            ],
            "text/plain": [
              "<IPython.core.display.HTML object>"
            ]
          },
          "metadata": {
            "tags": []
          }
        },
        {
          "output_type": "stream",
          "text": [
            "Saving spreadsheet.csv to spreadsheet (1).csv\n"
          ],
          "name": "stdout"
        }
      ]
    },
    {
      "cell_type": "code",
      "metadata": {
        "id": "yluAH53IoBIJ",
        "colab_type": "code",
        "colab": {}
      },
      "source": [
        "dados = pd.read_csv('spreadsheet.csv') ## ou dessa forma"
      ],
      "execution_count": 0,
      "outputs": []
    },
    {
      "cell_type": "code",
      "metadata": {
        "id": "L_ftIPBonv4_",
        "colab_type": "code",
        "colab": {}
      },
      "source": [
        "import autoreload\n",
        "%reload_ext autoreload\n",
        "%autoreload\n",
        "\n",
        "import operator\n",
        "import socket\n",
        "\n",
        "from itertools import repeat\n",
        "import csv \n",
        "import numpy as np\n",
        "from numpy import *\n",
        "from pandas import *\n",
        "from seaborn import *\n",
        "import matplotlib.pyplot as plt\n",
        "import pandas as pd\n",
        "#import plotly.plotly as py\n",
        "from statsmodels.formula.api import *\n",
        "%matplotlib inline\n",
        "\n",
        "pd.options.display.max_columns = None\n",
        "pd.options.display.max_seq_items = None\n",
        "np.set_printoptions(threshold=np.inf)"
      ],
      "execution_count": 0,
      "outputs": []
    },
    {
      "cell_type": "code",
      "metadata": {
        "id": "HcQTIYDhnya_",
        "colab_type": "code",
        "colab": {}
      },
      "source": [
        "dados = read_csv('spreadsheet.csv')"
      ],
      "execution_count": 0,
      "outputs": []
    },
    {
      "cell_type": "code",
      "metadata": {
        "id": "nIic-U7Enzsv",
        "colab_type": "code",
        "outputId": "e2216936-e451-45a8-e18b-6159208bf1cc",
        "colab": {
          "base_uri": "https://localhost:8080/",
          "height": 359
        }
      },
      "source": [
        "dados.head(10)"
      ],
      "execution_count": 0,
      "outputs": [
        {
          "output_type": "execute_result",
          "data": {
            "text/html": [
              "<div>\n",
              "<style scoped>\n",
              "    .dataframe tbody tr th:only-of-type {\n",
              "        vertical-align: middle;\n",
              "    }\n",
              "\n",
              "    .dataframe tbody tr th {\n",
              "        vertical-align: top;\n",
              "    }\n",
              "\n",
              "    .dataframe thead th {\n",
              "        text-align: right;\n",
              "    }\n",
              "</style>\n",
              "<table border=\"1\" class=\"dataframe\">\n",
              "  <thead>\n",
              "    <tr style=\"text-align: right;\">\n",
              "      <th></th>\n",
              "      <th>coluna</th>\n",
              "    </tr>\n",
              "  </thead>\n",
              "  <tbody>\n",
              "    <tr>\n",
              "      <th>0</th>\n",
              "      <td>517.0</td>\n",
              "    </tr>\n",
              "    <tr>\n",
              "      <th>1</th>\n",
              "      <td>545.0</td>\n",
              "    </tr>\n",
              "    <tr>\n",
              "      <th>2</th>\n",
              "      <td>512.0</td>\n",
              "    </tr>\n",
              "    <tr>\n",
              "      <th>3</th>\n",
              "      <td>531.0</td>\n",
              "    </tr>\n",
              "    <tr>\n",
              "      <th>4</th>\n",
              "      <td>510.0</td>\n",
              "    </tr>\n",
              "    <tr>\n",
              "      <th>5</th>\n",
              "      <td>511.0</td>\n",
              "    </tr>\n",
              "    <tr>\n",
              "      <th>6</th>\n",
              "      <td>506.0</td>\n",
              "    </tr>\n",
              "    <tr>\n",
              "      <th>7</th>\n",
              "      <td>504.0</td>\n",
              "    </tr>\n",
              "    <tr>\n",
              "      <th>8</th>\n",
              "      <td>531.0</td>\n",
              "    </tr>\n",
              "    <tr>\n",
              "      <th>9</th>\n",
              "      <td>528.0</td>\n",
              "    </tr>\n",
              "  </tbody>\n",
              "</table>\n",
              "</div>"
            ],
            "text/plain": [
              "   coluna\n",
              "0   517.0\n",
              "1   545.0\n",
              "2   512.0\n",
              "3   531.0\n",
              "4   510.0\n",
              "5   511.0\n",
              "6   506.0\n",
              "7   504.0\n",
              "8   531.0\n",
              "9   528.0"
            ]
          },
          "metadata": {
            "tags": []
          },
          "execution_count": 118
        }
      ]
    },
    {
      "cell_type": "markdown",
      "metadata": {
        "id": "GtcXwn4zoZC5",
        "colab_type": "text"
      },
      "source": [
        ""
      ]
    },
    {
      "cell_type": "code",
      "metadata": {
        "id": "Sew4yuXpn1mT",
        "colab_type": "code",
        "colab": {}
      },
      "source": [
        "lista1 = []\n",
        "\n",
        "\n",
        "for i in range(5502):\n",
        "    if (dados.coluna[i] <= 1023) and (dados.coluna[i] >= 200):\n",
        "        numero = dados.coluna[i]\n",
        "        lista1.append(numero)\n",
        "    \n",
        "df = pd.DataFrame({'coluna':lista1})"
      ],
      "execution_count": 0,
      "outputs": []
    },
    {
      "cell_type": "code",
      "metadata": {
        "id": "OJ43FktSot6a",
        "colab_type": "code",
        "outputId": "1b57d056-85be-42c5-b089-d2222d6e432b",
        "colab": {
          "base_uri": "https://localhost:8080/",
          "height": 359
        }
      },
      "source": [
        "df.head(10)"
      ],
      "execution_count": 0,
      "outputs": [
        {
          "output_type": "execute_result",
          "data": {
            "text/html": [
              "<div>\n",
              "<style scoped>\n",
              "    .dataframe tbody tr th:only-of-type {\n",
              "        vertical-align: middle;\n",
              "    }\n",
              "\n",
              "    .dataframe tbody tr th {\n",
              "        vertical-align: top;\n",
              "    }\n",
              "\n",
              "    .dataframe thead th {\n",
              "        text-align: right;\n",
              "    }\n",
              "</style>\n",
              "<table border=\"1\" class=\"dataframe\">\n",
              "  <thead>\n",
              "    <tr style=\"text-align: right;\">\n",
              "      <th></th>\n",
              "      <th>coluna</th>\n",
              "    </tr>\n",
              "  </thead>\n",
              "  <tbody>\n",
              "    <tr>\n",
              "      <th>0</th>\n",
              "      <td>517.0</td>\n",
              "    </tr>\n",
              "    <tr>\n",
              "      <th>1</th>\n",
              "      <td>545.0</td>\n",
              "    </tr>\n",
              "    <tr>\n",
              "      <th>2</th>\n",
              "      <td>512.0</td>\n",
              "    </tr>\n",
              "    <tr>\n",
              "      <th>3</th>\n",
              "      <td>531.0</td>\n",
              "    </tr>\n",
              "    <tr>\n",
              "      <th>4</th>\n",
              "      <td>510.0</td>\n",
              "    </tr>\n",
              "    <tr>\n",
              "      <th>5</th>\n",
              "      <td>511.0</td>\n",
              "    </tr>\n",
              "    <tr>\n",
              "      <th>6</th>\n",
              "      <td>506.0</td>\n",
              "    </tr>\n",
              "    <tr>\n",
              "      <th>7</th>\n",
              "      <td>504.0</td>\n",
              "    </tr>\n",
              "    <tr>\n",
              "      <th>8</th>\n",
              "      <td>531.0</td>\n",
              "    </tr>\n",
              "    <tr>\n",
              "      <th>9</th>\n",
              "      <td>528.0</td>\n",
              "    </tr>\n",
              "  </tbody>\n",
              "</table>\n",
              "</div>"
            ],
            "text/plain": [
              "   coluna\n",
              "0   517.0\n",
              "1   545.0\n",
              "2   512.0\n",
              "3   531.0\n",
              "4   510.0\n",
              "5   511.0\n",
              "6   506.0\n",
              "7   504.0\n",
              "8   531.0\n",
              "9   528.0"
            ]
          },
          "metadata": {
            "tags": []
          },
          "execution_count": 120
        }
      ]
    },
    {
      "cell_type": "code",
      "metadata": {
        "id": "vl7daKzEoxDn",
        "colab_type": "code",
        "outputId": "ff153b7d-3da3-4541-9759-058bd3b09a08",
        "colab": {
          "base_uri": "https://localhost:8080/",
          "height": 295
        }
      },
      "source": [
        "plt.plot(df)\n",
        "plt.xlim(3240, 3550)\n",
        "plt.title('Dados obtidos  / V x Baud')\n",
        "plt.ylabel('V')\n",
        "plt.xlabel('baud')\n",
        "plt.show\n",
        "plt.savefig('figura1.png' , dpi=550 ,bbox_inches='tight')"
      ],
      "execution_count": 0,
      "outputs": [
        {
          "output_type": "display_data",
          "data": {
            "image/png": "[encoded data removed]",
            "text/plain": [
              "<Figure size 432x288 with 1 Axes>"
            ]
          },
          "metadata": {
            "tags": []
          }
        }
      ]
    },
    {
      "cell_type": "code",
      "metadata": {
        "id": "0r4OvYiSo2jQ",
        "colab_type": "code",
        "outputId": "a06f7b61-f6ab-4363-d97e-748c8b2ea96c",
        "colab": {
          "base_uri": "https://localhost:8080/",
          "height": 34
        }
      },
      "source": [
        "df.shape ### aqui este comando aparenta estar estranho, porém no jupýter ele funciona perfeitamente indicando desta forma : (5501,1)"
      ],
      "execution_count": 0,
      "outputs": [
        {
          "output_type": "execute_result",
          "data": {
            "image/png": "[encoded data removed]",
            "text/latex": "$$\\left ( 5501, \\quad 1\\right )$$",
            "text/plain": [
              "(5501, 1)"
            ]
          },
          "metadata": {
            "tags": []
          },
          "execution_count": 122
        }
      ]
    },
    {
      "cell_type": "code",
      "metadata": {
        "id": "S59WnHFKo2mJ",
        "colab_type": "code",
        "outputId": "df48dca0-b469-4794-960f-03682983fa69",
        "colab": {
          "base_uri": "https://localhost:8080/",
          "height": 68
        }
      },
      "source": [
        "##### tomando a média para amenizar ruído e tomar o nível 0 novamente\n",
        "\n",
        "med1 = 0\n",
        "for i in range(3240):\n",
        "     med1 = med1 + df.coluna[i]\n",
        "\n",
        "        \n",
        "medtotal1 = med1 / 3240\n",
        "\n",
        "print(medtotal1)\n",
        "\n",
        "med2 = 0\n",
        "for i in range(2261):\n",
        "     med2 = med2 + df.coluna[i + 3240]\n",
        "\n",
        "        \n",
        "medtotal2 = med2 / 2261\n",
        "\n",
        "print(medtotal2)\n",
        "medtotal = (medtotal2+medtotal1) / 2\n",
        "print(medtotal)"
      ],
      "execution_count": 0,
      "outputs": [
        {
          "output_type": "stream",
          "text": [
            "508.6006172839506\n",
            "508.9920389208315\n",
            "508.79632810239104\n"
          ],
          "name": "stdout"
        }
      ]
    },
    {
      "cell_type": "code",
      "metadata": {
        "id": "Vxy-1u8spLyX",
        "colab_type": "code",
        "colab": {}
      },
      "source": [
        "lista2=[]\n",
        "for i in range(5501):\n",
        "    number = df.coluna[i]\n",
        "    medium = number - medtotal\n",
        "    lista2.append(medium)\n",
        "    "
      ],
      "execution_count": 0,
      "outputs": []
    },
    {
      "cell_type": "code",
      "metadata": {
        "id": "-UJ7iuGopQBd",
        "colab_type": "code",
        "outputId": "0b6ce22f-be2e-4dae-d916-46f347e43c21",
        "colab": {
          "base_uri": "https://localhost:8080/",
          "height": 295
        }
      },
      "source": [
        "plt.plot(lista2)\n",
        "plt.xlim(3240, 3550)\n",
        "plt.title('V x baud')\n",
        "plt.ylabel('V')\n",
        "plt.xlabel('baud')\n",
        "plt.show\n",
        "plt.savefig('figura2.png' , dpi=550 ,bbox_inches='tight')"
      ],
      "execution_count": 0,
      "outputs": [
        {
          "output_type": "display_data",
          "data": {
            "image/png": "[encoded data removed]",
            "text/plain": [
              "<Figure size 432x288 with 1 Axes>"
            ]
          },
          "metadata": {
            "tags": []
          }
        }
      ]
    },
    {
      "cell_type": "code",
      "metadata": {
        "id": "FD1mcMbSpRda",
        "colab_type": "code",
        "outputId": "3e740e72-a16d-4ee0-f416-a1a50eeac459",
        "colab": {
          "base_uri": "https://localhost:8080/",
          "height": 269
        }
      },
      "source": [
        "### ZOOM NO GRÁFICO\n",
        "\n",
        "plt.plot(lista2)\n",
        "plt.xlim(3370, 3400)\n",
        "plt.show\n",
        "plt.savefig('figura3.png' , dpi=550 ,bbox_inches='tight')"
      ],
      "execution_count": 0,
      "outputs": [
        {
          "output_type": "display_data",
          "data": {
            "image/png": "[encoded data removed]",
            "text/plain": [
              "<Figure size 432x288 with 1 Axes>"
            ]
          },
          "metadata": {
            "tags": []
          }
        }
      ]
    },
    {
      "cell_type": "code",
      "metadata": {
        "id": "LhV6At_SpTSW",
        "colab_type": "code",
        "outputId": "6f424af1-4c31-43ee-ac6d-8df2a72c6ed0",
        "colab": {
          "base_uri": "https://localhost:8080/",
          "height": 54
        }
      },
      "source": [
        "lista3 = []\n",
        "a=0\n",
        "for i in range(5501):\n",
        "    a = 1 + a\n",
        "    lista3.append(a)\n",
        "\n",
        "print(lista3)\n",
        "data_2 = pd.DataFrame({'coluna':lista2, 'cont':lista3})"
      ],
      "execution_count": 0,
      "outputs": [
        {
          "output_type": "stream",
          "text": [
            "[1, 2, 3, 4, 5, 6, 7, 8, 9, 10, 11, 12, 13, 14, 15, 16, 17, 18, 19, 20, 21, 22, 23, 24, 25, 26, 27, 28, 29, 30, 31, 32, 33, 34, 35, 36, 37, 38, 39, 40, 41, 42, 43, 44, 45, 46, 47, 48, 49, 50, 51, 52, 53, 54, 55, 56, 57, 58, 59, 60, 61, 62, 63, 64, 65, 66, 67, 68, 69, 70, 71, 72, 73, 74, 75, 76, 77, 78, 79, 80, 81, 82, 83, 84, 85, 86, 87, 88, 89, 90, 91, 92, 93, 94, 95, 96, 97, 98, 99, 100, 101, 102, 103, 104, 105, 106, 107, 108, 109, 110, 111, 112, 113, 114, 115, 116, 117, 118, 119, 120, 121, 122, 123, 124, 125, 126, 127, 128, 129, 130, 131, 132, 133, 134, 135, 136, 137, 138, 139, 140, 141, 142, 143, 144, 145, 146, 147, 148, 149, 150, 151, 152, 153, 154, 155, 156, 157, 158, 159, 160, 161, 162, 163, 164, 165, 166, 167, 168, 169, 170, 171, 172, 173, 174, 175, 176, 177, 178, 179, 180, 181, 182, 183, 184, 185, 186, 187, 188, 189, 190, 191, 192, 193, 194, 195, 196, 197, 198, 199, 200, 201, 202, 203, 204, 205, 206, 207, 208, 209, 210, 211, 212, 213, 214, 215, 216, 217, 218, 219, 220, 221, 222, 223, 224, 225, 226, 227, 228, 229, 230, 231, 232, 233, 234, 235, 236, 237, 238, 239, 240, 241, 242, 243, 244, 245, 246, 247, 248, 249, 250, 251, 252, 253, 254, 255, 256, 257, 258, 259, 260, 261, 262, 263, 264, 265, 266, 267, 268, 269, 270, 271, 272, 273, 274, 275, 276, 277, 278, 279, 280, 281, 282, 283, 284, 285, 286, 287, 288, 289, 290, 291, 292, 293, 294, 295, 296, 297, 298, 299, 300, 301, 302, 303, 304, 305, 306, 307, 308, 309, 310, 311, 312, 313, 314, 315, 316, 317, 318, 319, 320, 321, 322, 323, 324, 325, 326, 327, 328, 329, 330, 331, 332, 333, 334, 335, 336, 337, 338, 339, 340, 341, 342, 343, 344, 345, 346, 347, 348, 349, 350, 351, 352, 353, 354, 355, 356, 357, 358, 359, 360, 361, 362, 363, 364, 365, 366, 367, 368, 369, 370, 371, 372, 373, 374, 375, 376, 377, 378, 379, 380, 381, 382, 383, 384, 385, 386, 387, 388, 389, 390, 391, 392, 393, 394, 395, 396, 397, 398, 399, 400, 401, 402, 403, 404, 405, 406, 407, 408, 409, 410, 411, 412, 413, 414, 415, 416, 417, 418, 419, 420, 421, 422, 423, 424, 425, 426, 427, 428, 429, 430, 431, 432, 433, 434, 435, 436, 437, 438, 439, 440, 441, 442, 443, 444, 445, 446, 447, 448, 449, 450, 451, 452, 453, 454, 455, 456, 457, 458, 459, 460, 461, 462, 463, 464, 465, 466, 467, 468, 469, 470, 471, 472, 473, 474, 475, 476, 477, 478, 479, 480, 481, 482, 483, 484, 485, 486, 487, 488, 489, 490, 491, 492, 493, 494, 495, 496, 497, 498, 499, 500, 501, 502, 503, 504, 505, 506, 507, 508, 509, 510, 511, 512, 513, 514, 515, 516, 517, 518, 519, 520, 521, 522, 523, 524, 525, 526, 527, 528, 529, 530, 531, 532, 533, 534, 535, 536, 537, 538, 539, 540, 541, 542, 543, 544, 545, 546, 547, 548, 549, 550, 551, 552, 553, 554, 555, 556, 557, 558, 559, 560, 561, 562, 563, 564, 565, 566, 567, 568, 569, 570, 571, 572, 573, 574, 575, 576, 577, 578, 579, 580, 581, 582, 583, 584, 585, 586, 587, 588, 589, 590, 591, 592, 593, 594, 595, 596, 597, 598, 599, 600, 601, 602, 603, 604, 605, 606, 607, 608, 609, 610, 611, 612, 613, 614, 615, 616, 617, 618, 619, 620, 621, 622, 623, 624, 625, 626, 627, 628, 629, 630, 631, 632, 633, 634, 635, 636, 637, 638, 639, 640, 641, 642, 643, 644, 645, 646, 647, 648, 649, 650, 651, 652, 653, 654, 655, 656, 657, 658, 659, 660, 661, 662, 663, 664, 665, 666, 667, 668, 669, 670, 671, 672, 673, 674, 675, 676, 677, 678, 679, 680, 681, 682, 683, 684, 685, 686, 687, 688, 689, 690, 691, 692, 693, 694, 695, 696, 697, 698, 699, 700, 701, 702, 703, 704, 705, 706, 707, 708, 709, 710, 711, 712, 713, 714, 715, 716, 717, 718, 719, 720, 721, 722, 723, 724, 725, 726, 727, 728, 729, 730, 731, 732, 733, 734, 735, 736, 737, 738, 739, 740, 741, 742, 743, 744, 745, 746, 747, 748, 749, 750, 751, 752, 753, 754, 755, 756, 757, 758, 759, 760, 761, 762, 763, 764, 765, 766, 767, 768, 769, 770, 771, 772, 773, 774, 775, 776, 777, 778, 779, 780, 781, 782, 783, 784, 785, 786, 787, 788, 789, 790, 791, 792, 793, 794, 795, 796, 797, 798, 799, 800, 801, 802, 803, 804, 805, 806, 807, 808, 809, 810, 811, 812, 813, 814, 815, 816, 817, 818, 819, 820, 821, 822, 823, 824, 825, 826, 827, 828, 829, 830, 831, 832, 833, 834, 835, 836, 837, 838, 839, 840, 841, 842, 843, 844, 845, 846, 847, 848, 849, 850, 851, 852, 853, 854, 855, 856, 857, 858, 859, 860, 861, 862, 863, 864, 865, 866, 867, 868, 869, 870, 871, 872, 873, 874, 875, 876, 877, 878, 879, 880, 881, 882, 883, 884, 885, 886, 887, 888, 889, 890, 891, 892, 893, 894, 895, 896, 897, 898, 899, 900, 901, 902, 903, 904, 905, 906, 907, 908, 909, 910, 911, 912, 913, 914, 915, 916, 917, 918, 919, 920, 921, 922, 923, 924, 925, 926, 927, 928, 929, 930, 931, 932, 933, 934, 935, 936, 937, 938, 939, 940, 941, 942, 943, 944, 945, 946, 947, 948, 949, 950, 951, 952, 953, 954, 955, 956, 957, 958, 959, 960, 961, 962, 963, 964, 965, 966, 967, 968, 969, 970, 971, 972, 973, 974, 975, 976, 977, 978, 979, 980, 981, 982, 983, 984, 985, 986, 987, 988, 989, 990, 991, 992, 993, 994, 995, 996, 997, 998, 999, 1000, 1001, 1002, 1003, 1004, 1005, 1006, 1007, 1008, 1009, 1010, 1011, 1012, 1013, 1014, 1015, 1016, 1017, 1018, 1019, 1020, 1021, 1022, 1023, 1024, 1025, 1026, 1027, 1028, 1029, 1030, 1031, 1032, 1033, 1034, 1035, 1036, 1037, 1038, 1039, 1040, 1041, 1042, 1043, 1044, 1045, 1046, 1047, 1048, 1049, 1050, 1051, 1052, 1053, 1054, 1055, 1056, 1057, 1058, 1059, 1060, 1061, 1062, 1063, 1064, 1065, 1066, 1067, 1068, 1069, 1070, 1071, 1072, 1073, 1074, 1075, 1076, 1077, 1078, 1079, 1080, 1081, 1082, 1083, 1084, 1085, 1086, 1087, 1088, 1089, 1090, 1091, 1092, 1093, 1094, 1095, 1096, 1097, 1098, 1099, 1100, 1101, 1102, 1103, 1104, 1105, 1106, 1107, 1108, 1109, 1110, 1111, 1112, 1113, 1114, 1115, 1116, 1117, 1118, 1119, 1120, 1121, 1122, 1123, 1124, 1125, 1126, 1127, 1128, 1129, 1130, 1131, 1132, 1133, 1134, 1135, 1136, 1137, 1138, 1139, 1140, 1141, 1142, 1143, 1144, 1145, 1146, 1147, 1148, 1149, 1150, 1151, 1152, 1153, 1154, 1155, 1156, 1157, 1158, 1159, 1160, 1161, 1162, 1163, 1164, 1165, 1166, 1167, 1168, 1169, 1170, 1171, 1172, 1173, 1174, 1175, 1176, 1177, 1178, 1179, 1180, 1181, 1182, 1183, 1184, 1185, 1186, 1187, 1188, 1189, 1190, 1191, 1192, 1193, 1194, 1195, 1196, 1197, 1198, 1199, 1200, 1201, 1202, 1203, 1204, 1205, 1206, 1207, 1208, 1209, 1210, 1211, 1212, 1213, 1214, 1215, 1216, 1217, 1218, 1219, 1220, 1221, 1222, 1223, 1224, 1225, 1226, 1227, 1228, 1229, 1230, 1231, 1232, 1233, 1234, 1235, 1236, 1237, 1238, 1239, 1240, 1241, 1242, 1243, 1244, 1245, 1246, 1247, 1248, 1249, 1250, 1251, 1252, 1253, 1254, 1255, 1256, 1257, 1258, 1259, 1260, 1261, 1262, 1263, 1264, 1265, 1266, 1267, 1268, 1269, 1270, 1271, 1272, 1273, 1274, 1275, 1276, 1277, 1278, 1279, 1280, 1281, 1282, 1283, 1284, 1285, 1286, 1287, 1288, 1289, 1290, 1291, 1292, 1293, 1294, 1295, 1296, 1297, 1298, 1299, 1300, 1301, 1302, 1303, 1304, 1305, 1306, 1307, 1308, 1309, 1310, 1311, 1312, 1313, 1314, 1315, 1316, 1317, 1318, 1319, 1320, 1321, 1322, 1323, 1324, 1325, 1326, 1327, 1328, 1329, 1330, 1331, 1332, 1333, 1334, 1335, 1336, 1337, 1338, 1339, 1340, 1341, 1342, 1343, 1344, 1345, 1346, 1347, 1348, 1349, 1350, 1351, 1352, 1353, 1354, 1355, 1356, 1357, 1358, 1359, 1360, 1361, 1362, 1363, 1364, 1365, 1366, 1367, 1368, 1369, 1370, 1371, 1372, 1373, 1374, 1375, 1376, 1377, 1378, 1379, 1380, 1381, 1382, 1383, 1384, 1385, 1386, 1387, 1388, 1389, 1390, 1391, 1392, 1393, 1394, 1395, 1396, 1397, 1398, 1399, 1400, 1401, 1402, 1403, 1404, 1405, 1406, 1407, 1408, 1409, 1410, 1411, 1412, 1413, 1414, 1415, 1416, 1417, 1418, 1419, 1420, 1421, 1422, 1423, 1424, 1425, 1426, 1427, 1428, 1429, 1430, 1431, 1432, 1433, 1434, 1435, 1436, 1437, 1438, 1439, 1440, 1441, 1442, 1443, 1444, 1445, 1446, 1447, 1448, 1449, 1450, 1451, 1452, 1453, 1454, 1455, 1456, 1457, 1458, 1459, 1460, 1461, 1462, 1463, 1464, 1465, 1466, 1467, 1468, 1469, 1470, 1471, 1472, 1473, 1474, 1475, 1476, 1477, 1478, 1479, 1480, 1481, 1482, 1483, 1484, 1485, 1486, 1487, 1488, 1489, 1490, 1491, 1492, 1493, 1494, 1495, 1496, 1497, 1498, 1499, 1500, 1501, 1502, 1503, 1504, 1505, 1506, 1507, 1508, 1509, 1510, 1511, 1512, 1513, 1514, 1515, 1516, 1517, 1518, 1519, 1520, 1521, 1522, 1523, 1524, 1525, 1526, 1527, 1528, 1529, 1530, 1531, 1532, 1533, 1534, 1535, 1536, 1537, 1538, 1539, 1540, 1541, 1542, 1543, 1544, 1545, 1546, 1547, 1548, 1549, 1550, 1551, 1552, 1553, 1554, 1555, 1556, 1557, 1558, 1559, 1560, 1561, 1562, 1563, 1564, 1565, 1566, 1567, 1568, 1569, 1570, 1571, 1572, 1573, 1574, 1575, 1576, 1577, 1578, 1579, 1580, 1581, 1582, 1583, 1584, 1585, 1586, 1587, 1588, 1589, 1590, 1591, 1592, 1593, 1594, 1595, 1596, 1597, 1598, 1599, 1600, 1601, 1602, 1603, 1604, 1605, 1606, 1607, 1608, 1609, 1610, 1611, 1612, 1613, 1614, 1615, 1616, 1617, 1618, 1619, 1620, 1621, 1622, 1623, 1624, 1625, 1626, 1627, 1628, 1629, 1630, 1631, 1632, 1633, 1634, 1635, 1636, 1637, 1638, 1639, 1640, 1641, 1642, 1643, 1644, 1645, 1646, 1647, 1648, 1649, 1650, 1651, 1652, 1653, 1654, 1655, 1656, 1657, 1658, 1659, 1660, 1661, 1662, 1663, 1664, 1665, 1666, 1667, 1668, 1669, 1670, 1671, 1672, 1673, 1674, 1675, 1676, 1677, 1678, 1679, 1680, 1681, 1682, 1683, 1684, 1685, 1686, 1687, 1688, 1689, 1690, 1691, 1692, 1693, 1694, 1695, 1696, 1697, 1698, 1699, 1700, 1701, 1702, 1703, 1704, 1705, 1706, 1707, 1708, 1709, 1710, 1711, 1712, 1713, 1714, 1715, 1716, 1717, 1718, 1719, 1720, 1721, 1722, 1723, 1724, 1725, 1726, 1727, 1728, 1729, 1730, 1731, 1732, 1733, 1734, 1735, 1736, 1737, 1738, 1739, 1740, 1741, 1742, 1743, 1744, 1745, 1746, 1747, 1748, 1749, 1750, 1751, 1752, 1753, 1754, 1755, 1756, 1757, 1758, 1759, 1760, 1761, 1762, 1763, 1764, 1765, 1766, 1767, 1768, 1769, 1770, 1771, 1772, 1773, 1774, 1775, 1776, 1777, 1778, 1779, 1780, 1781, 1782, 1783, 1784, 1785, 1786, 1787, 1788, 1789, 1790, 1791, 1792, 1793, 1794, 1795, 1796, 1797, 1798, 1799, 1800, 1801, 1802, 1803, 1804, 1805, 1806, 1807, 1808, 1809, 1810, 1811, 1812, 1813, 1814, 1815, 1816, 1817, 1818, 1819, 1820, 1821, 1822, 1823, 1824, 1825, 1826, 1827, 1828, 1829, 1830, 1831, 1832, 1833, 1834, 1835, 1836, 1837, 1838, 1839, 1840, 1841, 1842, 1843, 1844, 1845, 1846, 1847, 1848, 1849, 1850, 1851, 1852, 1853, 1854, 1855, 1856, 1857, 1858, 1859, 1860, 1861, 1862, 1863, 1864, 1865, 1866, 1867, 1868, 1869, 1870, 1871, 1872, 1873, 1874, 1875, 1876, 1877, 1878, 1879, 1880, 1881, 1882, 1883, 1884, 1885, 1886, 1887, 1888, 1889, 1890, 1891, 1892, 1893, 1894, 1895, 1896, 1897, 1898, 1899, 1900, 1901, 1902, 1903, 1904, 1905, 1906, 1907, 1908, 1909, 1910, 1911, 1912, 1913, 1914, 1915, 1916, 1917, 1918, 1919, 1920, 1921, 1922, 1923, 1924, 1925, 1926, 1927, 1928, 1929, 1930, 1931, 1932, 1933, 1934, 1935, 1936, 1937, 1938, 1939, 1940, 1941, 1942, 1943, 1944, 1945, 1946, 1947, 1948, 1949, 1950, 1951, 1952, 1953, 1954, 1955, 1956, 1957, 1958, 1959, 1960, 1961, 1962, 1963, 1964, 1965, 1966, 1967, 1968, 1969, 1970, 1971, 1972, 1973, 1974, 1975, 1976, 1977, 1978, 1979, 1980, 1981, 1982, 1983, 1984, 1985, 1986, 1987, 1988, 1989, 1990, 1991, 1992, 1993, 1994, 1995, 1996, 1997, 1998, 1999, 2000, 2001, 2002, 2003, 2004, 2005, 2006, 2007, 2008, 2009, 2010, 2011, 2012, 2013, 2014, 2015, 2016, 2017, 2018, 2019, 2020, 2021, 2022, 2023, 2024, 2025, 2026, 2027, 2028, 2029, 2030, 2031, 2032, 2033, 2034, 2035, 2036, 2037, 2038, 2039, 2040, 2041, 2042, 2043, 2044, 2045, 2046, 2047, 2048, 2049, 2050, 2051, 2052, 2053, 2054, 2055, 2056, 2057, 2058, 2059, 2060, 2061, 2062, 2063, 2064, 2065, 2066, 2067, 2068, 2069, 2070, 2071, 2072, 2073, 2074, 2075, 2076, 2077, 2078, 2079, 2080, 2081, 2082, 2083, 2084, 2085, 2086, 2087, 2088, 2089, 2090, 2091, 2092, 2093, 2094, 2095, 2096, 2097, 2098, 2099, 2100, 2101, 2102, 2103, 2104, 2105, 2106, 2107, 2108, 2109, 2110, 2111, 2112, 2113, 2114, 2115, 2116, 2117, 2118, 2119, 2120, 2121, 2122, 2123, 2124, 2125, 2126, 2127, 2128, 2129, 2130, 2131, 2132, 2133, 2134, 2135, 2136, 2137, 2138, 2139, 2140, 2141, 2142, 2143, 2144, 2145, 2146, 2147, 2148, 2149, 2150, 2151, 2152, 2153, 2154, 2155, 2156, 2157, 2158, 2159, 2160, 2161, 2162, 2163, 2164, 2165, 2166, 2167, 2168, 2169, 2170, 2171, 2172, 2173, 2174, 2175, 2176, 2177, 2178, 2179, 2180, 2181, 2182, 2183, 2184, 2185, 2186, 2187, 2188, 2189, 2190, 2191, 2192, 2193, 2194, 2195, 2196, 2197, 2198, 2199, 2200, 2201, 2202, 2203, 2204, 2205, 2206, 2207, 2208, 2209, 2210, 2211, 2212, 2213, 2214, 2215, 2216, 2217, 2218, 2219, 2220, 2221, 2222, 2223, 2224, 2225, 2226, 2227, 2228, 2229, 2230, 2231, 2232, 2233, 2234, 2235, 2236, 2237, 2238, 2239, 2240, 2241, 2242, 2243, 2244, 2245, 2246, 2247, 2248, 2249, 2250, 2251, 2252, 2253, 2254, 2255, 2256, 2257, 2258, 2259, 2260, 2261, 2262, 2263, 2264, 2265, 2266, 2267, 2268, 2269, 2270, 2271, 2272, 2273, 2274, 2275, 2276, 2277, 2278, 2279, 2280, 2281, 2282, 2283, 2284, 2285, 2286, 2287, 2288, 2289, 2290, 2291, 2292, 2293, 2294, 2295, 2296, 2297, 2298, 2299, 2300, 2301, 2302, 2303, 2304, 2305, 2306, 2307, 2308, 2309, 2310, 2311, 2312, 2313, 2314, 2315, 2316, 2317, 2318, 2319, 2320, 2321, 2322, 2323, 2324, 2325, 2326, 2327, 2328, 2329, 2330, 2331, 2332, 2333, 2334, 2335, 2336, 2337, 2338, 2339, 2340, 2341, 2342, 2343, 2344, 2345, 2346, 2347, 2348, 2349, 2350, 2351, 2352, 2353, 2354, 2355, 2356, 2357, 2358, 2359, 2360, 2361, 2362, 2363, 2364, 2365, 2366, 2367, 2368, 2369, 2370, 2371, 2372, 2373, 2374, 2375, 2376, 2377, 2378, 2379, 2380, 2381, 2382, 2383, 2384, 2385, 2386, 2387, 2388, 2389, 2390, 2391, 2392, 2393, 2394, 2395, 2396, 2397, 2398, 2399, 2400, 2401, 2402, 2403, 2404, 2405, 2406, 2407, 2408, 2409, 2410, 2411, 2412, 2413, 2414, 2415, 2416, 2417, 2418, 2419, 2420, 2421, 2422, 2423, 2424, 2425, 2426, 2427, 2428, 2429, 2430, 2431, 2432, 2433, 2434, 2435, 2436, 2437, 2438, 2439, 2440, 2441, 2442, 2443, 2444, 2445, 2446, 2447, 2448, 2449, 2450, 2451, 2452, 2453, 2454, 2455, 2456, 2457, 2458, 2459, 2460, 2461, 2462, 2463, 2464, 2465, 2466, 2467, 2468, 2469, 2470, 2471, 2472, 2473, 2474, 2475, 2476, 2477, 2478, 2479, 2480, 2481, 2482, 2483, 2484, 2485, 2486, 2487, 2488, 2489, 2490, 2491, 2492, 2493, 2494, 2495, 2496, 2497, 2498, 2499, 2500, 2501, 2502, 2503, 2504, 2505, 2506, 2507, 2508, 2509, 2510, 2511, 2512, 2513, 2514, 2515, 2516, 2517, 2518, 2519, 2520, 2521, 2522, 2523, 2524, 2525, 2526, 2527, 2528, 2529, 2530, 2531, 2532, 2533, 2534, 2535, 2536, 2537, 2538, 2539, 2540, 2541, 2542, 2543, 2544, 2545, 2546, 2547, 2548, 2549, 2550, 2551, 2552, 2553, 2554, 2555, 2556, 2557, 2558, 2559, 2560, 2561, 2562, 2563, 2564, 2565, 2566, 2567, 2568, 2569, 2570, 2571, 2572, 2573, 2574, 2575, 2576, 2577, 2578, 2579, 2580, 2581, 2582, 2583, 2584, 2585, 2586, 2587, 2588, 2589, 2590, 2591, 2592, 2593, 2594, 2595, 2596, 2597, 2598, 2599, 2600, 2601, 2602, 2603, 2604, 2605, 2606, 2607, 2608, 2609, 2610, 2611, 2612, 2613, 2614, 2615, 2616, 2617, 2618, 2619, 2620, 2621, 2622, 2623, 2624, 2625, 2626, 2627, 2628, 2629, 2630, 2631, 2632, 2633, 2634, 2635, 2636, 2637, 2638, 2639, 2640, 2641, 2642, 2643, 2644, 2645, 2646, 2647, 2648, 2649, 2650, 2651, 2652, 2653, 2654, 2655, 2656, 2657, 2658, 2659, 2660, 2661, 2662, 2663, 2664, 2665, 2666, 2667, 2668, 2669, 2670, 2671, 2672, 2673, 2674, 2675, 2676, 2677, 2678, 2679, 2680, 2681, 2682, 2683, 2684, 2685, 2686, 2687, 2688, 2689, 2690, 2691, 2692, 2693, 2694, 2695, 2696, 2697, 2698, 2699, 2700, 2701, 2702, 2703, 2704, 2705, 2706, 2707, 2708, 2709, 2710, 2711, 2712, 2713, 2714, 2715, 2716, 2717, 2718, 2719, 2720, 2721, 2722, 2723, 2724, 2725, 2726, 2727, 2728, 2729, 2730, 2731, 2732, 2733, 2734, 2735, 2736, 2737, 2738, 2739, 2740, 2741, 2742, 2743, 2744, 2745, 2746, 2747, 2748, 2749, 2750, 2751, 2752, 2753, 2754, 2755, 2756, 2757, 2758, 2759, 2760, 2761, 2762, 2763, 2764, 2765, 2766, 2767, 2768, 2769, 2770, 2771, 2772, 2773, 2774, 2775, 2776, 2777, 2778, 2779, 2780, 2781, 2782, 2783, 2784, 2785, 2786, 2787, 2788, 2789, 2790, 2791, 2792, 2793, 2794, 2795, 2796, 2797, 2798, 2799, 2800, 2801, 2802, 2803, 2804, 2805, 2806, 2807, 2808, 2809, 2810, 2811, 2812, 2813, 2814, 2815, 2816, 2817, 2818, 2819, 2820, 2821, 2822, 2823, 2824, 2825, 2826, 2827, 2828, 2829, 2830, 2831, 2832, 2833, 2834, 2835, 2836, 2837, 2838, 2839, 2840, 2841, 2842, 2843, 2844, 2845, 2846, 2847, 2848, 2849, 2850, 2851, 2852, 2853, 2854, 2855, 2856, 2857, 2858, 2859, 2860, 2861, 2862, 2863, 2864, 2865, 2866, 2867, 2868, 2869, 2870, 2871, 2872, 2873, 2874, 2875, 2876, 2877, 2878, 2879, 2880, 2881, 2882, 2883, 2884, 2885, 2886, 2887, 2888, 2889, 2890, 2891, 2892, 2893, 2894, 2895, 2896, 2897, 2898, 2899, 2900, 2901, 2902, 2903, 2904, 2905, 2906, 2907, 2908, 2909, 2910, 2911, 2912, 2913, 2914, 2915, 2916, 2917, 2918, 2919, 2920, 2921, 2922, 2923, 2924, 2925, 2926, 2927, 2928, 2929, 2930, 2931, 2932, 2933, 2934, 2935, 2936, 2937, 2938, 2939, 2940, 2941, 2942, 2943, 2944, 2945, 2946, 2947, 2948, 2949, 2950, 2951, 2952, 2953, 2954, 2955, 2956, 2957, 2958, 2959, 2960, 2961, 2962, 2963, 2964, 2965, 2966, 2967, 2968, 2969, 2970, 2971, 2972, 2973, 2974, 2975, 2976, 2977, 2978, 2979, 2980, 2981, 2982, 2983, 2984, 2985, 2986, 2987, 2988, 2989, 2990, 2991, 2992, 2993, 2994, 2995, 2996, 2997, 2998, 2999, 3000, 3001, 3002, 3003, 3004, 3005, 3006, 3007, 3008, 3009, 3010, 3011, 3012, 3013, 3014, 3015, 3016, 3017, 3018, 3019, 3020, 3021, 3022, 3023, 3024, 3025, 3026, 3027, 3028, 3029, 3030, 3031, 3032, 3033, 3034, 3035, 3036, 3037, 3038, 3039, 3040, 3041, 3042, 3043, 3044, 3045, 3046, 3047, 3048, 3049, 3050, 3051, 3052, 3053, 3054, 3055, 3056, 3057, 3058, 3059, 3060, 3061, 3062, 3063, 3064, 3065, 3066, 3067, 3068, 3069, 3070, 3071, 3072, 3073, 3074, 3075, 3076, 3077, 3078, 3079, 3080, 3081, 3082, 3083, 3084, 3085, 3086, 3087, 3088, 3089, 3090, 3091, 3092, 3093, 3094, 3095, 3096, 3097, 3098, 3099, 3100, 3101, 3102, 3103, 3104, 3105, 3106, 3107, 3108, 3109, 3110, 3111, 3112, 3113, 3114, 3115, 3116, 3117, 3118, 3119, 3120, 3121, 3122, 3123, 3124, 3125, 3126, 3127, 3128, 3129, 3130, 3131, 3132, 3133, 3134, 3135, 3136, 3137, 3138, 3139, 3140, 3141, 3142, 3143, 3144, 3145, 3146, 3147, 3148, 3149, 3150, 3151, 3152, 3153, 3154, 3155, 3156, 3157, 3158, 3159, 3160, 3161, 3162, 3163, 3164, 3165, 3166, 3167, 3168, 3169, 3170, 3171, 3172, 3173, 3174, 3175, 3176, 3177, 3178, 3179, 3180, 3181, 3182, 3183, 3184, 3185, 3186, 3187, 3188, 3189, 3190, 3191, 3192, 3193, 3194, 3195, 3196, 3197, 3198, 3199, 3200, 3201, 3202, 3203, 3204, 3205, 3206, 3207, 3208, 3209, 3210, 3211, 3212, 3213, 3214, 3215, 3216, 3217, 3218, 3219, 3220, 3221, 3222, 3223, 3224, 3225, 3226, 3227, 3228, 3229, 3230, 3231, 3232, 3233, 3234, 3235, 3236, 3237, 3238, 3239, 3240, 3241, 3242, 3243, 3244, 3245, 3246, 3247, 3248, 3249, 3250, 3251, 3252, 3253, 3254, 3255, 3256, 3257, 3258, 3259, 3260, 3261, 3262, 3263, 3264, 3265, 3266, 3267, 3268, 3269, 3270, 3271, 3272, 3273, 3274, 3275, 3276, 3277, 3278, 3279, 3280, 3281, 3282, 3283, 3284, 3285, 3286, 3287, 3288, 3289, 3290, 3291, 3292, 3293, 3294, 3295, 3296, 3297, 3298, 3299, 3300, 3301, 3302, 3303, 3304, 3305, 3306, 3307, 3308, 3309, 3310, 3311, 3312, 3313, 3314, 3315, 3316, 3317, 3318, 3319, 3320, 3321, 3322, 3323, 3324, 3325, 3326, 3327, 3328, 3329, 3330, 3331, 3332, 3333, 3334, 3335, 3336, 3337, 3338, 3339, 3340, 3341, 3342, 3343, 3344, 3345, 3346, 3347, 3348, 3349, 3350, 3351, 3352, 3353, 3354, 3355, 3356, 3357, 3358, 3359, 3360, 3361, 3362, 3363, 3364, 3365, 3366, 3367, 3368, 3369, 3370, 3371, 3372, 3373, 3374, 3375, 3376, 3377, 3378, 3379, 3380, 3381, 3382, 3383, 3384, 3385, 3386, 3387, 3388, 3389, 3390, 3391, 3392, 3393, 3394, 3395, 3396, 3397, 3398, 3399, 3400, 3401, 3402, 3403, 3404, 3405, 3406, 3407, 3408, 3409, 3410, 3411, 3412, 3413, 3414, 3415, 3416, 3417, 3418, 3419, 3420, 3421, 3422, 3423, 3424, 3425, 3426, 3427, 3428, 3429, 3430, 3431, 3432, 3433, 3434, 3435, 3436, 3437, 3438, 3439, 3440, 3441, 3442, 3443, 3444, 3445, 3446, 3447, 3448, 3449, 3450, 3451, 3452, 3453, 3454, 3455, 3456, 3457, 3458, 3459, 3460, 3461, 3462, 3463, 3464, 3465, 3466, 3467, 3468, 3469, 3470, 3471, 3472, 3473, 3474, 3475, 3476, 3477, 3478, 3479, 3480, 3481, 3482, 3483, 3484, 3485, 3486, 3487, 3488, 3489, 3490, 3491, 3492, 3493, 3494, 3495, 3496, 3497, 3498, 3499, 3500, 3501, 3502, 3503, 3504, 3505, 3506, 3507, 3508, 3509, 3510, 3511, 3512, 3513, 3514, 3515, 3516, 3517, 3518, 3519, 3520, 3521, 3522, 3523, 3524, 3525, 3526, 3527, 3528, 3529, 3530, 3531, 3532, 3533, 3534, 3535, 3536, 3537, 3538, 3539, 3540, 3541, 3542, 3543, 3544, 3545, 3546, 3547, 3548, 3549, 3550, 3551, 3552, 3553, 3554, 3555, 3556, 3557, 3558, 3559, 3560, 3561, 3562, 3563, 3564, 3565, 3566, 3567, 3568, 3569, 3570, 3571, 3572, 3573, 3574, 3575, 3576, 3577, 3578, 3579, 3580, 3581, 3582, 3583, 3584, 3585, 3586, 3587, 3588, 3589, 3590, 3591, 3592, 3593, 3594, 3595, 3596, 3597, 3598, 3599, 3600, 3601, 3602, 3603, 3604, 3605, 3606, 3607, 3608, 3609, 3610, 3611, 3612, 3613, 3614, 3615, 3616, 3617, 3618, 3619, 3620, 3621, 3622, 3623, 3624, 3625, 3626, 3627, 3628, 3629, 3630, 3631, 3632, 3633, 3634, 3635, 3636, 3637, 3638, 3639, 3640, 3641, 3642, 3643, 3644, 3645, 3646, 3647, 3648, 3649, 3650, 3651, 3652, 3653, 3654, 3655, 3656, 3657, 3658, 3659, 3660, 3661, 3662, 3663, 3664, 3665, 3666, 3667, 3668, 3669, 3670, 3671, 3672, 3673, 3674, 3675, 3676, 3677, 3678, 3679, 3680, 3681, 3682, 3683, 3684, 3685, 3686, 3687, 3688, 3689, 3690, 3691, 3692, 3693, 3694, 3695, 3696, 3697, 3698, 3699, 3700, 3701, 3702, 3703, 3704, 3705, 3706, 3707, 3708, 3709, 3710, 3711, 3712, 3713, 3714, 3715, 3716, 3717, 3718, 3719, 3720, 3721, 3722, 3723, 3724, 3725, 3726, 3727, 3728, 3729, 3730, 3731, 3732, 3733, 3734, 3735, 3736, 3737, 3738, 3739, 3740, 3741, 3742, 3743, 3744, 3745, 3746, 3747, 3748, 3749, 3750, 3751, 3752, 3753, 3754, 3755, 3756, 3757, 3758, 3759, 3760, 3761, 3762, 3763, 3764, 3765, 3766, 3767, 3768, 3769, 3770, 3771, 3772, 3773, 3774, 3775, 3776, 3777, 3778, 3779, 3780, 3781, 3782, 3783, 3784, 3785, 3786, 3787, 3788, 3789, 3790, 3791, 3792, 3793, 3794, 3795, 3796, 3797, 3798, 3799, 3800, 3801, 3802, 3803, 3804, 3805, 3806, 3807, 3808, 3809, 3810, 3811, 3812, 3813, 3814, 3815, 3816, 3817, 3818, 3819, 3820, 3821, 3822, 3823, 3824, 3825, 3826, 3827, 3828, 3829, 3830, 3831, 3832, 3833, 3834, 3835, 3836, 3837, 3838, 3839, 3840, 3841, 3842, 3843, 3844, 3845, 3846, 3847, 3848, 3849, 3850, 3851, 3852, 3853, 3854, 3855, 3856, 3857, 3858, 3859, 3860, 3861, 3862, 3863, 3864, 3865, 3866, 3867, 3868, 3869, 3870, 3871, 3872, 3873, 3874, 3875, 3876, 3877, 3878, 3879, 3880, 3881, 3882, 3883, 3884, 3885, 3886, 3887, 3888, 3889, 3890, 3891, 3892, 3893, 3894, 3895, 3896, 3897, 3898, 3899, 3900, 3901, 3902, 3903, 3904, 3905, 3906, 3907, 3908, 3909, 3910, 3911, 3912, 3913, 3914, 3915, 3916, 3917, 3918, 3919, 3920, 3921, 3922, 3923, 3924, 3925, 3926, 3927, 3928, 3929, 3930, 3931, 3932, 3933, 3934, 3935, 3936, 3937, 3938, 3939, 3940, 3941, 3942, 3943, 3944, 3945, 3946, 3947, 3948, 3949, 3950, 3951, 3952, 3953, 3954, 3955, 3956, 3957, 3958, 3959, 3960, 3961, 3962, 3963, 3964, 3965, 3966, 3967, 3968, 3969, 3970, 3971, 3972, 3973, 3974, 3975, 3976, 3977, 3978, 3979, 3980, 3981, 3982, 3983, 3984, 3985, 3986, 3987, 3988, 3989, 3990, 3991, 3992, 3993, 3994, 3995, 3996, 3997, 3998, 3999, 4000, 4001, 4002, 4003, 4004, 4005, 4006, 4007, 4008, 4009, 4010, 4011, 4012, 4013, 4014, 4015, 4016, 4017, 4018, 4019, 4020, 4021, 4022, 4023, 4024, 4025, 4026, 4027, 4028, 4029, 4030, 4031, 4032, 4033, 4034, 4035, 4036, 4037, 4038, 4039, 4040, 4041, 4042, 4043, 4044, 4045, 4046, 4047, 4048, 4049, 4050, 4051, 4052, 4053, 4054, 4055, 4056, 4057, 4058, 4059, 4060, 4061, 4062, 4063, 4064, 4065, 4066, 4067, 4068, 4069, 4070, 4071, 4072, 4073, 4074, 4075, 4076, 4077, 4078, 4079, 4080, 4081, 4082, 4083, 4084, 4085, 4086, 4087, 4088, 4089, 4090, 4091, 4092, 4093, 4094, 4095, 4096, 4097, 4098, 4099, 4100, 4101, 4102, 4103, 4104, 4105, 4106, 4107, 4108, 4109, 4110, 4111, 4112, 4113, 4114, 4115, 4116, 4117, 4118, 4119, 4120, 4121, 4122, 4123, 4124, 4125, 4126, 4127, 4128, 4129, 4130, 4131, 4132, 4133, 4134, 4135, 4136, 4137, 4138, 4139, 4140, 4141, 4142, 4143, 4144, 4145, 4146, 4147, 4148, 4149, 4150, 4151, 4152, 4153, 4154, 4155, 4156, 4157, 4158, 4159, 4160, 4161, 4162, 4163, 4164, 4165, 4166, 4167, 4168, 4169, 4170, 4171, 4172, 4173, 4174, 4175, 4176, 4177, 4178, 4179, 4180, 4181, 4182, 4183, 4184, 4185, 4186, 4187, 4188, 4189, 4190, 4191, 4192, 4193, 4194, 4195, 4196, 4197, 4198, 4199, 4200, 4201, 4202, 4203, 4204, 4205, 4206, 4207, 4208, 4209, 4210, 4211, 4212, 4213, 4214, 4215, 4216, 4217, 4218, 4219, 4220, 4221, 4222, 4223, 4224, 4225, 4226, 4227, 4228, 4229, 4230, 4231, 4232, 4233, 4234, 4235, 4236, 4237, 4238, 4239, 4240, 4241, 4242, 4243, 4244, 4245, 4246, 4247, 4248, 4249, 4250, 4251, 4252, 4253, 4254, 4255, 4256, 4257, 4258, 4259, 4260, 4261, 4262, 4263, 4264, 4265, 4266, 4267, 4268, 4269, 4270, 4271, 4272, 4273, 4274, 4275, 4276, 4277, 4278, 4279, 4280, 4281, 4282, 4283, 4284, 4285, 4286, 4287, 4288, 4289, 4290, 4291, 4292, 4293, 4294, 4295, 4296, 4297, 4298, 4299, 4300, 4301, 4302, 4303, 4304, 4305, 4306, 4307, 4308, 4309, 4310, 4311, 4312, 4313, 4314, 4315, 4316, 4317, 4318, 4319, 4320, 4321, 4322, 4323, 4324, 4325, 4326, 4327, 4328, 4329, 4330, 4331, 4332, 4333, 4334, 4335, 4336, 4337, 4338, 4339, 4340, 4341, 4342, 4343, 4344, 4345, 4346, 4347, 4348, 4349, 4350, 4351, 4352, 4353, 4354, 4355, 4356, 4357, 4358, 4359, 4360, 4361, 4362, 4363, 4364, 4365, 4366, 4367, 4368, 4369, 4370, 4371, 4372, 4373, 4374, 4375, 4376, 4377, 4378, 4379, 4380, 4381, 4382, 4383, 4384, 4385, 4386, 4387, 4388, 4389, 4390, 4391, 4392, 4393, 4394, 4395, 4396, 4397, 4398, 4399, 4400, 4401, 4402, 4403, 4404, 4405, 4406, 4407, 4408, 4409, 4410, 4411, 4412, 4413, 4414, 4415, 4416, 4417, 4418, 4419, 4420, 4421, 4422, 4423, 4424, 4425, 4426, 4427, 4428, 4429, 4430, 4431, 4432, 4433, 4434, 4435, 4436, 4437, 4438, 4439, 4440, 4441, 4442, 4443, 4444, 4445, 4446, 4447, 4448, 4449, 4450, 4451, 4452, 4453, 4454, 4455, 4456, 4457, 4458, 4459, 4460, 4461, 4462, 4463, 4464, 4465, 4466, 4467, 4468, 4469, 4470, 4471, 4472, 4473, 4474, 4475, 4476, 4477, 4478, 4479, 4480, 4481, 4482, 4483, 4484, 4485, 4486, 4487, 4488, 4489, 4490, 4491, 4492, 4493, 4494, 4495, 4496, 4497, 4498, 4499, 4500, 4501, 4502, 4503, 4504, 4505, 4506, 4507, 4508, 4509, 4510, 4511, 4512, 4513, 4514, 4515, 4516, 4517, 4518, 4519, 4520, 4521, 4522, 4523, 4524, 4525, 4526, 4527, 4528, 4529, 4530, 4531, 4532, 4533, 4534, 4535, 4536, 4537, 4538, 4539, 4540, 4541, 4542, 4543, 4544, 4545, 4546, 4547, 4548, 4549, 4550, 4551, 4552, 4553, 4554, 4555, 4556, 4557, 4558, 4559, 4560, 4561, 4562, 4563, 4564, 4565, 4566, 4567, 4568, 4569, 4570, 4571, 4572, 4573, 4574, 4575, 4576, 4577, 4578, 4579, 4580, 4581, 4582, 4583, 4584, 4585, 4586, 4587, 4588, 4589, 4590, 4591, 4592, 4593, 4594, 4595, 4596, 4597, 4598, 4599, 4600, 4601, 4602, 4603, 4604, 4605, 4606, 4607, 4608, 4609, 4610, 4611, 4612, 4613, 4614, 4615, 4616, 4617, 4618, 4619, 4620, 4621, 4622, 4623, 4624, 4625, 4626, 4627, 4628, 4629, 4630, 4631, 4632, 4633, 4634, 4635, 4636, 4637, 4638, 4639, 4640, 4641, 4642, 4643, 4644, 4645, 4646, 4647, 4648, 4649, 4650, 4651, 4652, 4653, 4654, 4655, 4656, 4657, 4658, 4659, 4660, 4661, 4662, 4663, 4664, 4665, 4666, 4667, 4668, 4669, 4670, 4671, 4672, 4673, 4674, 4675, 4676, 4677, 4678, 4679, 4680, 4681, 4682, 4683, 4684, 4685, 4686, 4687, 4688, 4689, 4690, 4691, 4692, 4693, 4694, 4695, 4696, 4697, 4698, 4699, 4700, 4701, 4702, 4703, 4704, 4705, 4706, 4707, 4708, 4709, 4710, 4711, 4712, 4713, 4714, 4715, 4716, 4717, 4718, 4719, 4720, 4721, 4722, 4723, 4724, 4725, 4726, 4727, 4728, 4729, 4730, 4731, 4732, 4733, 4734, 4735, 4736, 4737, 4738, 4739, 4740, 4741, 4742, 4743, 4744, 4745, 4746, 4747, 4748, 4749, 4750, 4751, 4752, 4753, 4754, 4755, 4756, 4757, 4758, 4759, 4760, 4761, 4762, 4763, 4764, 4765, 4766, 4767, 4768, 4769, 4770, 4771, 4772, 4773, 4774, 4775, 4776, 4777, 4778, 4779, 4780, 4781, 4782, 4783, 4784, 4785, 4786, 4787, 4788, 4789, 4790, 4791, 4792, 4793, 4794, 4795, 4796, 4797, 4798, 4799, 4800, 4801, 4802, 4803, 4804, 4805, 4806, 4807, 4808, 4809, 4810, 4811, 4812, 4813, 4814, 4815, 4816, 4817, 4818, 4819, 4820, 4821, 4822, 4823, 4824, 4825, 4826, 4827, 4828, 4829, 4830, 4831, 4832, 4833, 4834, 4835, 4836, 4837, 4838, 4839, 4840, 4841, 4842, 4843, 4844, 4845, 4846, 4847, 4848, 4849, 4850, 4851, 4852, 4853, 4854, 4855, 4856, 4857, 4858, 4859, 4860, 4861, 4862, 4863, 4864, 4865, 4866, 4867, 4868, 4869, 4870, 4871, 4872, 4873, 4874, 4875, 4876, 4877, 4878, 4879, 4880, 4881, 4882, 4883, 4884, 4885, 4886, 4887, 4888, 4889, 4890, 4891, 4892, 4893, 4894, 4895, 4896, 4897, 4898, 4899, 4900, 4901, 4902, 4903, 4904, 4905, 4906, 4907, 4908, 4909, 4910, 4911, 4912, 4913, 4914, 4915, 4916, 4917, 4918, 4919, 4920, 4921, 4922, 4923, 4924, 4925, 4926, 4927, 4928, 4929, 4930, 4931, 4932, 4933, 4934, 4935, 4936, 4937, 4938, 4939, 4940, 4941, 4942, 4943, 4944, 4945, 4946, 4947, 4948, 4949, 4950, 4951, 4952, 4953, 4954, 4955, 4956, 4957, 4958, 4959, 4960, 4961, 4962, 4963, 4964, 4965, 4966, 4967, 4968, 4969, 4970, 4971, 4972, 4973, 4974, 4975, 4976, 4977, 4978, 4979, 4980, 4981, 4982, 4983, 4984, 4985, 4986, 4987, 4988, 4989, 4990, 4991, 4992, 4993, 4994, 4995, 4996, 4997, 4998, 4999, 5000, 5001, 5002, 5003, 5004, 5005, 5006, 5007, 5008, 5009, 5010, 5011, 5012, 5013, 5014, 5015, 5016, 5017, 5018, 5019, 5020, 5021, 5022, 5023, 5024, 5025, 5026, 5027, 5028, 5029, 5030, 5031, 5032, 5033, 5034, 5035, 5036, 5037, 5038, 5039, 5040, 5041, 5042, 5043, 5044, 5045, 5046, 5047, 5048, 5049, 5050, 5051, 5052, 5053, 5054, 5055, 5056, 5057, 5058, 5059, 5060, 5061, 5062, 5063, 5064, 5065, 5066, 5067, 5068, 5069, 5070, 5071, 5072, 5073, 5074, 5075, 5076, 5077, 5078, 5079, 5080, 5081, 5082, 5083, 5084, 5085, 5086, 5087, 5088, 5089, 5090, 5091, 5092, 5093, 5094, 5095, 5096, 5097, 5098, 5099, 5100, 5101, 5102, 5103, 5104, 5105, 5106, 5107, 5108, 5109, 5110, 5111, 5112, 5113, 5114, 5115, 5116, 5117, 5118, 5119, 5120, 5121, 5122, 5123, 5124, 5125, 5126, 5127, 5128, 5129, 5130, 5131, 5132, 5133, 5134, 5135, 5136, 5137, 5138, 5139, 5140, 5141, 5142, 5143, 5144, 5145, 5146, 5147, 5148, 5149, 5150, 5151, 5152, 5153, 5154, 5155, 5156, 5157, 5158, 5159, 5160, 5161, 5162, 5163, 5164, 5165, 5166, 5167, 5168, 5169, 5170, 5171, 5172, 5173, 5174, 5175, 5176, 5177, 5178, 5179, 5180, 5181, 5182, 5183, 5184, 5185, 5186, 5187, 5188, 5189, 5190, 5191, 5192, 5193, 5194, 5195, 5196, 5197, 5198, 5199, 5200, 5201, 5202, 5203, 5204, 5205, 5206, 5207, 5208, 5209, 5210, 5211, 5212, 5213, 5214, 5215, 5216, 5217, 5218, 5219, 5220, 5221, 5222, 5223, 5224, 5225, 5226, 5227, 5228, 5229, 5230, 5231, 5232, 5233, 5234, 5235, 5236, 5237, 5238, 5239, 5240, 5241, 5242, 5243, 5244, 5245, 5246, 5247, 5248, 5249, 5250, 5251, 5252, 5253, 5254, 5255, 5256, 5257, 5258, 5259, 5260, 5261, 5262, 5263, 5264, 5265, 5266, 5267, 5268, 5269, 5270, 5271, 5272, 5273, 5274, 5275, 5276, 5277, 5278, 5279, 5280, 5281, 5282, 5283, 5284, 5285, 5286, 5287, 5288, 5289, 5290, 5291, 5292, 5293, 5294, 5295, 5296, 5297, 5298, 5299, 5300, 5301, 5302, 5303, 5304, 5305, 5306, 5307, 5308, 5309, 5310, 5311, 5312, 5313, 5314, 5315, 5316, 5317, 5318, 5319, 5320, 5321, 5322, 5323, 5324, 5325, 5326, 5327, 5328, 5329, 5330, 5331, 5332, 5333, 5334, 5335, 5336, 5337, 5338, 5339, 5340, 5341, 5342, 5343, 5344, 5345, 5346, 5347, 5348, 5349, 5350, 5351, 5352, 5353, 5354, 5355, 5356, 5357, 5358, 5359, 5360, 5361, 5362, 5363, 5364, 5365, 5366, 5367, 5368, 5369, 5370, 5371, 5372, 5373, 5374, 5375, 5376, 5377, 5378, 5379, 5380, 5381, 5382, 5383, 5384, 5385, 5386, 5387, 5388, 5389, 5390, 5391, 5392, 5393, 5394, 5395, 5396, 5397, 5398, 5399, 5400, 5401, 5402, 5403, 5404, 5405, 5406, 5407, 5408, 5409, 5410, 5411, 5412, 5413, 5414, 5415, 5416, 5417, 5418, 5419, 5420, 5421, 5422, 5423, 5424, 5425, 5426, 5427, 5428, 5429, 5430, 5431, 5432, 5433, 5434, 5435, 5436, 5437, 5438, 5439, 5440, 5441, 5442, 5443, 5444, 5445, 5446, 5447, 5448, 5449, 5450, 5451, 5452, 5453, 5454, 5455, 5456, 5457, 5458, 5459, 5460, 5461, 5462, 5463, 5464, 5465, 5466, 5467, 5468, 5469, 5470, 5471, 5472, 5473, 5474, 5475, 5476, 5477, 5478, 5479, 5480, 5481, 5482, 5483, 5484, 5485, 5486, 5487, 5488, 5489, 5490, 5491, 5492, 5493, 5494, 5495, 5496, 5497, 5498, 5499, 5500, 5501]\n"
          ],
          "name": "stdout"
        }
      ]
    },
    {
      "cell_type": "code",
      "metadata": {
        "id": "1CT7xGH6pVft",
        "colab_type": "code",
        "outputId": "2d3027f5-56b4-40f2-a6a1-b0c218cd7d41",
        "colab": {
          "base_uri": "https://localhost:8080/",
          "height": 204
        }
      },
      "source": [
        "data_2.head(5)"
      ],
      "execution_count": 0,
      "outputs": [
        {
          "output_type": "execute_result",
          "data": {
            "text/html": [
              "<div>\n",
              "<style scoped>\n",
              "    .dataframe tbody tr th:only-of-type {\n",
              "        vertical-align: middle;\n",
              "    }\n",
              "\n",
              "    .dataframe tbody tr th {\n",
              "        vertical-align: top;\n",
              "    }\n",
              "\n",
              "    .dataframe thead th {\n",
              "        text-align: right;\n",
              "    }\n",
              "</style>\n",
              "<table border=\"1\" class=\"dataframe\">\n",
              "  <thead>\n",
              "    <tr style=\"text-align: right;\">\n",
              "      <th></th>\n",
              "      <th>coluna</th>\n",
              "      <th>cont</th>\n",
              "    </tr>\n",
              "  </thead>\n",
              "  <tbody>\n",
              "    <tr>\n",
              "      <th>0</th>\n",
              "      <td>8.203672</td>\n",
              "      <td>1</td>\n",
              "    </tr>\n",
              "    <tr>\n",
              "      <th>1</th>\n",
              "      <td>36.203672</td>\n",
              "      <td>2</td>\n",
              "    </tr>\n",
              "    <tr>\n",
              "      <th>2</th>\n",
              "      <td>3.203672</td>\n",
              "      <td>3</td>\n",
              "    </tr>\n",
              "    <tr>\n",
              "      <th>3</th>\n",
              "      <td>22.203672</td>\n",
              "      <td>4</td>\n",
              "    </tr>\n",
              "    <tr>\n",
              "      <th>4</th>\n",
              "      <td>1.203672</td>\n",
              "      <td>5</td>\n",
              "    </tr>\n",
              "  </tbody>\n",
              "</table>\n",
              "</div>"
            ],
            "text/plain": [
              "      coluna  cont\n",
              "0   8.203672     1\n",
              "1  36.203672     2\n",
              "2   3.203672     3\n",
              "3  22.203672     4\n",
              "4   1.203672     5"
            ]
          },
          "metadata": {
            "tags": []
          },
          "execution_count": 128
        }
      ]
    },
    {
      "cell_type": "code",
      "metadata": {
        "id": "PJOSfB9XpXxr",
        "colab_type": "code",
        "outputId": "8f1eb872-359e-4c19-d5ce-d9d924d3d0e2",
        "colab": {
          "base_uri": "https://localhost:8080/",
          "height": 51
        }
      },
      "source": [
        "lista4 = []\n",
        "teste = 0\n",
        "for i in range(200):\n",
        "    if (data_2.coluna[(i+3200)] <= 0.25) and (data_2.coluna[(i+3200)] >= -0.25):\n",
        "        teste = data_2.coluna[i+3200]\n",
        "        lista4.append(teste)\n",
        "        print(data_2.cont[i+3200])\n",
        "        \n",
        "print(lista4)\n",
        "\n"
      ],
      "execution_count": 0,
      "outputs": [
        {
          "output_type": "stream",
          "text": [
            "3328\n",
            "[0.203671897608956]\n"
          ],
          "name": "stdout"
        }
      ]
    },
    {
      "cell_type": "code",
      "metadata": {
        "id": "MO254EcNpawb",
        "colab_type": "code",
        "outputId": "897cd770-1d5b-4a43-84fa-e09ce8519166",
        "colab": {
          "base_uri": "https://localhost:8080/",
          "height": 51
        }
      },
      "source": [
        "lista5 = []\n",
        "teste = 0\n",
        "for i in range(80):\n",
        "    if (data_2.coluna[(i+3340)] <= 0.21) and (data_2.coluna[(i+3340)] >= -0.21):\n",
        "        teste = data_2.coluna[i+3340]\n",
        "        lista5.append(teste)\n",
        "        print(data_2.cont[i+3340])\n",
        "        \n",
        "print(lista5)\n"
      ],
      "execution_count": 0,
      "outputs": [
        {
          "output_type": "stream",
          "text": [
            "3419\n",
            "[0.203671897608956]\n"
          ],
          "name": "stdout"
        }
      ]
    },
    {
      "cell_type": "code",
      "metadata": {
        "id": "HtEoih4CpcJw",
        "colab_type": "code",
        "outputId": "41da6946-e08b-41e8-d4db-85fc32fb4f5a",
        "colab": {
          "base_uri": "https://localhost:8080/",
          "height": 51
        }
      },
      "source": [
        "lista6 = []\n",
        "teste = 0\n",
        "for i in range(100):\n",
        "    if (data_2.coluna[(i+3470)] <= 0.21) and (data_2.coluna[(i+3470)] >= -0.21):\n",
        "        teste = data_2.coluna[i+3470]\n",
        "        lista6.append(teste)\n",
        "        print(data_2.cont[i+3470])\n",
        "        \n",
        "print(lista6)"
      ],
      "execution_count": 0,
      "outputs": [
        {
          "output_type": "stream",
          "text": [
            "3547\n",
            "[0.203671897608956]\n"
          ],
          "name": "stdout"
        }
      ]
    },
    {
      "cell_type": "code",
      "metadata": {
        "id": "FlxbSG1Jpd_n",
        "colab_type": "code",
        "colab": {}
      },
      "source": [
        "data_2['coluna'] = data_2.coluna\n",
        "data_2.to_csv('tabela.csv') #####salvar resultados em csv\n"
      ],
      "execution_count": 0,
      "outputs": []
    },
    {
      "cell_type": "code",
      "metadata": {
        "id": "cpMTgi-fpvwB",
        "colab_type": "code",
        "outputId": "68a9884f-e3cb-4ffa-d109-de611ec0063b",
        "colab": {
          "base_uri": "https://localhost:8080/",
          "height": 359
        }
      },
      "source": [
        "tabelacsv = pd.read_csv('tabela.csv')\n",
        "\n",
        "tabelacsv.head(10)"
      ],
      "execution_count": 0,
      "outputs": [
        {
          "output_type": "execute_result",
          "data": {
            "text/html": [
              "<div>\n",
              "<style scoped>\n",
              "    .dataframe tbody tr th:only-of-type {\n",
              "        vertical-align: middle;\n",
              "    }\n",
              "\n",
              "    .dataframe tbody tr th {\n",
              "        vertical-align: top;\n",
              "    }\n",
              "\n",
              "    .dataframe thead th {\n",
              "        text-align: right;\n",
              "    }\n",
              "</style>\n",
              "<table border=\"1\" class=\"dataframe\">\n",
              "  <thead>\n",
              "    <tr style=\"text-align: right;\">\n",
              "      <th></th>\n",
              "      <th>Unnamed: 0</th>\n",
              "      <th>coluna</th>\n",
              "      <th>cont</th>\n",
              "    </tr>\n",
              "  </thead>\n",
              "  <tbody>\n",
              "    <tr>\n",
              "      <th>0</th>\n",
              "      <td>0</td>\n",
              "      <td>8.203672</td>\n",
              "      <td>1</td>\n",
              "    </tr>\n",
              "    <tr>\n",
              "      <th>1</th>\n",
              "      <td>1</td>\n",
              "      <td>36.203672</td>\n",
              "      <td>2</td>\n",
              "    </tr>\n",
              "    <tr>\n",
              "      <th>2</th>\n",
              "      <td>2</td>\n",
              "      <td>3.203672</td>\n",
              "      <td>3</td>\n",
              "    </tr>\n",
              "    <tr>\n",
              "      <th>3</th>\n",
              "      <td>3</td>\n",
              "      <td>22.203672</td>\n",
              "      <td>4</td>\n",
              "    </tr>\n",
              "    <tr>\n",
              "      <th>4</th>\n",
              "      <td>4</td>\n",
              "      <td>1.203672</td>\n",
              "      <td>5</td>\n",
              "    </tr>\n",
              "    <tr>\n",
              "      <th>5</th>\n",
              "      <td>5</td>\n",
              "      <td>2.203672</td>\n",
              "      <td>6</td>\n",
              "    </tr>\n",
              "    <tr>\n",
              "      <th>6</th>\n",
              "      <td>6</td>\n",
              "      <td>-2.796328</td>\n",
              "      <td>7</td>\n",
              "    </tr>\n",
              "    <tr>\n",
              "      <th>7</th>\n",
              "      <td>7</td>\n",
              "      <td>-4.796328</td>\n",
              "      <td>8</td>\n",
              "    </tr>\n",
              "    <tr>\n",
              "      <th>8</th>\n",
              "      <td>8</td>\n",
              "      <td>22.203672</td>\n",
              "      <td>9</td>\n",
              "    </tr>\n",
              "    <tr>\n",
              "      <th>9</th>\n",
              "      <td>9</td>\n",
              "      <td>19.203672</td>\n",
              "      <td>10</td>\n",
              "    </tr>\n",
              "  </tbody>\n",
              "</table>\n",
              "</div>"
            ],
            "text/plain": [
              "   Unnamed: 0     coluna  cont\n",
              "0           0   8.203672     1\n",
              "1           1  36.203672     2\n",
              "2           2   3.203672     3\n",
              "3           3  22.203672     4\n",
              "4           4   1.203672     5\n",
              "5           5   2.203672     6\n",
              "6           6  -2.796328     7\n",
              "7           7  -4.796328     8\n",
              "8           8  22.203672     9\n",
              "9           9  19.203672    10"
            ]
          },
          "metadata": {
            "tags": []
          },
          "execution_count": 134
        }
      ]
    },
    {
      "cell_type": "markdown",
      "metadata": {
        "id": "nWQNePs1lCE0",
        "colab_type": "text"
      },
      "source": [
        "### Utilizando a Biblioteca Sympy\n",
        "\n",
        "\n"
      ]
    },
    {
      "cell_type": "markdown",
      "metadata": {
        "id": "aNVhuZ-GKQ4w",
        "colab_type": "text"
      },
      "source": [
        "Calculando derivada e integral"
      ]
    },
    {
      "cell_type": "code",
      "metadata": {
        "id": "SBT_CGjVKWQi",
        "colab_type": "code",
        "outputId": "bb5da194-c4d4-44b2-e70c-8436b94f7acf",
        "colab": {
          "base_uri": "https://localhost:8080/",
          "height": 84
        }
      },
      "source": [
        "import sympy as sp\n",
        "from sympy.interactive import printing\n",
        "printing.init_printing(use_latex=True)\n",
        "\n",
        "x = sp.Symbol('x')\n",
        "\n",
        "f = x**2\n",
        "\n",
        "\n",
        "d = sp.integrate(f , x)\n",
        "\n",
        "mview(d)\n"
      ],
      "execution_count": 0,
      "outputs": [
        {
          "output_type": "display_data",
          "data": {
            "text/html": [
              "<script src='https://cdnjs.cloudflare.com/ajax/libs/mathjax/2.7.3/latest.js?config=default'></script>"
            ],
            "text/plain": [
              "<IPython.core.display.HTML object>"
            ]
          },
          "metadata": {
            "tags": []
          }
        },
        {
          "output_type": "execute_result",
          "data": {
            "text/latex": "$$\\frac{x^{3}}{3}$$",
            "text/plain": [
              "<IPython.core.display.Math object>"
            ]
          },
          "metadata": {
            "tags": []
          },
          "execution_count": 25
        }
      ]
    },
    {
      "cell_type": "markdown",
      "metadata": {
        "id": "z2N393hPNDyF",
        "colab_type": "text"
      },
      "source": [
        "$\\frac{x^{3}}{3}$"
      ]
    },
    {
      "cell_type": "code",
      "metadata": {
        "id": "scClvgdvK3iv",
        "colab_type": "code",
        "outputId": "b5fa8eb0-da29-4b2a-c21d-07d12d262654",
        "colab": {
          "base_uri": "https://localhost:8080/",
          "height": 62
        }
      },
      "source": [
        "mview(sp.diff(f , x))"
      ],
      "execution_count": 0,
      "outputs": [
        {
          "output_type": "display_data",
          "data": {
            "text/html": [
              "<script src='https://cdnjs.cloudflare.com/ajax/libs/mathjax/2.7.3/latest.js?config=default'></script>"
            ],
            "text/plain": [
              "<IPython.core.display.HTML object>"
            ]
          },
          "metadata": {
            "tags": []
          }
        },
        {
          "output_type": "execute_result",
          "data": {
            "text/latex": "$$2 x$$",
            "text/plain": [
              "<IPython.core.display.Math object>"
            ]
          },
          "metadata": {
            "tags": []
          },
          "execution_count": 26
        }
      ]
    },
    {
      "cell_type": "markdown",
      "metadata": {
        "id": "UXpd_axRNGdQ",
        "colab_type": "text"
      },
      "source": [
        "$2 x$"
      ]
    },
    {
      "cell_type": "markdown",
      "metadata": {
        "id": "gXGzH-v0Lut1",
        "colab_type": "text"
      },
      "source": [
        "#### Cálcule as integrais e derivadas das funções a seguir : \n",
        "\n",
        " $f= e^x$\n",
        " \n",
        " $f= x^4$\n",
        " \n",
        " $f=cos(x)$\n",
        " \n",
        " $f=cos(2x)$\n",
        " \n",
        " $f=sen(x)$\n",
        " \n",
        " $f=xsin(2x)$\n",
        " \n",
        " $f=x^2sin(x)$\n",
        " \n",
        " $f=e^x cos(x)$\n",
        " \n",
        " $f= cos(x) + 10x + x^5$\n",
        "\n",
        "\n"
      ]
    },
    {
      "cell_type": "markdown",
      "metadata": {
        "id": "KAxrRd8xNQWx",
        "colab_type": "text"
      },
      "source": [
        "#### Resultados"
      ]
    },
    {
      "cell_type": "code",
      "metadata": {
        "id": "VaDwzKi3Na6p",
        "colab_type": "code",
        "outputId": "78d47f68-2016-4f5b-a6c4-31a2299ef382",
        "colab": {
          "base_uri": "https://localhost:8080/",
          "height": 34
        }
      },
      "source": [
        "import numpy as np\n",
        "\n",
        "\n",
        "f=x*sp.sin(2*x)\n",
        "\n",
        "sp.integrate(f, x)"
      ],
      "execution_count": 0,
      "outputs": [
        {
          "output_type": "execute_result",
          "data": {
            "image/png": "[encoded data removed]",
            "text/latex": "$$- \\frac{x}{2} \\cos{\\left (2 x \\right )} + \\frac{1}{4} \\sin{\\left (2 x \\right )}$$",
            "text/plain": [
              "  x⋅cos(2⋅x)   sin(2⋅x)\n",
              "- ────────── + ────────\n",
              "      2           4    "
            ]
          },
          "metadata": {
            "tags": []
          },
          "execution_count": 141
        }
      ]
    },
    {
      "cell_type": "markdown",
      "metadata": {
        "id": "27a9t2jzQH_A",
        "colab_type": "text"
      },
      "source": [
        "$- \\frac{x}{2} \\cos{\\left (2 x \\right )} + \\frac{1}{4} \\sin{\\left (2 x \\right )}$"
      ]
    },
    {
      "cell_type": "code",
      "metadata": {
        "id": "-Tl9L_pOQOl-",
        "colab_type": "code",
        "outputId": "26a753c1-f0f7-409f-e0b3-e845a9f294c7",
        "colab": {
          "base_uri": "https://localhost:8080/",
          "height": 84
        }
      },
      "source": [
        "f=(x**2)*sp.sin(2*x)\n",
        "\n",
        "sp.integrate(f, x)\n",
        "\n",
        "mview(sp.integrate(f, x))"
      ],
      "execution_count": 0,
      "outputs": [
        {
          "output_type": "display_data",
          "data": {
            "text/html": [
              "<script src='https://cdnjs.cloudflare.com/ajax/libs/mathjax/2.7.3/latest.js?config=default'></script>"
            ],
            "text/plain": [
              "<IPython.core.display.HTML object>"
            ]
          },
          "metadata": {
            "tags": []
          }
        },
        {
          "output_type": "execute_result",
          "data": {
            "text/latex": "$$- \\frac{x^{2}}{2} \\cos{\\left (2 x \\right )} + \\frac{x}{2} \\sin{\\left (2 x \\right )} + \\frac{1}{4} \\cos{\\left (2 x \\right )}$$",
            "text/plain": [
              "<IPython.core.display.Math object>"
            ]
          },
          "metadata": {
            "tags": []
          },
          "execution_count": 34
        }
      ]
    },
    {
      "cell_type": "code",
      "metadata": {
        "id": "xgDeyz43RC4F",
        "colab_type": "code",
        "outputId": "95ab10e9-1b64-4575-ecdd-235eb9d9b616",
        "colab": {
          "base_uri": "https://localhost:8080/",
          "height": 84
        }
      },
      "source": [
        "f=sp.cos(x) +10*x +x**5\n",
        "\n",
        "sp.integrate(f, x)\n",
        "\n",
        "mview(sp.integrate(f, x))"
      ],
      "execution_count": 0,
      "outputs": [
        {
          "output_type": "display_data",
          "data": {
            "text/html": [
              "<script src='https://cdnjs.cloudflare.com/ajax/libs/mathjax/2.7.3/latest.js?config=default'></script>"
            ],
            "text/plain": [
              "<IPython.core.display.HTML object>"
            ]
          },
          "metadata": {
            "tags": []
          }
        },
        {
          "output_type": "execute_result",
          "data": {
            "text/latex": "$$\\frac{x^{6}}{6} + 5 x^{2} + \\sin{\\left (x \\right )}$$",
            "text/plain": [
              "<IPython.core.display.Math object>"
            ]
          },
          "metadata": {
            "tags": []
          },
          "execution_count": 35
        }
      ]
    },
    {
      "cell_type": "markdown",
      "metadata": {
        "id": "27Qoa6P3R1Wv",
        "colab_type": "text"
      },
      "source": [
        "#### Integrais Definidas"
      ]
    },
    {
      "cell_type": "code",
      "metadata": {
        "id": "oSY8ZemwR6Pm",
        "colab_type": "code",
        "outputId": "32302b71-0340-49a8-8693-f0273db89c8c",
        "colab": {
          "base_uri": "https://localhost:8080/",
          "height": 84
        }
      },
      "source": [
        "a = sp.Symbol('a')\n",
        "\n",
        "f=x*sp.sin(2*x)\n",
        "\n",
        "mview(sp.integrate((f, x), (x,0,a)))"
      ],
      "execution_count": 0,
      "outputs": [
        {
          "output_type": "display_data",
          "data": {
            "text/html": [
              "<script src='https://cdnjs.cloudflare.com/ajax/libs/mathjax/2.7.3/latest.js?config=default'></script>"
            ],
            "text/plain": [
              "<IPython.core.display.HTML object>"
            ]
          },
          "metadata": {
            "tags": []
          }
        },
        {
          "output_type": "execute_result",
          "data": {
            "text/latex": "$$\\frac{a^{3}}{2} \\sin{\\left (2 a \\right )} + a^{2}$$",
            "text/plain": [
              "<IPython.core.display.Math object>"
            ]
          },
          "metadata": {
            "tags": []
          },
          "execution_count": 40
        }
      ]
    },
    {
      "cell_type": "markdown",
      "metadata": {
        "id": "AyjyuOEuSX-G",
        "colab_type": "text"
      },
      "source": [
        "##### Faça a integral definida de  0 à t para as integrais no problema anterior anteriores"
      ]
    },
    {
      "cell_type": "markdown",
      "metadata": {
        "id": "l2dJbGLCRWIm",
        "colab_type": "text"
      },
      "source": [
        "#### Derivadas"
      ]
    },
    {
      "cell_type": "code",
      "metadata": {
        "id": "Nif74V56RYFY",
        "colab_type": "code",
        "outputId": "7cb413ea-b68d-42e4-9de4-2b97f64c4cbb",
        "colab": {
          "base_uri": "https://localhost:8080/",
          "height": 64
        }
      },
      "source": [
        "f=x*sp.sin(2*x)\n",
        "\n",
        "\n",
        "mview(sp.diff(f, x))"
      ],
      "execution_count": 0,
      "outputs": [
        {
          "output_type": "display_data",
          "data": {
            "text/html": [
              "<script src='https://cdnjs.cloudflare.com/ajax/libs/mathjax/2.7.3/latest.js?config=default'></script>"
            ],
            "text/plain": [
              "<IPython.core.display.HTML object>"
            ]
          },
          "metadata": {
            "tags": []
          }
        },
        {
          "output_type": "execute_result",
          "data": {
            "text/latex": "$$2 x \\cos{\\left (2 x \\right )} + \\sin{\\left (2 x \\right )}$$",
            "text/plain": [
              "<IPython.core.display.Math object>"
            ]
          },
          "metadata": {
            "tags": []
          },
          "execution_count": 41
        }
      ]
    },
    {
      "cell_type": "code",
      "metadata": {
        "id": "DL14J17ZReno",
        "colab_type": "code",
        "outputId": "9d395470-b37f-4aec-c1ca-fd8900a4b90e",
        "colab": {
          "base_uri": "https://localhost:8080/",
          "height": 84
        }
      },
      "source": [
        "f=(x**2)*sp.sin(2*x)\n",
        "\n",
        "mview(sp.integrate(f, x))"
      ],
      "execution_count": 0,
      "outputs": [
        {
          "output_type": "display_data",
          "data": {
            "text/html": [
              "<script src='https://cdnjs.cloudflare.com/ajax/libs/mathjax/2.7.3/latest.js?config=default'></script>"
            ],
            "text/plain": [
              "<IPython.core.display.HTML object>"
            ]
          },
          "metadata": {
            "tags": []
          }
        },
        {
          "output_type": "execute_result",
          "data": {
            "text/latex": "$$- \\frac{x^{2}}{2} \\cos{\\left (2 x \\right )} + \\frac{x}{2} \\sin{\\left (2 x \\right )} + \\frac{1}{4} \\cos{\\left (2 x \\right )}$$",
            "text/plain": [
              "<IPython.core.display.Math object>"
            ]
          },
          "metadata": {
            "tags": []
          },
          "execution_count": 42
        }
      ]
    },
    {
      "cell_type": "markdown",
      "metadata": {
        "id": "EM_AWqLroG7O",
        "colab_type": "text"
      },
      "source": [
        "#### Derivadas parciais"
      ]
    },
    {
      "cell_type": "code",
      "metadata": {
        "id": "Oo6t3wNWoJ6k",
        "colab_type": "code",
        "outputId": "339b518a-5a5f-4f05-a662-b5f0e9160598",
        "colab": {
          "base_uri": "https://localhost:8080/",
          "height": 85
        }
      },
      "source": [
        "from sympy.interactive import printing\n",
        "printing.init_printing(use_latex=True)\n",
        "from sympy import *\n",
        "import sympy as sp\n",
        "\n",
        "t,x = sp.symbols('t x')\n",
        "\n",
        "s = sp.Function('s')\n",
        "\n",
        "s= x + ((t**2)/g)\n",
        "\n",
        "result_a = sp.diff(s,t)\n",
        "\n",
        "\n",
        "mview(result_a)\n"
      ],
      "execution_count": 0,
      "outputs": [
        {
          "output_type": "display_data",
          "data": {
            "text/html": [
              "<script src='https://cdnjs.cloudflare.com/ajax/libs/mathjax/2.7.3/latest.js?config=default'></script>"
            ],
            "text/plain": [
              "<IPython.core.display.HTML object>"
            ]
          },
          "metadata": {
            "tags": []
          }
        },
        {
          "output_type": "execute_result",
          "data": {
            "text/latex": "$$\\frac{2 t}{g}$$",
            "text/plain": [
              "<IPython.core.display.Math object>"
            ]
          },
          "metadata": {
            "tags": []
          },
          "execution_count": 85
        }
      ]
    },
    {
      "cell_type": "code",
      "metadata": {
        "id": "psIFhxzuoONI",
        "colab_type": "code",
        "outputId": "5a93d0d3-db65-49e2-ea27-054d2ead5fac",
        "colab": {
          "base_uri": "https://localhost:8080/",
          "height": 62
        }
      },
      "source": [
        "result_b = sp.diff(s,x)\n",
        "\n",
        "mview(result_b)"
      ],
      "execution_count": 0,
      "outputs": [
        {
          "output_type": "display_data",
          "data": {
            "text/html": [
              "<script src='https://cdnjs.cloudflare.com/ajax/libs/mathjax/2.7.3/latest.js?config=default'></script>"
            ],
            "text/plain": [
              "<IPython.core.display.HTML object>"
            ]
          },
          "metadata": {
            "tags": []
          }
        },
        {
          "output_type": "execute_result",
          "data": {
            "text/latex": "$$1$$",
            "text/plain": [
              "<IPython.core.display.Math object>"
            ]
          },
          "metadata": {
            "tags": []
          },
          "execution_count": 86
        }
      ]
    },
    {
      "cell_type": "markdown",
      "metadata": {
        "id": "lWemeuu5KLiZ",
        "colab_type": "text"
      },
      "source": [
        "#### Cálculo de propagação de erro utilizando o Sympy\n",
        "\n",
        "Exemplo\n",
        "\n",
        "$V_{med} = \\frac{\\Delta s}{\\Delta t}$\n",
        "\n",
        "Usando a teoria de propagação de erro, se quisermos descobrir o erro de $V_{med}$,\n",
        "\n",
        "\n",
        "$ \\delta V_{med}^2 = (\\frac{ \\partial V_{med}}{\\partial \\Delta s} * (\\delta s)^2 + \\frac{ \\partial V_{med}}{\\partial \\Delta t} * (\\delta t)^2)^{\\frac{1}{2}} $\n",
        "\n"
      ]
    },
    {
      "cell_type": "code",
      "metadata": {
        "id": "bYPVqn5AouIA",
        "colab_type": "code",
        "colab": {}
      },
      "source": [
        "from sympy.interactive import printing\n",
        "printing.init_printing(use_latex=True)\n",
        "from sympy import *\n",
        "import sympy as sp\n",
        "\n",
        "x = sp.Symbol('x')\n",
        "t = sp.Symbol('t')\n",
        "\n",
        "v = x / t\n",
        "\n",
        "\n",
        "\n"
      ],
      "execution_count": 0,
      "outputs": []
    },
    {
      "cell_type": "code",
      "metadata": {
        "id": "RB7UZaT8vzkm",
        "colab_type": "code",
        "outputId": "45525394-cb7f-483c-b7ff-0c2448ba8d8b",
        "colab": {
          "base_uri": "https://localhost:8080/",
          "height": 81
        }
      },
      "source": [
        "mview(sp.diff(v,x))"
      ],
      "execution_count": 0,
      "outputs": [
        {
          "output_type": "display_data",
          "data": {
            "text/html": [
              "<script src='https://cdnjs.cloudflare.com/ajax/libs/mathjax/2.7.3/latest.js?config=default'></script>"
            ],
            "text/plain": [
              "<IPython.core.display.HTML object>"
            ]
          },
          "metadata": {
            "tags": []
          }
        },
        {
          "output_type": "execute_result",
          "data": {
            "text/latex": "$$\\frac{1}{t}$$",
            "text/plain": [
              "<IPython.core.display.Math object>"
            ]
          },
          "metadata": {
            "tags": []
          },
          "execution_count": 45
        }
      ]
    },
    {
      "cell_type": "code",
      "metadata": {
        "id": "sJem0Zk4v7Y9",
        "colab_type": "code",
        "outputId": "f72b69da-e852-481b-fdc0-64be2a35860c",
        "colab": {
          "base_uri": "https://localhost:8080/",
          "height": 79
        }
      },
      "source": [
        "mview(sp.diff(v,t))"
      ],
      "execution_count": 0,
      "outputs": [
        {
          "output_type": "display_data",
          "data": {
            "text/html": [
              "<script src='https://cdnjs.cloudflare.com/ajax/libs/mathjax/2.7.3/latest.js?config=default'></script>"
            ],
            "text/plain": [
              "<IPython.core.display.HTML object>"
            ]
          },
          "metadata": {
            "tags": []
          }
        },
        {
          "output_type": "execute_result",
          "data": {
            "text/latex": "$$- \\frac{x}{t^{2}}$$",
            "text/plain": [
              "<IPython.core.display.Math object>"
            ]
          },
          "metadata": {
            "tags": []
          },
          "execution_count": 46
        }
      ]
    },
    {
      "cell_type": "markdown",
      "metadata": {
        "id": "eQ7lQRCSxERS",
        "colab_type": "text"
      },
      "source": [
        "### Resolvendo equações diferenciais básico"
      ]
    },
    {
      "cell_type": "code",
      "metadata": {
        "id": "F1RA1ohiTHNh",
        "colab_type": "code",
        "outputId": "6d2f5967-4ddf-424f-ee41-b75b50706b57",
        "colab": {
          "base_uri": "https://localhost:8080/",
          "height": 82
        }
      },
      "source": [
        "####COMO RESOLVER UMA EQUAÇÃO DIFERENCIAL SIMBOLICAMENTE UTILIZANDO PYTHON !!!\n",
        "\n",
        "#### importanto bibliotecas\n",
        "\n",
        "from sympy.interactive import printing\n",
        "printing.init_printing(use_latex=True)\n",
        "from sympy import *\n",
        "import sympy as sp\n",
        "\n",
        "x = sp.Symbol('x')\n",
        "\n",
        "f = sp.Function('f')(x)\n",
        "\n",
        "mview(f.diff(x))\n",
        "\n",
        "\n",
        "\n"
      ],
      "execution_count": 0,
      "outputs": [
        {
          "output_type": "display_data",
          "data": {
            "text/html": [
              "<script src='https://cdnjs.cloudflare.com/ajax/libs/mathjax/2.7.3/latest.js?config=default'></script>"
            ],
            "text/plain": [
              "<IPython.core.display.HTML object>"
            ]
          },
          "metadata": {
            "tags": []
          }
        },
        {
          "output_type": "execute_result",
          "data": {
            "text/latex": "$$\\frac{d}{d x} f{\\left (x \\right )}$$",
            "text/plain": [
              "<IPython.core.display.Math object>"
            ]
          },
          "metadata": {
            "tags": []
          },
          "execution_count": 47
        }
      ]
    },
    {
      "cell_type": "code",
      "metadata": {
        "id": "_nvAJKKQU8zh",
        "colab_type": "code",
        "outputId": "a0218623-408d-4fa9-d795-c00c32522840",
        "colab": {
          "base_uri": "https://localhost:8080/",
          "height": 85
        }
      },
      "source": [
        "mview(f.diff(x,x))"
      ],
      "execution_count": 0,
      "outputs": [
        {
          "output_type": "display_data",
          "data": {
            "text/html": [
              "<script src='https://cdnjs.cloudflare.com/ajax/libs/mathjax/2.7.3/latest.js?config=default'></script>"
            ],
            "text/plain": [
              "<IPython.core.display.HTML object>"
            ]
          },
          "metadata": {
            "tags": []
          }
        },
        {
          "output_type": "execute_result",
          "data": {
            "text/latex": "$$\\frac{d^{2}}{d x^{2}}  f{\\left (x \\right )}$$",
            "text/plain": [
              "<IPython.core.display.Math object>"
            ]
          },
          "metadata": {
            "tags": []
          },
          "execution_count": 48
        }
      ]
    },
    {
      "cell_type": "code",
      "metadata": {
        "id": "YHssfkedVKzP",
        "colab_type": "code",
        "outputId": "e515ad0c-a3cc-46fa-9388-f54184abfd08",
        "colab": {
          "base_uri": "https://localhost:8080/",
          "height": 139
        }
      },
      "source": [
        "diffeq = Eq(f.diff(x,x) -5*f,0)\n",
        "display(diffeq)\n",
        "\n",
        "mview(diffeq)"
      ],
      "execution_count": 0,
      "outputs": [
        {
          "output_type": "display_data",
          "data": {
            "image/png": "[encoded data removed]",
            "text/latex": "$$- 5 f{\\left (x \\right )} + \\frac{d^{2}}{d x^{2}}  f{\\left (x \\right )} = 0$$",
            "text/plain": [
              "            2          \n",
              "           d           \n",
              "-5⋅f(x) + ───(f(x)) = 0\n",
              "            2          \n",
              "          dx           "
            ]
          },
          "metadata": {
            "tags": []
          }
        },
        {
          "output_type": "display_data",
          "data": {
            "text/html": [
              "<script src='https://cdnjs.cloudflare.com/ajax/libs/mathjax/2.7.3/latest.js?config=default'></script>"
            ],
            "text/plain": [
              "<IPython.core.display.HTML object>"
            ]
          },
          "metadata": {
            "tags": []
          }
        },
        {
          "output_type": "execute_result",
          "data": {
            "text/latex": "$$- 5 f{\\left (x \\right )} + \\frac{d^{2}}{d x^{2}}  f{\\left (x \\right )} = 0$$",
            "text/plain": [
              "<IPython.core.display.Math object>"
            ]
          },
          "metadata": {
            "tags": []
          },
          "execution_count": 24
        }
      ]
    },
    {
      "cell_type": "code",
      "metadata": {
        "id": "A4k2DpZWVuiM",
        "colab_type": "code",
        "outputId": "68caeaf0-1a43-4901-c0d7-f133f4bc54a0",
        "colab": {
          "base_uri": "https://localhost:8080/",
          "height": 68
        }
      },
      "source": [
        "##### solução geral\n",
        "\n",
        "z = dsolve(diffeq,f)\n",
        "\n",
        "mview(z)"
      ],
      "execution_count": 0,
      "outputs": [
        {
          "output_type": "display_data",
          "data": {
            "text/html": [
              "<script src='https://cdnjs.cloudflare.com/ajax/libs/mathjax/2.7.3/latest.js?config=default'></script>"
            ],
            "text/plain": [
              "<IPython.core.display.HTML object>"
            ]
          },
          "metadata": {
            "tags": []
          }
        },
        {
          "output_type": "execute_result",
          "data": {
            "text/latex": "$$f{\\left (x \\right )} = C_{1} e^{- \\sqrt{5} x} + C_{2} e^{\\sqrt{5} x}$$",
            "text/plain": [
              "<IPython.core.display.Math object>"
            ]
          },
          "metadata": {
            "tags": []
          },
          "execution_count": 7
        }
      ]
    },
    {
      "cell_type": "code",
      "metadata": {
        "id": "Cc7JpBkAelmE",
        "colab_type": "code",
        "outputId": "75c04a60-15ac-4065-a94d-ed3607b8cbc6",
        "colab": {
          "base_uri": "https://localhost:8080/",
          "height": 85
        }
      },
      "source": [
        "###sistema massa mola\n",
        "\n",
        "from sympy.interactive import printing\n",
        "printing.init_printing(use_latex=True)\n",
        "from sympy import *\n",
        "import sympy as sp\n",
        "\n",
        "t = sp.Symbol('t')\n",
        "#m, k = sp.symbols('m k')\n",
        "x = sp.Function('x')\n",
        "\n",
        "diffeq = sp.Eq(m*x(t).diff(t,t) + k*x(t), 0)\n",
        "\n",
        "\n",
        "mview(diffeq)\n"
      ],
      "execution_count": 0,
      "outputs": [
        {
          "output_type": "display_data",
          "data": {
            "text/html": [
              "<script src='https://cdnjs.cloudflare.com/ajax/libs/mathjax/2.7.3/latest.js?config=default'></script>"
            ],
            "text/plain": [
              "<IPython.core.display.HTML object>"
            ]
          },
          "metadata": {
            "tags": []
          }
        },
        {
          "output_type": "execute_result",
          "data": {
            "text/latex": "$$k x{\\left (t \\right )} + m \\frac{d^{2}}{d t^{2}}  x{\\left (t \\right )} = 0$$",
            "text/plain": [
              "<IPython.core.display.Math object>"
            ]
          },
          "metadata": {
            "tags": []
          },
          "execution_count": 12
        }
      ]
    },
    {
      "cell_type": "code",
      "metadata": {
        "id": "PGtyrIa1frex",
        "colab_type": "code",
        "outputId": "209bc282-9a20-4912-8ad0-f2e3b858600a",
        "colab": {
          "base_uri": "https://localhost:8080/",
          "height": 74
        }
      },
      "source": [
        "z = sp.dsolve(diffeq)\n",
        "\n",
        "mview(z)"
      ],
      "execution_count": 0,
      "outputs": [
        {
          "output_type": "display_data",
          "data": {
            "text/html": [
              "<script src='https://cdnjs.cloudflare.com/ajax/libs/mathjax/2.7.3/latest.js?config=default'></script>"
            ],
            "text/plain": [
              "<IPython.core.display.HTML object>"
            ]
          },
          "metadata": {
            "tags": []
          }
        },
        {
          "output_type": "execute_result",
          "data": {
            "text/latex": "$$x{\\left (t \\right )} = C_{1} e^{- t \\sqrt{- \\frac{k}{m}}} + C_{2} e^{t \\sqrt{- \\frac{k}{m}}}$$",
            "text/plain": [
              "<IPython.core.display.Math object>"
            ]
          },
          "metadata": {
            "tags": []
          },
          "execution_count": 13
        }
      ]
    },
    {
      "cell_type": "code",
      "metadata": {
        "id": "nIAtKH69e5Tf",
        "colab_type": "code",
        "outputId": "a4e31f4b-b1f0-48be-a8bd-fc91844348bf",
        "colab": {
          "base_uri": "https://localhost:8080/",
          "height": 107
        }
      },
      "source": [
        "#### solução das constants\n",
        "\n",
        "\n",
        "##### condições iniciais x(0) = 0 , x(pi) = 0\n",
        "\n",
        "\n",
        "\n",
        "import numpy as np\n",
        "constants = solve([z.subs(t,0), z.subs(np.pi,0)] , symbols('C1 C2'))\n",
        "\n",
        "resposta = z.subs(constants)\n",
        "\n",
        "mview(resposta)"
      ],
      "execution_count": 0,
      "outputs": [
        {
          "output_type": "display_data",
          "data": {
            "text/html": [
              "<script src='https://cdnjs.cloudflare.com/ajax/libs/mathjax/2.7.3/latest.js?config=default'></script>"
            ],
            "text/plain": [
              "<IPython.core.display.HTML object>"
            ]
          },
          "metadata": {
            "tags": []
          }
        },
        {
          "output_type": "execute_result",
          "data": {
            "text/latex": "$$x{\\left (t \\right )} = \\frac{x{\\left (0 \\right )} e^{t \\sqrt{- \\frac{k}{m}}} - x{\\left (t \\right )}}{e^{2 t \\sqrt{- \\frac{k}{m}}} - 1} + \\frac{e^{t \\sqrt{- \\frac{k}{m}}}}{e^{2 t \\sqrt{- \\frac{k}{m}}} - 1} \\left(- x{\\left (0 \\right )} + x{\\left (t \\right )} e^{t \\sqrt{- \\frac{k}{m}}}\\right)$$",
            "text/plain": [
              "<IPython.core.display.Math object>"
            ]
          },
          "metadata": {
            "tags": []
          },
          "execution_count": 20
        }
      ]
    },
    {
      "cell_type": "markdown",
      "metadata": {
        "id": "5tEtNmCkYEZS",
        "colab_type": "text"
      },
      "source": [
        "#### Resolvendo sistemas de equações utilizando Sympy"
      ]
    },
    {
      "cell_type": "code",
      "metadata": {
        "id": "qvwXARhWYJgM",
        "colab_type": "code",
        "outputId": "2877230e-230b-4aba-feee-753a6fdba669",
        "colab": {
          "base_uri": "https://localhost:8080/",
          "height": 213
        }
      },
      "source": [
        "from sympy.interactive import printing\n",
        "printing.init_printing(use_latex=True)\n",
        "from sympy import *\n",
        "import sympy as sp\n",
        "import numpy as np\n",
        "\n",
        "eq1 = sp.Function('eq1')\n",
        "eq2 = sp.Function('eq2')\n",
        "\n",
        "x,y = sp.symbols('x y')\n",
        "\n",
        "eq1 = Eq(2*x-y ,-4)\n",
        "eq2 = Eq(3*x-1 ,-2)\n",
        "\n",
        "a = display(eq1)\n",
        "b = display(eq2)\n",
        "\n",
        "mview(a)\n",
        "mview(b)\n",
        "\n",
        "row1 = [2,-1,-4]\n",
        "row2 = [3,-1,-2]\n",
        "\n",
        "system = Matrix((row1,row2))\n",
        "\n",
        "c = display(system)\n",
        "\n",
        "solve_linear_system(system,x,y)\n",
        "\n",
        "mview(c)\n",
        "\n",
        "d = display(solve_linear_system(system,x,y))\n",
        "\n",
        "\n",
        "mview(d)\n",
        "\n"
      ],
      "execution_count": 0,
      "outputs": [
        {
          "output_type": "display_data",
          "data": {
            "image/png": "[encoded data removed]",
            "text/latex": "$$2 x - y = -4$$",
            "text/plain": [
              "2⋅x - y = -4"
            ]
          },
          "metadata": {
            "tags": []
          }
        },
        {
          "output_type": "display_data",
          "data": {
            "image/png": "[encoded data removed]",
            "text/latex": "$$3 x - 1 = -2$$",
            "text/plain": [
              "3⋅x - 1 = -2"
            ]
          },
          "metadata": {
            "tags": []
          }
        },
        {
          "output_type": "display_data",
          "data": {
            "text/html": [
              "<script src='https://cdnjs.cloudflare.com/ajax/libs/mathjax/2.7.3/latest.js?config=default'></script>"
            ],
            "text/plain": [
              "<IPython.core.display.HTML object>"
            ]
          },
          "metadata": {
            "tags": []
          }
        },
        {
          "output_type": "display_data",
          "data": {
            "text/html": [
              "<script src='https://cdnjs.cloudflare.com/ajax/libs/mathjax/2.7.3/latest.js?config=default'></script>"
            ],
            "text/plain": [
              "<IPython.core.display.HTML object>"
            ]
          },
          "metadata": {
            "tags": []
          }
        },
        {
          "output_type": "display_data",
          "data": {
            "text/latex": "$$\\left[\\begin{matrix}2 & -1 & -4\\\\3 & -1 & -2\\end{matrix}\\right]$$",
            "text/plain": [
              "⎡2  -1  -4⎤\n",
              "⎢         ⎥\n",
              "⎣3  -1  -2⎦"
            ]
          },
          "metadata": {
            "tags": []
          }
        },
        {
          "output_type": "display_data",
          "data": {
            "text/html": [
              "<script src='https://cdnjs.cloudflare.com/ajax/libs/mathjax/2.7.3/latest.js?config=default'></script>"
            ],
            "text/plain": [
              "<IPython.core.display.HTML object>"
            ]
          },
          "metadata": {
            "tags": []
          }
        },
        {
          "output_type": "display_data",
          "data": {
            "image/png": "[encoded data removed]",
            "text/latex": "$$\\left \\{ x : 2, \\quad y : 8\\right \\}$$",
            "text/plain": [
              "{x: 2, y: 8}"
            ]
          },
          "metadata": {
            "tags": []
          }
        },
        {
          "output_type": "display_data",
          "data": {
            "text/html": [
              "<script src='https://cdnjs.cloudflare.com/ajax/libs/mathjax/2.7.3/latest.js?config=default'></script>"
            ],
            "text/plain": [
              "<IPython.core.display.HTML object>"
            ]
          },
          "metadata": {
            "tags": []
          }
        },
        {
          "output_type": "execute_result",
          "data": {
            "text/latex": "$$\\mathrm{None}$$",
            "text/plain": [
              "<IPython.core.display.Math object>"
            ]
          },
          "metadata": {
            "tags": []
          },
          "execution_count": 182
        }
      ]
    },
    {
      "cell_type": "code",
      "metadata": {
        "id": "QCX7zze5MdQz",
        "colab_type": "code",
        "outputId": "ea98888b-c0d7-414d-c98b-be4ab285d71b",
        "colab": {
          "base_uri": "https://localhost:8080/",
          "height": 321
        }
      },
      "source": [
        "#### Sistema maior\n",
        "\n",
        "\n",
        "from sympy.interactive import printing\n",
        "printing.init_printing(use_latex=True)\n",
        "from sympy import *\n",
        "import sympy as sp\n",
        "import numpy as np\n",
        "\n",
        "eq3 = sp.Function('eq3')\n",
        "eq4 = sp.Function('eq4')\n",
        "eq5 = sp.Function('eq5')\n",
        "eq6 = sp.Function('eq6')\n",
        "\n",
        "x,y = sp.symbols('x y')\n",
        "\n",
        "eq3 = Eq(2*y-x ,-8)\n",
        "eq4 = Eq(3*x-5 ,-5)\n",
        "eq5 = Eq(8*y-x ,-12)\n",
        "eq6 = Eq(10*x - 5*y ,-10)\n",
        "\n",
        "\n",
        "a = display(eq3)\n",
        "b = display(eq4)\n",
        "c = display(eq5)\n",
        "d = display(eq6)\n",
        "\n",
        "mview(a)\n",
        "mview(b)\n",
        "mview(c)\n",
        "mview(d)\n",
        "\n",
        "row1 = [-1,2,-8]\n",
        "row2 = [3,-5,-5]\n",
        "row3 = [-1,8,-12]\n",
        "row4 = [10,-5,-10]\n",
        "\n",
        "system = Matrix((row1,row2,row3,row4))\n",
        "\n",
        "e = display(system)\n",
        "\n",
        "solve_linear_system(system,x,y)\n",
        "\n",
        "mview(e)\n",
        "\n",
        "g = display(solve_linear_system(system,x,y))\n",
        "\n",
        "\n",
        "mview(g)\n",
        "\n",
        "\n"
      ],
      "execution_count": 0,
      "outputs": [
        {
          "output_type": "display_data",
          "data": {
            "image/png": "[encoded data removed]",
            "text/latex": "$$- x + 2 y = -8$$",
            "text/plain": [
              "-x + 2⋅y = -8"
            ]
          },
          "metadata": {
            "tags": []
          }
        },
        {
          "output_type": "display_data",
          "data": {
            "image/png": "[encoded data removed]",
            "text/latex": "$$3 x - 5 = -5$$",
            "text/plain": [
              "3⋅x - 5 = -5"
            ]
          },
          "metadata": {
            "tags": []
          }
        },
        {
          "output_type": "display_data",
          "data": {
            "image/png": "[encoded data removed]",
            "text/latex": "$$- x + 8 y = -12$$",
            "text/plain": [
              "-x + 8⋅y = -12"
            ]
          },
          "metadata": {
            "tags": []
          }
        },
        {
          "output_type": "display_data",
          "data": {
            "image/png": "[encoded data removed]",
            "text/latex": "$$10 x - 5 y = -10$$",
            "text/plain": [
              "10⋅x - 5⋅y = -10"
            ]
          },
          "metadata": {
            "tags": []
          }
        },
        {
          "output_type": "display_data",
          "data": {
            "text/html": [
              "<script src='https://cdnjs.cloudflare.com/ajax/libs/mathjax/2.7.3/latest.js?config=default'></script>"
            ],
            "text/plain": [
              "<IPython.core.display.HTML object>"
            ]
          },
          "metadata": {
            "tags": []
          }
        },
        {
          "output_type": "display_data",
          "data": {
            "text/html": [
              "<script src='https://cdnjs.cloudflare.com/ajax/libs/mathjax/2.7.3/latest.js?config=default'></script>"
            ],
            "text/plain": [
              "<IPython.core.display.HTML object>"
            ]
          },
          "metadata": {
            "tags": []
          }
        },
        {
          "output_type": "display_data",
          "data": {
            "text/html": [
              "<script src='https://cdnjs.cloudflare.com/ajax/libs/mathjax/2.7.3/latest.js?config=default'></script>"
            ],
            "text/plain": [
              "<IPython.core.display.HTML object>"
            ]
          },
          "metadata": {
            "tags": []
          }
        },
        {
          "output_type": "display_data",
          "data": {
            "text/html": [
              "<script src='https://cdnjs.cloudflare.com/ajax/libs/mathjax/2.7.3/latest.js?config=default'></script>"
            ],
            "text/plain": [
              "<IPython.core.display.HTML object>"
            ]
          },
          "metadata": {
            "tags": []
          }
        },
        {
          "output_type": "display_data",
          "data": {
            "text/latex": "$$\\left[\\begin{matrix}-1 & 2 & -8\\\\3 & -5 & -5\\\\-1 & 8 & -12\\\\10 & -5 & -10\\end{matrix}\\right]$$",
            "text/plain": [
              "⎡-1  2   -8 ⎤\n",
              "⎢           ⎥\n",
              "⎢3   -5  -5 ⎥\n",
              "⎢           ⎥\n",
              "⎢-1  8   -12⎥\n",
              "⎢           ⎥\n",
              "⎣10  -5  -10⎦"
            ]
          },
          "metadata": {
            "tags": []
          }
        },
        {
          "output_type": "display_data",
          "data": {
            "text/html": [
              "<script src='https://cdnjs.cloudflare.com/ajax/libs/mathjax/2.7.3/latest.js?config=default'></script>"
            ],
            "text/plain": [
              "<IPython.core.display.HTML object>"
            ]
          },
          "metadata": {
            "tags": []
          }
        },
        {
          "output_type": "display_data",
          "data": {
            "text/plain": [
              "None"
            ]
          },
          "metadata": {
            "tags": []
          }
        },
        {
          "output_type": "display_data",
          "data": {
            "text/html": [
              "<script src='https://cdnjs.cloudflare.com/ajax/libs/mathjax/2.7.3/latest.js?config=default'></script>"
            ],
            "text/plain": [
              "<IPython.core.display.HTML object>"
            ]
          },
          "metadata": {
            "tags": []
          }
        },
        {
          "output_type": "execute_result",
          "data": {
            "text/latex": "$$\\mathrm{None}$$",
            "text/plain": [
              "<IPython.core.display.Math object>"
            ]
          },
          "metadata": {
            "tags": []
          },
          "execution_count": 49
        }
      ]
    },
    {
      "cell_type": "code",
      "metadata": {
        "id": "Q83H7meDNwkr",
        "colab_type": "code",
        "colab": {}
      },
      "source": [
        "##### Resolvam o sistema\n",
        "\n",
        "from sympy.interactive import printing\n",
        "printing.init_printing(use_latex=True)\n",
        "from sympy import *\n",
        "import sympy as sp\n",
        "import numpy as np\n",
        "\n",
        "eq7 = sp.Function('eq7')\n",
        "eq8 = sp.Function('eq8')\n",
        "\n",
        "\n",
        "x,y = sp.symbols('x y')\n",
        "\n",
        "eq7 = Eq(x + y ,3)\n",
        "eq8 = Eq(x - y ,1)"
      ],
      "execution_count": 0,
      "outputs": []
    },
    {
      "cell_type": "code",
      "metadata": {
        "id": "7jI-NCYbOUeF",
        "colab_type": "code",
        "outputId": "13e2c030-7c52-4417-eb9d-5f7eac95bb31",
        "colab": {
          "base_uri": "https://localhost:8080/",
          "height": 269
        }
      },
      "source": [
        "#### sistema com 3 var\n",
        "\n",
        "\n",
        "\n",
        "from sympy.interactive import printing\n",
        "printing.init_printing(use_latex=True)\n",
        "from sympy import *\n",
        "import sympy as sp\n",
        "import numpy as np\n",
        "\n",
        "system1 = sp.Function('system1')\n",
        "system2 = sp.Function('system2')\n",
        "system3 = sp.Function('system3')\n",
        "\n",
        "x,y,z = sp.symbols('x y z')\n",
        "\n",
        "system1 = Eq(2*x + 2*y +2*z ,20)\n",
        "system2 = Eq(2*x - 2*y +2*z ,8)\n",
        "system3 = Eq(2*x -2*y -2*z ,0)\n",
        "\n",
        "a = display(system1)\n",
        "b = display(system2)\n",
        "c = display(system3)\n",
        "\n",
        "\n",
        "mview(a)\n",
        "mview(b)\n",
        "mview(c)\n",
        "\n",
        "row1 = [2,2,2,20]\n",
        "row2 = [2,-2,2,8]\n",
        "row3 = [2,-2,-2,0]\n",
        "\n",
        "\n",
        "system = Matrix((row1,row2,row3))\n",
        "\n",
        "e = display(system)\n",
        "\n",
        "solve_linear_system(system,x,y,z)\n",
        "\n",
        "mview(e)\n",
        "\n",
        "g = display(solve_linear_system(system,x,y,z))\n",
        "\n",
        "\n",
        "mview(g)\n",
        "\n",
        "\n",
        "\n",
        "\n"
      ],
      "execution_count": 0,
      "outputs": [
        {
          "output_type": "display_data",
          "data": {
            "image/png": "[encoded data removed]",
            "text/latex": "$$2 x + 2 y + 2 z = 20$$",
            "text/plain": [
              "2⋅x + 2⋅y + 2⋅z = 20"
            ]
          },
          "metadata": {
            "tags": []
          }
        },
        {
          "output_type": "display_data",
          "data": {
            "image/png": "[encoded data removed]",
            "text/latex": "$$2 x - 2 y + 2 z = 8$$",
            "text/plain": [
              "2⋅x - 2⋅y + 2⋅z = 8"
            ]
          },
          "metadata": {
            "tags": []
          }
        },
        {
          "output_type": "display_data",
          "data": {
            "image/png": "[encoded data removed]",
            "text/latex": "$$2 x - 2 y - 2 z = 0$$",
            "text/plain": [
              "2⋅x - 2⋅y - 2⋅z = 0"
            ]
          },
          "metadata": {
            "tags": []
          }
        },
        {
          "output_type": "display_data",
          "data": {
            "text/html": [
              "<script src='https://cdnjs.cloudflare.com/ajax/libs/mathjax/2.7.3/latest.js?config=default'></script>"
            ],
            "text/plain": [
              "<IPython.core.display.HTML object>"
            ]
          },
          "metadata": {
            "tags": []
          }
        },
        {
          "output_type": "display_data",
          "data": {
            "text/html": [
              "<script src='https://cdnjs.cloudflare.com/ajax/libs/mathjax/2.7.3/latest.js?config=default'></script>"
            ],
            "text/plain": [
              "<IPython.core.display.HTML object>"
            ]
          },
          "metadata": {
            "tags": []
          }
        },
        {
          "output_type": "display_data",
          "data": {
            "text/html": [
              "<script src='https://cdnjs.cloudflare.com/ajax/libs/mathjax/2.7.3/latest.js?config=default'></script>"
            ],
            "text/plain": [
              "<IPython.core.display.HTML object>"
            ]
          },
          "metadata": {
            "tags": []
          }
        },
        {
          "output_type": "display_data",
          "data": {
            "text/latex": "$$\\left[\\begin{matrix}2 & 2 & 2 & 20\\\\2 & -2 & 2 & 8\\\\2 & -2 & -2 & 0\\end{matrix}\\right]$$",
            "text/plain": [
              "⎡2  2   2   20⎤\n",
              "⎢             ⎥\n",
              "⎢2  -2  2   8 ⎥\n",
              "⎢             ⎥\n",
              "⎣2  -2  -2  0 ⎦"
            ]
          },
          "metadata": {
            "tags": []
          }
        },
        {
          "output_type": "display_data",
          "data": {
            "text/html": [
              "<script src='https://cdnjs.cloudflare.com/ajax/libs/mathjax/2.7.3/latest.js?config=default'></script>"
            ],
            "text/plain": [
              "<IPython.core.display.HTML object>"
            ]
          },
          "metadata": {
            "tags": []
          }
        },
        {
          "output_type": "display_data",
          "data": {
            "image/png": "[encoded data removed]",
            "text/latex": "$$\\left \\{ x : 5, \\quad y : 3, \\quad z : 2\\right \\}$$",
            "text/plain": [
              "{x: 5, y: 3, z: 2}"
            ]
          },
          "metadata": {
            "tags": []
          }
        },
        {
          "output_type": "display_data",
          "data": {
            "text/html": [
              "<script src='https://cdnjs.cloudflare.com/ajax/libs/mathjax/2.7.3/latest.js?config=default'></script>"
            ],
            "text/plain": [
              "<IPython.core.display.HTML object>"
            ]
          },
          "metadata": {
            "tags": []
          }
        },
        {
          "output_type": "execute_result",
          "data": {
            "text/latex": "$$\\mathrm{None}$$",
            "text/plain": [
              "<IPython.core.display.Math object>"
            ]
          },
          "metadata": {
            "tags": []
          },
          "execution_count": 54
        }
      ]
    },
    {
      "cell_type": "code",
      "metadata": {
        "id": "bLC2V-5LP2iZ",
        "colab_type": "code",
        "outputId": "f309e5aa-4a1a-4856-b0c9-5d06768abcc7",
        "colab": {
          "base_uri": "https://localhost:8080/",
          "height": 155
        }
      },
      "source": [
        "#################### RESOLVA O SISTEMA\n",
        "\n",
        "from sympy.interactive import printing\n",
        "printing.init_printing(use_latex=True)\n",
        "from sympy import *\n",
        "import sympy as sp\n",
        "import numpy as np\n",
        "\n",
        "system1 = sp.Function('system1')\n",
        "system2 = sp.Function('system2')\n",
        "system3 = sp.Function('system3')\n",
        "\n",
        "x,y,z = sp.symbols('x y z')\n",
        "\n",
        "system1 = Eq(x +10*y -12*z,120)\n",
        "system2 = Eq(4*x - 2*y -20*z ,60)\n",
        "system3 = Eq(-x +y +5*z ,10)\n",
        "\n",
        "a = display(system1)\n",
        "b = display(system2)\n",
        "c = display(system3)\n",
        "\n",
        "\n",
        "mview(a)\n",
        "mview(b)\n",
        "mview(c)"
      ],
      "execution_count": 0,
      "outputs": [
        {
          "output_type": "display_data",
          "data": {
            "image/png": "[encoded data removed]",
            "text/latex": "$$x + 10 y - 12 z = 120$$",
            "text/plain": [
              "x + 10⋅y - 12⋅z = 120"
            ]
          },
          "metadata": {
            "tags": []
          }
        },
        {
          "output_type": "display_data",
          "data": {
            "image/png": "[encoded data removed]",
            "text/latex": "$$4 x - 2 y - 20 z = 60$$",
            "text/plain": [
              "4⋅x - 2⋅y - 20⋅z = 60"
            ]
          },
          "metadata": {
            "tags": []
          }
        },
        {
          "output_type": "display_data",
          "data": {
            "image/png": "[encoded data removed]",
            "text/latex": "$$- x + y + 5 z = 10$$",
            "text/plain": [
              "-x + y + 5⋅z = 10"
            ]
          },
          "metadata": {
            "tags": []
          }
        },
        {
          "output_type": "display_data",
          "data": {
            "text/html": [
              "<script src='https://cdnjs.cloudflare.com/ajax/libs/mathjax/2.7.3/latest.js?config=default'></script>"
            ],
            "text/plain": [
              "<IPython.core.display.HTML object>"
            ]
          },
          "metadata": {
            "tags": []
          }
        },
        {
          "output_type": "display_data",
          "data": {
            "text/html": [
              "<script src='https://cdnjs.cloudflare.com/ajax/libs/mathjax/2.7.3/latest.js?config=default'></script>"
            ],
            "text/plain": [
              "<IPython.core.display.HTML object>"
            ]
          },
          "metadata": {
            "tags": []
          }
        },
        {
          "output_type": "display_data",
          "data": {
            "text/html": [
              "<script src='https://cdnjs.cloudflare.com/ajax/libs/mathjax/2.7.3/latest.js?config=default'></script>"
            ],
            "text/plain": [
              "<IPython.core.display.HTML object>"
            ]
          },
          "metadata": {
            "tags": []
          }
        },
        {
          "output_type": "execute_result",
          "data": {
            "text/latex": "$$\\mathrm{None}$$",
            "text/plain": [
              "<IPython.core.display.Math object>"
            ]
          },
          "metadata": {
            "tags": []
          },
          "execution_count": 58
        }
      ]
    },
    {
      "cell_type": "markdown",
      "metadata": {
        "id": "VrGofWXYUz6S",
        "colab_type": "text"
      },
      "source": [
        "### Funções Periódicas e Gráficos avançados\n",
        "\n"
      ]
    },
    {
      "cell_type": "code",
      "metadata": {
        "id": "UO4aJsJZVune",
        "colab_type": "code",
        "colab": {}
      },
      "source": [
        "##### uma das bibliotecas !!\n",
        "\n",
        "import numpy as np\n",
        "\n"
      ],
      "execution_count": 0,
      "outputs": []
    },
    {
      "cell_type": "code",
      "metadata": {
        "id": "G5vUU5NNV2Ux",
        "colab_type": "code",
        "outputId": "7c8d475e-889c-4faf-e510-590a179e933d",
        "colab": {
          "base_uri": "https://localhost:8080/",
          "height": 34
        }
      },
      "source": [
        "x = 0\n",
        "np.cos(x)\n",
        "np.sin(x)"
      ],
      "execution_count": 0,
      "outputs": [
        {
          "output_type": "execute_result",
          "data": {
            "text/plain": [
              "0.0"
            ]
          },
          "metadata": {
            "tags": []
          },
          "execution_count": 12
        }
      ]
    },
    {
      "cell_type": "code",
      "metadata": {
        "id": "xyHBDgjUWDqa",
        "colab_type": "code",
        "outputId": "365f64aa-4149-4862-9158-6d442b614174",
        "colab": {
          "base_uri": "https://localhost:8080/",
          "height": 281
        }
      },
      "source": [
        "import matplotlib.pyplot as plt\n",
        "\n",
        "X = np.linspace(-2*np.pi,2*np.pi , 1000 , endpoint = True)\n",
        "\n",
        "C = np.cos(X)\n",
        "S = np.sin (X)\n",
        "\n",
        "plt.plot(X,C ,label = 'Cosseno')\n",
        "plt.plot(X,S , label ='Seno')\n",
        "plt.title(\"Gráfico Seno e Cosseno\")\n",
        "###### criando legendas para os gráficos\n",
        "\n",
        "plt.legend(loc='upper right')\n",
        "\n",
        "plt.show()\n"
      ],
      "execution_count": 0,
      "outputs": [
        {
          "output_type": "display_data",
          "data": {
            "image/png": "[encoded data removed]",
            "text/plain": [
              "<Figure size 432x288 with 1 Axes>"
            ]
          },
          "metadata": {
            "tags": []
          }
        }
      ]
    },
    {
      "cell_type": "markdown",
      "metadata": {
        "id": "gV_qE2oFYpjG",
        "colab_type": "text"
      },
      "source": [
        "![figura](https://i.imgur.com/39Tczbq.png))"
      ]
    },
    {
      "cell_type": "code",
      "metadata": {
        "id": "FqeKWzK8Y2x4",
        "colab_type": "code",
        "outputId": "10f68db3-5d0e-4e1e-fd67-634b1d26666f",
        "colab": {
          "base_uri": "https://localhost:8080/",
          "height": 281
        }
      },
      "source": [
        "import matplotlib.pyplot as plt\n",
        "\n",
        "X = np.linspace(-2*np.pi,2*np.pi , 1000 , endpoint = True)\n",
        "\n",
        "C = np.cos(X)\n",
        "S = np.sin (X)\n",
        "\n",
        "plt.plot(X,C ,label = 'Cosseno')\n",
        "plt.plot(X,S , label ='Seno')\n",
        "plt.title(\"Gráfico Seno e Cosseno\")\n",
        "\n",
        "######## LEGENDA FORA DO PLOT !!!!!\n",
        "\n",
        "plt.legend(loc = \"best\" , bbox_to_anchor=(1.1 ,1.05))\n",
        "\n",
        "plt.show()\n"
      ],
      "execution_count": 0,
      "outputs": [
        {
          "output_type": "display_data",
          "data": {
            "image/png": "[encoded data removed]",
            "text/plain": [
              "<Figure size 432x288 with 1 Axes>"
            ]
          },
          "metadata": {
            "tags": []
          }
        }
      ]
    },
    {
      "cell_type": "code",
      "metadata": {
        "id": "EZ8nzsnaaPEa",
        "colab_type": "code",
        "outputId": "36991994-c1b4-4032-c3da-d9816074f6da",
        "colab": {
          "base_uri": "https://localhost:8080/",
          "height": 281
        }
      },
      "source": [
        "import matplotlib.pyplot as plt\n",
        "\n",
        "X = np.linspace(-2*np.pi,2*np.pi , 1000 , endpoint = True)\n",
        "\n",
        "C = np.cos(X)\n",
        "S = np.sin (X)\n",
        "\n",
        "plt.plot(X,C ,label = 'Cosseno', linewidth = 10.2)\n",
        "plt.plot(X,S , label ='Seno')\n",
        "plt.title(\"Gráfico Seno e Cosseno\")\n",
        "\n",
        "plt.legend(loc = \"best\")\n",
        "\n",
        "plt.show()"
      ],
      "execution_count": 0,
      "outputs": [
        {
          "output_type": "display_data",
          "data": {
            "image/png": "[encoded data removed]",
            "text/plain": [
              "<Figure size 432x288 with 1 Axes>"
            ]
          },
          "metadata": {
            "tags": []
          }
        }
      ]
    },
    {
      "cell_type": "code",
      "metadata": {
        "id": "_eDV9HwWauLx",
        "colab_type": "code",
        "outputId": "64fa65d8-c35e-40c8-9232-0385a9de95cc",
        "colab": {
          "base_uri": "https://localhost:8080/",
          "height": 281
        }
      },
      "source": [
        "import matplotlib.pyplot as plt\n",
        "\n",
        "X = np.linspace(-2*np.pi,2*np.pi , 1000 , endpoint = True)\n",
        "\n",
        "C = np.cos(X)\n",
        "S = np.sin (X)\n",
        "\n",
        "###################### COR DAS LINHAS\n",
        "\n",
        "plt.plot(X,C ,label = 'Cosseno', linewidth = 2.2 ,color ='blue')\n",
        "plt.plot(X,S , label ='Seno' , linewidth = 2.2 ,color ='red')\n",
        "plt.title(\"Gráfico Seno e Cosseno\")\n",
        "\n",
        "plt.legend(loc = \"best\")\n",
        "\n",
        "plt.show()"
      ],
      "execution_count": 0,
      "outputs": [
        {
          "output_type": "display_data",
          "data": {
            "image/png": "[encoded data removed]",
            "text/plain": [
              "<Figure size 432x288 with 1 Axes>"
            ]
          },
          "metadata": {
            "tags": []
          }
        }
      ]
    },
    {
      "cell_type": "code",
      "metadata": {
        "id": "2sAExtZabgiA",
        "colab_type": "code",
        "outputId": "b94d5fbf-f0c2-430b-849f-2459b6b257af",
        "colab": {
          "base_uri": "https://localhost:8080/",
          "height": 281
        }
      },
      "source": [
        "import matplotlib.pyplot as plt\n",
        "\n",
        "X = np.linspace(-2*np.pi,2*np.pi , 1000 , endpoint = True)\n",
        "\n",
        "C = np.cos(X)\n",
        "S = np.sin (X)\n",
        "\n",
        "###################### TIPOS DE LINHA\n",
        "\n",
        "plt.plot(X,C ,label = \"Cosseno\", linewidth = 2.2, linestyle = \"dashed\" ,color =\"green\")\n",
        "plt.plot(X,S , label =\"Seno\" , linewidth = 2.2, linestyle = \"dotted\" ,color =\"purple\")\n",
        "plt.title(\"Gráfico Seno e Cosseno\")\n",
        "\n",
        "plt.legend(loc = \"best\")\n",
        "\n",
        "plt.show()"
      ],
      "execution_count": 0,
      "outputs": [
        {
          "output_type": "display_data",
          "data": {
            "image/png": "[encoded data removed]",
            "text/plain": [
              "<Figure size 432x288 with 1 Axes>"
            ]
          },
          "metadata": {
            "tags": []
          }
        }
      ]
    },
    {
      "cell_type": "markdown",
      "metadata": {
        "id": "SmSD5GhDdNq-",
        "colab_type": "text"
      },
      "source": [
        "![Tabela](https://matplotlib.org/_images/sphx_glr_linestyles_001.png )"
      ]
    },
    {
      "cell_type": "code",
      "metadata": {
        "id": "HvvCdlJyfRJJ",
        "colab_type": "code",
        "outputId": "7ecfed5c-fea1-4d35-ffa9-d27d8cf6a151",
        "colab": {
          "base_uri": "https://localhost:8080/",
          "height": 281
        }
      },
      "source": [
        "import matplotlib.pyplot as plt\n",
        "\n",
        "X = np.linspace(-np.pi,np.pi , 100 , endpoint = True)\n",
        "\n",
        "C = np.tan(X)\n",
        "\n",
        "\n",
        "plt.plot(X,C ,label = \"Tan\", linewidth = 2.2, linestyle = \"dashed\" ,color =\"black\")\n",
        "plt.title(\"Gráfico Tan\")\n",
        "\n",
        "plt.legend(loc = \"best\")\n",
        "\n",
        "plt.show()"
      ],
      "execution_count": 0,
      "outputs": [
        {
          "output_type": "display_data",
          "data": {
            "image/png": "[encoded data removed]",
            "text/plain": [
              "<Figure size 432x288 with 1 Axes>"
            ]
          },
          "metadata": {
            "tags": []
          }
        }
      ]
    },
    {
      "cell_type": "code",
      "metadata": {
        "id": "udhZdXvQfD1I",
        "colab_type": "code",
        "outputId": "27f3c73b-dcd0-4ac5-95a8-9aa18a9fdd12",
        "colab": {
          "base_uri": "https://localhost:8080/",
          "height": 281
        }
      },
      "source": [
        "import matplotlib.pyplot as plt\n",
        "\n",
        "X = np.linspace(-2*np.pi,2*np.pi , 100 , endpoint = True)\n",
        "\n",
        "T = np.arctan(X)\n",
        "\n",
        "\n",
        "plt.plot(X,T ,label = \"Atan\", linewidth = 2.2, linestyle = \"dashed\" ,color =\"blue\")\n",
        "plt.title(\"Gráfico Arctan\")\n",
        "\n",
        "plt.legend(loc = \"best\")\n",
        "\n",
        "plt.show()"
      ],
      "execution_count": 0,
      "outputs": [
        {
          "output_type": "display_data",
          "data": {
            "image/png": "[encoded data removed]",
            "text/plain": [
              "<Figure size 432x288 with 1 Axes>"
            ]
          },
          "metadata": {
            "tags": []
          }
        }
      ]
    },
    {
      "cell_type": "code",
      "metadata": {
        "id": "qrlQsrwKeCpK",
        "colab_type": "code",
        "outputId": "1033fbf7-bd88-41b3-c3b6-7b2071812210",
        "colab": {
          "base_uri": "https://localhost:8080/",
          "height": 281
        }
      },
      "source": [
        "import matplotlib.pyplot as plt\n",
        "\n",
        "X = np.linspace(-2*np.pi,2*np.pi , 1000 , endpoint = True)\n",
        "\n",
        "C = np.cosh(X)\n",
        "S = np.sinh(X)\n",
        "\n",
        "\n",
        "plt.plot(X,C ,label = \"Cosh\", linewidth = 2.2, linestyle = \"dashed\" ,color =\"green\")\n",
        "plt.plot(X,S , label =\"Senh\" , linewidth = 2.2, linestyle = \"dotted\" ,color =\"purple\")\n",
        "plt.title(\"Gráfico Seno e Cosseno Hiperbólicos\")\n",
        "\n",
        "plt.legend(loc = \"best\")\n",
        "\n",
        "plt.show()"
      ],
      "execution_count": 0,
      "outputs": [
        {
          "output_type": "display_data",
          "data": {
            "image/png": "[encoded data removed]",
            "text/plain": [
              "<Figure size 432x288 with 1 Axes>"
            ]
          },
          "metadata": {
            "tags": []
          }
        }
      ]
    },
    {
      "cell_type": "code",
      "metadata": {
        "id": "y53uYVaUgCD7",
        "colab_type": "code",
        "outputId": "b09f0090-ed57-437c-bcf0-080210ec26cf",
        "colab": {
          "base_uri": "https://localhost:8080/",
          "height": 281
        }
      },
      "source": [
        "import matplotlib.pyplot as plt\n",
        "\n",
        "X = np.linspace(-np.pi,np.pi , 1000 , endpoint = True)\n",
        "\n",
        "C = np.exp(X)\n",
        "\n",
        "\n",
        "plt.plot(X,C ,label = \"exp\", linewidth = 2.2, linestyle = \"solid\" ,color =\"cyan\")\n",
        "plt.title(\"Gráfico Exponencial\")\n",
        "\n",
        "plt.legend(loc = \"best\")\n",
        "\n",
        "plt.show()"
      ],
      "execution_count": 0,
      "outputs": [
        {
          "output_type": "display_data",
          "data": {
            "image/png": "[encoded data removed]",
            "text/plain": [
              "<Figure size 432x288 with 1 Axes>"
            ]
          },
          "metadata": {
            "tags": []
          }
        }
      ]
    },
    {
      "cell_type": "code",
      "metadata": {
        "id": "vzuY5W_dhP6g",
        "colab_type": "code",
        "outputId": "f1996a16-cd2c-40dc-dd05-0cb49a4b3993",
        "colab": {
          "base_uri": "https://localhost:8080/",
          "height": 281
        }
      },
      "source": [
        "import matplotlib.pyplot as plt\n",
        "\n",
        "X = np.linspace(1,1000 , 1000 , endpoint = True)\n",
        "\n",
        "C = np.log10(X)\n",
        "\n",
        "\n",
        "plt.plot(X,C ,label = \"log base 10\", linewidth = 2.2, linestyle = \"solid\" ,color =\"black\")\n",
        "plt.title(\"Gráfico Log_10\")\n",
        "\n",
        "plt.legend(loc = \"best\")\n",
        "\n",
        "plt.show()"
      ],
      "execution_count": 0,
      "outputs": [
        {
          "output_type": "display_data",
          "data": {
            "image/png": "[encoded data removed]",
            "text/plain": [
              "<Figure size 432x288 with 1 Axes>"
            ]
          },
          "metadata": {
            "tags": []
          }
        }
      ]
    },
    {
      "cell_type": "code",
      "metadata": {
        "id": "FvDN5oFghlFQ",
        "colab_type": "code",
        "outputId": "0784d64c-e481-4d2f-c964-4f360317203f",
        "colab": {
          "base_uri": "https://localhost:8080/",
          "height": 281
        }
      },
      "source": [
        "import matplotlib.pyplot as plt\n",
        "\n",
        "X = np.linspace(1,1000 , 1000 , endpoint = True)\n",
        "\n",
        "C = np.sqrt(X)\n",
        "\n",
        "\n",
        "plt.plot(X,C ,label = \"raiz\", linewidth = 2.2, linestyle = \"solid\" ,color =\"magenta\")\n",
        "plt.title(\"Gráfico Raiz Quadrada\")\n",
        "\n",
        "plt.legend(loc = \"best\")\n",
        "\n",
        "plt.show()"
      ],
      "execution_count": 0,
      "outputs": [
        {
          "output_type": "display_data",
          "data": {
            "image/png": "[encoded data removed]",
            "text/plain": [
              "<Figure size 432x288 with 1 Axes>"
            ]
          },
          "metadata": {
            "tags": []
          }
        }
      ]
    },
    {
      "cell_type": "markdown",
      "metadata": {
        "id": "PrS_KqOIftlZ",
        "colab_type": "text"
      },
      "source": [
        "### Gráfico de dois eixos x ou y"
      ]
    },
    {
      "cell_type": "code",
      "metadata": {
        "id": "QaHfoOwBjie3",
        "colab_type": "code",
        "outputId": "6e16d4c9-4640-4389-8522-80c6af916ec3",
        "colab": {
          "base_uri": "https://localhost:8080/",
          "height": 297
        }
      },
      "source": [
        "import numpy as np\n",
        "import matplotlib.pyplot as plt\n",
        "\n",
        "\n",
        "X = np.linspace(-2*np.pi,2*np.pi , 500 , endpoint = True)\n",
        "\n",
        "T = np.linspace(-np.pi,np.pi , 500 , endpoint = True)\n",
        "\n",
        "C = np.cos(X)\n",
        "S = np.exp (T)\n",
        "\n",
        "####### AQUI EM BAIXO \n",
        "\n",
        "fig, ax1 = plt.subplots()\n",
        "\n",
        "\n",
        "###FUNÇÃO PLOTADA NO PRIMEIRO EIXO\n",
        "ax1.plot (X,C , label ='cosseno variando no X aleatório' , linewidth = 2.2 , linestyle = \"dashed\" , color = \"red\")\n",
        "\n",
        "ax2 = ax1.twinx()\n",
        "ax3 = ax1.twiny()\n",
        "\n",
        "###### FUNÇÃO PLOTADA NO SEGUNDO EIXO\n",
        "\n",
        "ax2.plot(T,S , color=\"k\" , label='seno variando no T aleatório')\n",
        "\n",
        "\n",
        "fig.tight_layout()\n",
        "\n",
        "\n",
        "\n",
        "\n",
        "\n",
        "\n"
      ],
      "execution_count": 0,
      "outputs": [
        {
          "output_type": "display_data",
          "data": {
            "image/png": "[encoded data removed]",
            "text/plain": [
              "<Figure size 432x288 with 3 Axes>"
            ]
          },
          "metadata": {
            "tags": []
          }
        }
      ]
    },
    {
      "cell_type": "code",
      "metadata": {
        "id": "FewiNBGvlqz7",
        "colab_type": "code",
        "outputId": "8385c917-d5cc-4ff9-efbb-90d16a4e4d1e",
        "colab": {
          "base_uri": "https://localhost:8080/",
          "height": 297
        }
      },
      "source": [
        "import numpy as np\n",
        "import matplotlib.pyplot as plt\n",
        "\n",
        "\n",
        "X = np.linspace(-2*np.pi,2*np.pi , 500 , endpoint = True)\n",
        "\n",
        "T = np.linspace(-np.pi,np.pi , 500 , endpoint = True)\n",
        "\n",
        "C = np.cos(X)\n",
        "S = np.cos (T)\n",
        "\n",
        "####### AQUI EM BAIXO\n",
        "\n",
        "fig, ax1 = plt.subplots()\n",
        "\n",
        "ax1.plot (X,C , label =\"cosseno\" , linewidth = 2.2 , linestyle = \"dashed\" , color = \"red\")\n",
        "\n",
        "ax2 = ax1.twinx()\n",
        "ax3 = ax1.twiny()\n",
        "\n",
        "ax2.vlines(-2,0,1 , color=\"k\") ### cria linha vertical vertical\n",
        "\n",
        "ax2.vlines(0,0,1 , color=\"blue\") ### cria linha vertical vertical\n",
        "\n",
        "\n",
        "\n",
        "ax2.set_ylabel(\"y2\")\n",
        "ax1.set_ylabel(\"y1\")\n",
        "ax1.set_xlabel(\"x1\")\n",
        "ax3.set_xlabel(\"x2\")\n",
        "\n",
        "\n",
        "ax2.tick_params(direction = 'in') ### colocando ticks pra dentro do gráfico\n",
        "\n",
        "\n",
        "\n",
        "fig.tight_layout()\n",
        "\n",
        "\n"
      ],
      "execution_count": 0,
      "outputs": [
        {
          "output_type": "display_data",
          "data": {
            "image/png": "[encoded data removed]",
            "text/plain": [
              "<Figure size 432x288 with 3 Axes>"
            ]
          },
          "metadata": {
            "tags": []
          }
        }
      ]
    },
    {
      "cell_type": "markdown",
      "metadata": {
        "id": "_RAQfredkdEH",
        "colab_type": "text"
      },
      "source": [
        "#### ATIVIDADE : Plot os Gráficos das integrais e derivadas realizadas acima, utilizando o que foi aprendido até o momento"
      ]
    },
    {
      "cell_type": "markdown",
      "metadata": {
        "id": "aIECHHCMlNEX",
        "colab_type": "text"
      },
      "source": [
        "## Parte 3\n",
        "\n"
      ]
    },
    {
      "cell_type": "markdown",
      "metadata": {
        "id": "hUKS5mSjlijG",
        "colab_type": "text"
      },
      "source": [
        "#### Funções em programação\n",
        "\n",
        "\n",
        "\n"
      ]
    },
    {
      "cell_type": "code",
      "metadata": {
        "id": "jjHy6f_xn9Q_",
        "colab_type": "code",
        "outputId": "84de6452-1617-4530-d716-a46a256afa0a",
        "colab": {
          "base_uri": "https://localhost:8080/",
          "height": 34
        }
      },
      "source": [
        "##definindo uma função\n",
        "\n",
        "def f():\n",
        "  return\n",
        "\n",
        "print (f())"
      ],
      "execution_count": 0,
      "outputs": [
        {
          "output_type": "stream",
          "text": [
            "None\n"
          ],
          "name": "stdout"
        }
      ]
    },
    {
      "cell_type": "code",
      "metadata": {
        "id": "s-R8KNxDo-pg",
        "colab_type": "code",
        "outputId": "f95839cc-3000-477c-ab97-43bbf908df91",
        "colab": {
          "base_uri": "https://localhost:8080/",
          "height": 34
        }
      },
      "source": [
        "def f():\n",
        "  return \"oi\"\n",
        "\n",
        "print(f())"
      ],
      "execution_count": 0,
      "outputs": [
        {
          "output_type": "stream",
          "text": [
            "oi\n"
          ],
          "name": "stdout"
        }
      ]
    },
    {
      "cell_type": "code",
      "metadata": {
        "id": "7Fx0o-N9pGMQ",
        "colab_type": "code",
        "outputId": "fa835b6e-bffe-4e8e-d312-58c400f9a765",
        "colab": {
          "base_uri": "https://localhost:8080/",
          "height": 34
        }
      },
      "source": [
        "def f(x):\n",
        "  return x*x\n",
        "\n",
        "print(f(10))"
      ],
      "execution_count": 0,
      "outputs": [
        {
          "output_type": "stream",
          "text": [
            "100\n"
          ],
          "name": "stdout"
        }
      ]
    },
    {
      "cell_type": "code",
      "metadata": {
        "id": "z2diRQQfpOM4",
        "colab_type": "code",
        "outputId": "f427a133-c38f-4927-8387-c63d6a75ecaf",
        "colab": {
          "base_uri": "https://localhost:8080/",
          "height": 62
        }
      },
      "source": [
        "### usando função para calcular o fatorial\n",
        "\n",
        "def fat(n):\n",
        "  \"return fatorial de n\"\n",
        "  for i in range(n-1,1,-1): n*=i\n",
        "  return n\n",
        "\n",
        "a = fat(15)\n",
        "\n",
        "mview(a)"
      ],
      "execution_count": 0,
      "outputs": [
        {
          "output_type": "display_data",
          "data": {
            "text/html": [
              "<script src='https://cdnjs.cloudflare.com/ajax/libs/mathjax/2.7.3/latest.js?config=default'></script>"
            ],
            "text/plain": [
              "<IPython.core.display.HTML object>"
            ]
          },
          "metadata": {
            "tags": []
          }
        },
        {
          "output_type": "execute_result",
          "data": {
            "text/latex": "$$1307674368000$$",
            "text/plain": [
              "<IPython.core.display.Math object>"
            ]
          },
          "metadata": {
            "tags": []
          },
          "execution_count": 34
        }
      ]
    },
    {
      "cell_type": "code",
      "metadata": {
        "id": "qyXQP_JdTgSm",
        "colab_type": "code",
        "colab": {}
      },
      "source": [
        "##### COLOQUE AQUI AQUELA FUNÇÃO PARA CALCULAR OS ERROS, QUE VOCÊ TINHA FEITO NO LAB"
      ],
      "execution_count": 0,
      "outputs": []
    },
    {
      "cell_type": "markdown",
      "metadata": {
        "id": "dm5gOLb6GFdx",
        "colab_type": "text"
      },
      "source": [
        "### Atividade - Pêndulo Simples\n",
        "\n",
        "![alt text](https://gifsdefisica.files.wordpress.com/2015/03/pendulo-simples.gif)\n",
        "\n"
      ]
    },
    {
      "cell_type": "code",
      "metadata": {
        "id": "0iqTipC-G6RJ",
        "colab_type": "code",
        "outputId": "53a82009-e428-4b04-df04-59b8b360c3f8",
        "colab": {
          "base_uri": "https://localhost:8080/",
          "height": 122
        }
      },
      "source": [
        "from sympy.interactive import printing\n",
        "printing.init_printing(use_latex=True)\n",
        "from sympy import *\n",
        "import sympy as sp\n",
        "import numpy as np\n",
        "\n",
        "pendulo = sp.Function('pendulo')\n",
        "\n",
        "T,L,g = sp.symbols('T L g')\n",
        "\n",
        "pendulo = Eq( T, 2*sp.pi*((L/g)**(1/2))) ###### período do pêndulo simples\n",
        "\n",
        "\n",
        "a = display(pendulo)\n",
        "\n",
        "mview(a)"
      ],
      "execution_count": 0,
      "outputs": [
        {
          "output_type": "display_data",
          "data": {
            "image/png": "[encoded data removed]",
            "text/latex": "$$T = 2 \\pi \\left(\\frac{L}{g}\\right)^{0.5}$$",
            "text/plain": [
              "           0.5\n",
              "        ⎛L⎞   \n",
              "T = 2⋅π⋅⎜─⎟   \n",
              "        ⎝g⎠   "
            ]
          },
          "metadata": {
            "tags": []
          }
        },
        {
          "output_type": "display_data",
          "data": {
            "text/html": [
              "<script src='https://cdnjs.cloudflare.com/ajax/libs/mathjax/2.7.3/latest.js?config=default'></script>"
            ],
            "text/plain": [
              "<IPython.core.display.HTML object>"
            ]
          },
          "metadata": {
            "tags": []
          }
        },
        {
          "output_type": "execute_result",
          "data": {
            "text/latex": "$$\\mathrm{None}$$",
            "text/plain": [
              "<IPython.core.display.Math object>"
            ]
          },
          "metadata": {
            "tags": []
          },
          "execution_count": 63
        }
      ]
    },
    {
      "cell_type": "markdown",
      "metadata": {
        "id": "TkiId8F2Sqma",
        "colab_type": "text"
      },
      "source": [
        "Construa um gráfico completo de $T^2 $ X $L$ com os dados abaixo;\n",
        "Mostre os valores de $T^2$ na tabela do pandas;\n",
        "faça o fit deste gráfico e determine o valor da gravidade;\n",
        "E print na tela;"
      ]
    },
    {
      "cell_type": "markdown",
      "metadata": {
        "id": "fXwWnWd8UU5S",
        "colab_type": "text"
      },
      "source": [
        "#### LISTA DE DADOS PARA O PROBLEMA"
      ]
    },
    {
      "cell_type": "code",
      "metadata": {
        "id": "SRU_V8vKUTBe",
        "colab_type": "code",
        "colab": {}
      },
      "source": [
        "## criando uma lista de dados para o problema\n",
        "T=[]\n",
        "L=[]\n",
        "l=0\n",
        "t=0\n",
        "\n",
        "\n",
        "import numpy as np\n",
        "import scipy.constants as sci\n",
        "\n",
        "for i in range(10):\n",
        "  l = l + 20\n",
        "  L.append(l)\n",
        "for i in range(10):\n",
        "  t = 2*np.pi*((L[i]/sci.g)**(0.5))\n",
        "  T.append(t)\n",
        "\n",
        "import pandas as pd\n",
        "  \n",
        "dados_atividade1 = pd.DataFrame({'Periodo': T  , 'L':L})"
      ],
      "execution_count": 0,
      "outputs": []
    },
    {
      "cell_type": "code",
      "metadata": {
        "id": "NiWwT3z4XTCJ",
        "colab_type": "code",
        "outputId": "1ae64ff1-c2f2-4fb2-ac2a-abd32543bdd7",
        "colab": {
          "base_uri": "https://localhost:8080/",
          "height": 359
        }
      },
      "source": [
        "dados_atividade1.head(10)"
      ],
      "execution_count": 0,
      "outputs": [
        {
          "output_type": "execute_result",
          "data": {
            "text/html": [
              "<div>\n",
              "<style scoped>\n",
              "    .dataframe tbody tr th:only-of-type {\n",
              "        vertical-align: middle;\n",
              "    }\n",
              "\n",
              "    .dataframe tbody tr th {\n",
              "        vertical-align: top;\n",
              "    }\n",
              "\n",
              "    .dataframe thead th {\n",
              "        text-align: right;\n",
              "    }\n",
              "</style>\n",
              "<table border=\"1\" class=\"dataframe\">\n",
              "  <thead>\n",
              "    <tr style=\"text-align: right;\">\n",
              "      <th></th>\n",
              "      <th>Periodo</th>\n",
              "      <th>L</th>\n",
              "    </tr>\n",
              "  </thead>\n",
              "  <tbody>\n",
              "    <tr>\n",
              "      <th>0</th>\n",
              "      <td>8.972935</td>\n",
              "      <td>20</td>\n",
              "    </tr>\n",
              "    <tr>\n",
              "      <th>1</th>\n",
              "      <td>12.689647</td>\n",
              "      <td>40</td>\n",
              "    </tr>\n",
              "    <tr>\n",
              "      <th>2</th>\n",
              "      <td>15.541580</td>\n",
              "      <td>60</td>\n",
              "    </tr>\n",
              "    <tr>\n",
              "      <th>3</th>\n",
              "      <td>17.945870</td>\n",
              "      <td>80</td>\n",
              "    </tr>\n",
              "    <tr>\n",
              "      <th>4</th>\n",
              "      <td>20.064093</td>\n",
              "      <td>100</td>\n",
              "    </tr>\n",
              "    <tr>\n",
              "      <th>5</th>\n",
              "      <td>21.979113</td>\n",
              "      <td>120</td>\n",
              "    </tr>\n",
              "    <tr>\n",
              "      <th>6</th>\n",
              "      <td>23.740155</td>\n",
              "      <td>140</td>\n",
              "    </tr>\n",
              "    <tr>\n",
              "      <th>7</th>\n",
              "      <td>25.379293</td>\n",
              "      <td>160</td>\n",
              "    </tr>\n",
              "    <tr>\n",
              "      <th>8</th>\n",
              "      <td>26.918805</td>\n",
              "      <td>180</td>\n",
              "    </tr>\n",
              "    <tr>\n",
              "      <th>9</th>\n",
              "      <td>28.374912</td>\n",
              "      <td>200</td>\n",
              "    </tr>\n",
              "  </tbody>\n",
              "</table>\n",
              "</div>"
            ],
            "text/plain": [
              "     Periodo    L\n",
              "0   8.972935   20\n",
              "1  12.689647   40\n",
              "2  15.541580   60\n",
              "3  17.945870   80\n",
              "4  20.064093  100\n",
              "5  21.979113  120\n",
              "6  23.740155  140\n",
              "7  25.379293  160\n",
              "8  26.918805  180\n",
              "9  28.374912  200"
            ]
          },
          "metadata": {
            "tags": []
          },
          "execution_count": 70
        }
      ]
    },
    {
      "cell_type": "markdown",
      "metadata": {
        "id": "l7VDSCKFbprw",
        "colab_type": "text"
      },
      "source": [
        "### Atividade 2\n",
        "\n",
        "Determine a equação do movimento do exemplo 1 utilizando a biblioteca Sympy e construa um gráfico de espaço por tempo.\n",
        "\n",
        "Faça a propagação de erro para a equação determinada, sabendo que o erro da velocidade é +- 1 m/s e o erro do tempo é de +- 0.1.\n",
        "\n",
        "\n",
        "\n",
        "Equação para determinar o erro\n",
        "\n",
        "![alt text](https://i.imgur.com/37UHIlK.png)"
      ]
    }
  ]
}